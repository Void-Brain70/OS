{
  "nbformat": 4,
  "nbformat_minor": 0,
  "metadata": {
    "colab": {
      "name": "LOCK_Disk_Scheduling_Algorithm.ipynb",
      "provenance": [],
      "collapsed_sections": [],
      "authorship_tag": "ABX9TyOd66tlQCPxBz06yPkpafY8",
      "include_colab_link": true
    },
    "kernelspec": {
      "name": "python3",
      "display_name": "Python 3"
    },
    "language_info": {
      "name": "python"
    }
  },
  "cells": [
    {
      "cell_type": "markdown",
      "metadata": {
        "id": "view-in-github",
        "colab_type": "text"
      },
      "source": [
        "<a href=\"https://colab.research.google.com/github/Void-Brain70/OS/blob/main/LOCK_Disk_Scheduling_Algorithm.ipynb\" target=\"_parent\"><img src=\"https://colab.research.google.com/assets/colab-badge.svg\" alt=\"Open In Colab\"/></a>"
      ]
    },
    {
      "cell_type": "code",
      "metadata": {
        "colab": {
          "base_uri": "https://localhost:8080/"
        },
        "id": "Mkvk6v4NTG29",
        "outputId": "d77b3912-4451-4196-9483-4bc1fe1f4d4b"
      },
      "source": [
        "queue = list(map(int,input(\"Enter the Sequence->\").split()))\n",
        "head  = int(input(\"Head Pointer->\"))"
      ],
      "execution_count": 14,
      "outputs": [
        {
          "output_type": "stream",
          "text": [
            "Enter the Sequence->98 183 37 122 14 124 65 67\n",
            "Head Pointer->53\n"
          ],
          "name": "stdout"
        }
      ]
    },
    {
      "cell_type": "code",
      "metadata": {
        "colab": {
          "base_uri": "https://localhost:8080/"
        },
        "id": "lcm3rSNUUo6A",
        "outputId": "5d099f24-5690-444f-f925-dc91889fe1b7"
      },
      "source": [
        "q1 = queue.copy()\n",
        "q1.append(head)\n",
        "# q1.append(0)\n",
        "q1.sort()\n",
        "q1"
      ],
      "execution_count": 15,
      "outputs": [
        {
          "output_type": "execute_result",
          "data": {
            "text/plain": [
              "[14, 37, 53, 65, 67, 98, 122, 124, 183]"
            ]
          },
          "metadata": {
            "tags": []
          },
          "execution_count": 15
        }
      ]
    },
    {
      "cell_type": "code",
      "metadata": {
        "colab": {
          "base_uri": "https://localhost:8080/"
        },
        "id": "0qsJY_M3UqSQ",
        "outputId": "843099c8-e842-4605-ce3b-6bbd7aa02511"
      },
      "source": [
        "q2 = q1[:q1.index(head)]\n",
        "q2.append(head)\n",
        "q2 = q2[::-1]\n",
        "q2"
      ],
      "execution_count": 16,
      "outputs": [
        {
          "output_type": "execute_result",
          "data": {
            "text/plain": [
              "[53, 37, 14]"
            ]
          },
          "metadata": {
            "tags": []
          },
          "execution_count": 16
        }
      ]
    },
    {
      "cell_type": "code",
      "metadata": {
        "colab": {
          "base_uri": "https://localhost:8080/"
        },
        "id": "JofIStUsUsPg",
        "outputId": "8efea45c-b006-45ac-bae4-b7a6ed6083ca"
      },
      "source": [
        "q3 = q1[q1.index(head):]\n",
        "q3.sort()\n",
        "# q3[q3.index(head)]=0\n",
        "q3"
      ],
      "execution_count": 17,
      "outputs": [
        {
          "output_type": "execute_result",
          "data": {
            "text/plain": [
              "[53, 65, 67, 98, 122, 124, 183]"
            ]
          },
          "metadata": {
            "tags": []
          },
          "execution_count": 17
        }
      ]
    },
    {
      "cell_type": "code",
      "metadata": {
        "colab": {
          "base_uri": "https://localhost:8080/"
        },
        "id": "Yik5ei0LUtmI",
        "outputId": "06d1ad84-907c-45d5-fad3-5c7364dea84d"
      },
      "source": [
        "cost = []\n",
        "for i in range(len(q2)-1):\n",
        "  cost.append(abs(q2[i] - q2[i+1]))\n",
        "  print('sub({}-{})'.format(q2[i],q2[i+1]),end='+')\n",
        "    \n",
        "\n",
        "for i in range(len(q3)-1):\n",
        "  cost.append(abs(q3[i] - q3[i+1]))\n",
        "  if i == (len(q3)-2):\n",
        "    print('sub({}-{})'.format(q3[i],q3[i+1]))\n",
        "  else:\n",
        "    print('sub({}-{})'.format(q3[i],q3[i+1]),end='+')"
      ],
      "execution_count": 18,
      "outputs": [
        {
          "output_type": "stream",
          "text": [
            "sub(53-37)+sub(37-14)+sub(53-65)+sub(65-67)+sub(67-98)+sub(98-122)+sub(122-124)+sub(124-183)\n"
          ],
          "name": "stdout"
        }
      ]
    },
    {
      "cell_type": "code",
      "metadata": {
        "colab": {
          "base_uri": "https://localhost:8080/"
        },
        "id": "IwlcpdnXUu6A",
        "outputId": "829e8bdc-cbcd-4188-8546-062b2f13f8f9"
      },
      "source": [
        "q2.extend(q3[1:])\n",
        "print(q2)"
      ],
      "execution_count": 19,
      "outputs": [
        {
          "output_type": "stream",
          "text": [
            "[53, 37, 14, 65, 67, 98, 122, 124, 183]\n"
          ],
          "name": "stdout"
        }
      ]
    },
    {
      "cell_type": "code",
      "metadata": {
        "colab": {
          "base_uri": "https://localhost:8080/"
        },
        "id": "QDQI8KAuUwB3",
        "outputId": "3173732d-fd0a-48e8-db75-6c7bd0c60ee5"
      },
      "source": [
        "print('Total path cost is->',sum(cost))"
      ],
      "execution_count": 20,
      "outputs": [
        {
          "output_type": "stream",
          "text": [
            "Total path cost is-> 169\n"
          ],
          "name": "stdout"
        }
      ]
    }
  ]
}