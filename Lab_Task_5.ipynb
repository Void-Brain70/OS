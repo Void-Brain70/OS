{
  "nbformat": 4,
  "nbformat_minor": 0,
  "metadata": {
    "colab": {
      "name": "Lab_Task_5.ipynb",
      "provenance": [],
      "collapsed_sections": [],
      "authorship_tag": "ABX9TyNY+fsvOF4dBwGxoMEWR9R6",
      "include_colab_link": true
    },
    "kernelspec": {
      "name": "python3",
      "display_name": "Python 3"
    },
    "language_info": {
      "name": "python"
    }
  },
  "cells": [
    {
      "cell_type": "markdown",
      "metadata": {
        "id": "view-in-github",
        "colab_type": "text"
      },
      "source": [
        "<a href=\"https://colab.research.google.com/github/Void-Brain70/OS/blob/main/Lab_Task_5.ipynb\" target=\"_parent\"><img src=\"https://colab.research.google.com/assets/colab-badge.svg\" alt=\"Open In Colab\"/></a>"
      ]
    },
    {
      "cell_type": "markdown",
      "metadata": {
        "id": "9_Y_E6DkeTll"
      },
      "source": [
        "**FCFS Disk Scheduling Algorithm**"
      ]
    },
    {
      "cell_type": "code",
      "metadata": {
        "colab": {
          "base_uri": "https://localhost:8080/"
        },
        "id": "PiggQHLDeOzn",
        "outputId": "1c569346-d4f4-44c4-c4da-746cc09ad96b"
      },
      "source": [
        "queue = list(map(int,input(\"Enter the Sequence->\").split()))\n",
        "head  = int(input(\"Head Pointer->\"))"
      ],
      "execution_count": 1,
      "outputs": [
        {
          "output_type": "stream",
          "text": [
            "Enter the Sequence->98 183 37 122 14 124 65 67\n",
            "Head Pointer->53\n"
          ],
          "name": "stdout"
        }
      ]
    },
    {
      "cell_type": "code",
      "metadata": {
        "colab": {
          "base_uri": "https://localhost:8080/"
        },
        "id": "9lZDFQiKecWl",
        "outputId": "12d69349-49b2-4ff4-eecf-437558c0f543"
      },
      "source": [
        "queue.insert(0,head)\n",
        "print('The Queueing Path->',queue)"
      ],
      "execution_count": 2,
      "outputs": [
        {
          "output_type": "stream",
          "text": [
            "The Queueing Path-> [53, 98, 183, 37, 122, 14, 124, 65, 67]\n"
          ],
          "name": "stdout"
        }
      ]
    },
    {
      "cell_type": "code",
      "metadata": {
        "colab": {
          "base_uri": "https://localhost:8080/"
        },
        "id": "5JZX-AMXedmT",
        "outputId": "b60493c0-700b-4935-bdaa-c565680c692c"
      },
      "source": [
        "t = [0]\n",
        "\n",
        "for i in range(1,len(queue)):\n",
        "  if i == len(queue)-1:\n",
        "    print(\"sub({}-{})\".format(queue[i],queue[i-1]))\n",
        "  else:\n",
        "    print(\"sub({}-{})\".format(queue[i],queue[i-1]),end='+')\n",
        "  t.append(abs(queue[i]-queue[i-1]))  \n",
        "\n",
        "\n",
        "print('Total path cost is->',sum(t))  "
      ],
      "execution_count": 3,
      "outputs": [
        {
          "output_type": "stream",
          "text": [
            "sub(98-53)+sub(183-98)+sub(37-183)+sub(122-37)+sub(14-122)+sub(124-14)+sub(65-124)+sub(67-65)\n",
            "Total path cost is-> 640\n"
          ],
          "name": "stdout"
        }
      ]
    }
  ]
}