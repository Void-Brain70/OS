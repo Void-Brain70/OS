{
  "nbformat": 4,
  "nbformat_minor": 0,
  "metadata": {
    "colab": {
      "name": "Lab_Task_5.ipynb",
      "provenance": [],
      "collapsed_sections": [],
      "authorship_tag": "ABX9TyN6qRlH8zwBU7i6JoWsyVzD",
      "include_colab_link": true
    },
    "kernelspec": {
      "name": "python3",
      "display_name": "Python 3"
    },
    "language_info": {
      "name": "python"
    }
  },
  "cells": [
    {
      "cell_type": "markdown",
      "metadata": {
        "id": "view-in-github",
        "colab_type": "text"
      },
      "source": [
        "<a href=\"https://colab.research.google.com/github/Void-Brain70/OS/blob/main/Lab_Task_5.ipynb\" target=\"_parent\"><img src=\"https://colab.research.google.com/assets/colab-badge.svg\" alt=\"Open In Colab\"/></a>"
      ]
    },
    {
      "cell_type": "markdown",
      "metadata": {
        "id": "9_Y_E6DkeTll"
      },
      "source": [
        "**FCFS Disk Scheduling Algorithm**"
      ]
    },
    {
      "cell_type": "code",
      "metadata": {
        "colab": {
          "base_uri": "https://localhost:8080/"
        },
        "id": "PiggQHLDeOzn",
        "outputId": "54d585a1-fc00-4bdd-ce9d-419472d57159"
      },
      "source": [
        "queue = list(map(int,input(\"Enter The Sequence->\").split()))\n",
        "head  = int(input(\"Head Pointer->\"))"
      ],
      "execution_count": null,
      "outputs": [
        {
          "output_type": "stream",
          "text": [
            "Enter The Sequence->98 183 37 122 14 124 65 67\n",
            "Head Pointer->53\n"
          ],
          "name": "stdout"
        }
      ]
    },
    {
      "cell_type": "code",
      "metadata": {
        "colab": {
          "base_uri": "https://localhost:8080/"
        },
        "id": "9lZDFQiKecWl",
        "outputId": "483a5f07-7ee7-4e16-aa78-6da5b53276a8"
      },
      "source": [
        "queue.insert(0,head)\n",
        "print('The Queueing Path->',queue)"
      ],
      "execution_count": null,
      "outputs": [
        {
          "output_type": "stream",
          "text": [
            "The Queueing Path-> [53, 98, 183, 37, 122, 14, 124, 65, 67]\n"
          ],
          "name": "stdout"
        }
      ]
    },
    {
      "cell_type": "code",
      "metadata": {
        "colab": {
          "base_uri": "https://localhost:8080/"
        },
        "id": "5JZX-AMXedmT",
        "outputId": "d75f9d2b-ccc4-4e8a-bc59-6073a06a5fd9"
      },
      "source": [
        "t = [0]\n",
        "\n",
        "for i in range(1,len(queue)):\n",
        "  if i == len(queue)-1:\n",
        "    print(\"sub({}-{})\".format(queue[i],queue[i-1]))\n",
        "  else:\n",
        "    print(\"sub({}-{})\".format(queue[i],queue[i-1]),end='+')\n",
        "  t.append(abs(queue[i]-queue[i-1]))  \n",
        "\n",
        "\n",
        "# print('Total path cost is->',sum(t))  "
      ],
      "execution_count": null,
      "outputs": [
        {
          "output_type": "stream",
          "text": [
            "sub(98-53)+sub(183-98)+sub(37-183)+sub(122-37)+sub(14-122)+sub(124-14)+sub(65-124)+sub(67-65)\n"
          ],
          "name": "stdout"
        }
      ]
    },
    {
      "cell_type": "code",
      "metadata": {
        "colab": {
          "base_uri": "https://localhost:8080/"
        },
        "id": "hYULkco5wB6O",
        "outputId": "68c1420d-9dc8-498e-d471-9224009cb012"
      },
      "source": [
        "print('Total path cost is->',sum(t))"
      ],
      "execution_count": null,
      "outputs": [
        {
          "output_type": "stream",
          "text": [
            "Total path cost is-> 640\n"
          ],
          "name": "stdout"
        }
      ]
    }
  ]
}