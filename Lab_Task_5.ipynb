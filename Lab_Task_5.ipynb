{
  "nbformat": 4,
  "nbformat_minor": 0,
  "metadata": {
    "colab": {
      "name": "Lab_Task_5.ipynb",
      "provenance": [],
      "collapsed_sections": [],
      "authorship_tag": "ABX9TyMlPv1ZYv4FMjxGMcsip3hT",
      "include_colab_link": true
    },
    "kernelspec": {
      "name": "python3",
      "display_name": "Python 3"
    },
    "language_info": {
      "name": "python"
    }
  },
  "cells": [
    {
      "cell_type": "markdown",
      "metadata": {
        "id": "view-in-github",
        "colab_type": "text"
      },
      "source": [
        "<a href=\"https://colab.research.google.com/github/Void-Brain70/OS/blob/main/Lab_Task_5.ipynb\" target=\"_parent\"><img src=\"https://colab.research.google.com/assets/colab-badge.svg\" alt=\"Open In Colab\"/></a>"
      ]
    },
    {
      "cell_type": "markdown",
      "metadata": {
        "id": "9_Y_E6DkeTll"
      },
      "source": [
        "**FCFS Disk Scheduling Algorithm**"
      ]
    },
    {
      "cell_type": "code",
      "metadata": {
        "colab": {
          "base_uri": "https://localhost:8080/"
        },
        "id": "PiggQHLDeOzn",
        "outputId": "ef2a148c-2a22-4a59-c51f-35b283781cc7"
      },
      "source": [
        "queue = list(map(int,input(\"Enter The Sequence->\").split()))\n",
        "head  = int(input(\"Head Pointer->\"))"
      ],
      "execution_count": 1,
      "outputs": [
        {
          "output_type": "stream",
          "text": [
            "Enter The Sequence->98 183 37 122 14 124 65 67\n",
            "Head Pointer->53\n"
          ],
          "name": "stdout"
        }
      ]
    },
    {
      "cell_type": "code",
      "metadata": {
        "colab": {
          "base_uri": "https://localhost:8080/"
        },
        "id": "9lZDFQiKecWl",
        "outputId": "8febf83c-ae40-48ce-c2a7-257c62cd3189"
      },
      "source": [
        "queue.insert(0,head)\n",
        "print('The Queueing Path->',queue)"
      ],
      "execution_count": 2,
      "outputs": [
        {
          "output_type": "stream",
          "text": [
            "The Queueing Path-> [53, 98, 183, 37, 122, 14, 124, 65, 67]\n"
          ],
          "name": "stdout"
        }
      ]
    },
    {
      "cell_type": "code",
      "metadata": {
        "colab": {
          "base_uri": "https://localhost:8080/"
        },
        "id": "5JZX-AMXedmT",
        "outputId": "982b4b99-7c5e-4d21-df0a-63e8f79cd458"
      },
      "source": [
        "t = [0]\n",
        "\n",
        "for i in range(1,len(queue)):\n",
        "  if i == len(queue)-1:\n",
        "    print(\"sub({}-{})\".format(queue[i],queue[i-1]))\n",
        "  else:\n",
        "    print(\"sub({}-{})\".format(queue[i],queue[i-1]),end='+')\n",
        "  t.append(abs(queue[i]-queue[i-1]))  "
      ],
      "execution_count": 3,
      "outputs": [
        {
          "output_type": "stream",
          "text": [
            "sub(98-53)+sub(183-98)+sub(37-183)+sub(122-37)+sub(14-122)+sub(124-14)+sub(65-124)+sub(67-65)\n"
          ],
          "name": "stdout"
        }
      ]
    },
    {
      "cell_type": "code",
      "metadata": {
        "colab": {
          "base_uri": "https://localhost:8080/"
        },
        "id": "hYULkco5wB6O",
        "outputId": "5a276ca6-02b3-43fc-c6ed-223adf490ba7"
      },
      "source": [
        "print('Total path cost is->',sum(t))"
      ],
      "execution_count": 4,
      "outputs": [
        {
          "output_type": "stream",
          "text": [
            "Total path cost is-> 640\n"
          ],
          "name": "stdout"
        }
      ]
    }
  ]
}