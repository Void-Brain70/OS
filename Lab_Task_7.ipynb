{
  "nbformat": 4,
  "nbformat_minor": 0,
  "metadata": {
    "colab": {
      "name": "Lab_Task_7.ipynb",
      "provenance": [],
      "collapsed_sections": [],
      "authorship_tag": "ABX9TyMLBvnJhOWNUi0oZ0vQ4o9f",
      "include_colab_link": true
    },
    "kernelspec": {
      "name": "python3",
      "display_name": "Python 3"
    },
    "language_info": {
      "name": "python"
    }
  },
  "cells": [
    {
      "cell_type": "markdown",
      "metadata": {
        "id": "view-in-github",
        "colab_type": "text"
      },
      "source": [
        "<a href=\"https://colab.research.google.com/github/Void-Brain70/OS/blob/main/Lab_Task_7.ipynb\" target=\"_parent\"><img src=\"https://colab.research.google.com/assets/colab-badge.svg\" alt=\"Open In Colab\"/></a>"
      ]
    },
    {
      "cell_type": "markdown",
      "metadata": {
        "id": "u0TL0gVne06a"
      },
      "source": [
        "**SCAN Disk Scheduling Algorithm**"
      ]
    },
    {
      "cell_type": "code",
      "metadata": {
        "colab": {
          "base_uri": "https://localhost:8080/"
        },
        "id": "KvWjkmoweyeX",
        "outputId": "f3cd5586-bcbd-4a28-c0ad-16e18016e102"
      },
      "source": [
        "queue = list(map(int,input(\"Enter The Sequence->\").split()))\n",
        "head  = int(input(\"Head Pointer->\"))"
      ],
      "execution_count": null,
      "outputs": [
        {
          "output_type": "stream",
          "text": [
            "Enter The Sequence->98 183 37 122 14 124 65 67\n",
            "Head Pointer->53\n"
          ],
          "name": "stdout"
        }
      ]
    },
    {
      "cell_type": "code",
      "metadata": {
        "colab": {
          "base_uri": "https://localhost:8080/"
        },
        "id": "BY9ENhXNfLoL",
        "outputId": "2495fbe7-9e52-430d-be9a-df2e4fa4ae57"
      },
      "source": [
        "q1 = queue.copy()\n",
        "q1.append(head)\n",
        "q1.append(0)\n",
        "q1.sort()\n",
        "q1"
      ],
      "execution_count": null,
      "outputs": [
        {
          "output_type": "execute_result",
          "data": {
            "text/plain": [
              "[0, 14, 37, 53, 65, 67, 98, 122, 124, 183]"
            ]
          },
          "metadata": {},
          "execution_count": 2
        }
      ]
    },
    {
      "cell_type": "code",
      "metadata": {
        "colab": {
          "base_uri": "https://localhost:8080/"
        },
        "id": "68eCxs1VfNfz",
        "outputId": "a0a6c653-d376-4492-ceee-a9d15b1dcef9"
      },
      "source": [
        "q2 = q1[:q1.index(head)]\n",
        "q2.append(head)\n",
        "q2 = q2[::-1]\n",
        "q2"
      ],
      "execution_count": null,
      "outputs": [
        {
          "output_type": "execute_result",
          "data": {
            "text/plain": [
              "[53, 37, 14, 0]"
            ]
          },
          "metadata": {},
          "execution_count": 3
        }
      ]
    },
    {
      "cell_type": "code",
      "metadata": {
        "colab": {
          "base_uri": "https://localhost:8080/"
        },
        "id": "3KjCtMpufPvr",
        "outputId": "69e102cb-d8cb-44f0-8cd4-5ea37c17887e"
      },
      "source": [
        "q3 = q1[q1.index(head):]\n",
        "q3.sort()\n",
        "q3[q3.index(head)]=0\n",
        "q3"
      ],
      "execution_count": null,
      "outputs": [
        {
          "output_type": "execute_result",
          "data": {
            "text/plain": [
              "[0, 65, 67, 98, 122, 124, 183]"
            ]
          },
          "metadata": {},
          "execution_count": 4
        }
      ]
    },
    {
      "cell_type": "code",
      "metadata": {
        "colab": {
          "base_uri": "https://localhost:8080/"
        },
        "id": "nAEfNVF1fSDz",
        "outputId": "1c21d6a3-a48a-49b3-b800-4ca8aa300ca1"
      },
      "source": [
        "cost = []\n",
        "for i in range(len(q2)-1):\n",
        "  cost.append(abs(q2[i] - q2[i+1]))\n",
        "  print('sub({}-{})'.format(q2[i],q2[i+1]),end='+')\n",
        "    \n",
        "\n",
        "for i in range(len(q3)-1):\n",
        "  cost.append(abs(q3[i] - q3[i+1]))\n",
        "  if i == (len(q3)-2):\n",
        "    print('sub({}-{})'.format(q3[i],q3[i+1]))\n",
        "  else:\n",
        "    print('sub({}-{})'.format(q3[i],q3[i+1]),end='+')"
      ],
      "execution_count": null,
      "outputs": [
        {
          "output_type": "stream",
          "text": [
            "sub(53-37)+sub(37-14)+sub(14-0)+sub(0-65)+sub(65-67)+sub(67-98)+sub(98-122)+sub(122-124)+sub(124-183)\n"
          ],
          "name": "stdout"
        }
      ]
    },
    {
      "cell_type": "code",
      "metadata": {
        "colab": {
          "base_uri": "https://localhost:8080/"
        },
        "id": "q9UiRq37fUgT",
        "outputId": "6cefd8ae-9bbc-45ff-83c6-e4fa2fff9b3f"
      },
      "source": [
        "q2.extend(q3[1:])\n",
        "print(q2)"
      ],
      "execution_count": null,
      "outputs": [
        {
          "output_type": "stream",
          "text": [
            "[53, 37, 14, 0, 65, 67, 98, 122, 124, 183]\n"
          ],
          "name": "stdout"
        }
      ]
    },
    {
      "cell_type": "code",
      "metadata": {
        "colab": {
          "base_uri": "https://localhost:8080/"
        },
        "id": "Qr46cINYfWMs",
        "outputId": "e53a3a19-3d29-4bd7-e284-236884dac02b"
      },
      "source": [
        "print('Total path cost is->',sum(cost))"
      ],
      "execution_count": null,
      "outputs": [
        {
          "output_type": "stream",
          "text": [
            "Total path cost is-> 236\n"
          ],
          "name": "stdout"
        }
      ]
    }
  ]
}