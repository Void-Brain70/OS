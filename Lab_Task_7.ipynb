{
  "nbformat": 4,
  "nbformat_minor": 0,
  "metadata": {
    "colab": {
      "name": "Lab_Task_7.ipynb",
      "provenance": [],
      "collapsed_sections": [],
      "authorship_tag": "ABX9TyMLBvnJhOWNUi0oZ0vQ4o9f",
      "include_colab_link": true
    },
    "kernelspec": {
      "name": "python3",
      "display_name": "Python 3"
    },
    "language_info": {
      "name": "python"
    }
  },
  "cells": [
    {
      "cell_type": "markdown",
      "metadata": {
        "id": "view-in-github",
        "colab_type": "text"
      },
      "source": [
        "<a href=\"https://colab.research.google.com/github/Void-Brain70/OS/blob/main/Lab_Task_7.ipynb\" target=\"_parent\"><img src=\"https://colab.research.google.com/assets/colab-badge.svg\" alt=\"Open In Colab\"/></a>"
      ]
    },
    {
      "cell_type": "markdown",
      "metadata": {
        "id": "u0TL0gVne06a"
      },
      "source": [
        "**SCAN Disk Scheduling Algorithm**"
      ]
    },
    {
      "cell_type": "code",
      "metadata": {
        "colab": {
          "base_uri": "https://localhost:8080/"
        },
        "id": "KvWjkmoweyeX",
        "outputId": "8194ece3-cfc6-4d52-e367-b5f23a5d6b94"
      },
      "source": [
        "queue = list(map(int,input(\"Enter The Sequence->\").split()))\n",
        "head  = int(input(\"Head Pointer->\"))"
      ],
      "execution_count": 1,
      "outputs": [
        {
          "output_type": "stream",
          "text": [
            "Enter The Sequence->98 183 37 122 14 124 65 67\n",
            "Head Pointer->53\n"
          ],
          "name": "stdout"
        }
      ]
    },
    {
      "cell_type": "code",
      "metadata": {
        "colab": {
          "base_uri": "https://localhost:8080/"
        },
        "id": "BY9ENhXNfLoL",
        "outputId": "5221ac52-91c3-4b1a-89f6-d4ceb3c895d4"
      },
      "source": [
        "q1 = queue.copy()\n",
        "q1.append(head)\n",
        "q1.append(0)\n",
        "q1.sort()\n",
        "q1"
      ],
      "execution_count": 2,
      "outputs": [
        {
          "output_type": "execute_result",
          "data": {
            "text/plain": [
              "[0, 14, 37, 53, 65, 67, 98, 122, 124, 183]"
            ]
          },
          "metadata": {},
          "execution_count": 2
        }
      ]
    },
    {
      "cell_type": "code",
      "metadata": {
        "colab": {
          "base_uri": "https://localhost:8080/"
        },
        "id": "68eCxs1VfNfz",
        "outputId": "5e3b6f8b-55ea-451b-87cb-c336793dfcd1"
      },
      "source": [
        "q2 = q1[:q1.index(head)]\n",
        "q2.append(head)\n",
        "q2 = q2[::-1]\n",
        "q2"
      ],
      "execution_count": 3,
      "outputs": [
        {
          "output_type": "execute_result",
          "data": {
            "text/plain": [
              "[53, 37, 14, 0]"
            ]
          },
          "metadata": {},
          "execution_count": 3
        }
      ]
    },
    {
      "cell_type": "code",
      "metadata": {
        "colab": {
          "base_uri": "https://localhost:8080/"
        },
        "id": "3KjCtMpufPvr",
        "outputId": "8b06d6c7-67ee-4ae6-be53-d005d9644d6f"
      },
      "source": [
        "q3 = q1[q1.index(head):]\n",
        "q3.sort()\n",
        "q3[q3.index(head)]=0\n",
        "q3"
      ],
      "execution_count": 4,
      "outputs": [
        {
          "output_type": "execute_result",
          "data": {
            "text/plain": [
              "[0, 65, 67, 98, 122, 124, 183]"
            ]
          },
          "metadata": {},
          "execution_count": 4
        }
      ]
    },
    {
      "cell_type": "code",
      "metadata": {
        "colab": {
          "base_uri": "https://localhost:8080/"
        },
        "id": "nAEfNVF1fSDz",
        "outputId": "ee93a8ae-df5e-49fd-a802-f675fb612214"
      },
      "source": [
        "cost = []\n",
        "for i in range(len(q2)-1):\n",
        "  cost.append(abs(q2[i] - q2[i+1]))\n",
        "  print('sub({}-{})'.format(q2[i],q2[i+1]),end='+')\n",
        "    \n",
        "\n",
        "for i in range(len(q3)-1):\n",
        "  cost.append(abs(q3[i] - q3[i+1]))\n",
        "  if i == (len(q3)-2):\n",
        "    print('sub({}-{})'.format(q3[i],q3[i+1]))\n",
        "  else:\n",
        "    print('sub({}-{})'.format(q3[i],q3[i+1]),end='+')"
      ],
      "execution_count": 5,
      "outputs": [
        {
          "output_type": "stream",
          "text": [
            "sub(53-37)+sub(37-14)+sub(14-0)+sub(0-65)+sub(65-67)+sub(67-98)+sub(98-122)+sub(122-124)+sub(124-183)\n"
          ],
          "name": "stdout"
        }
      ]
    },
    {
      "cell_type": "code",
      "metadata": {
        "colab": {
          "base_uri": "https://localhost:8080/"
        },
        "id": "q9UiRq37fUgT",
        "outputId": "1c53371b-d093-43c2-d213-b594d0cc076c"
      },
      "source": [
        "q2.extend(q3[1:])\n",
        "print(q2)"
      ],
      "execution_count": 6,
      "outputs": [
        {
          "output_type": "stream",
          "text": [
            "[53, 37, 14, 0, 65, 67, 98, 122, 124, 183]\n"
          ],
          "name": "stdout"
        }
      ]
    },
    {
      "cell_type": "code",
      "metadata": {
        "colab": {
          "base_uri": "https://localhost:8080/"
        },
        "id": "Qr46cINYfWMs",
        "outputId": "69809844-f9e2-45b4-83b2-f7b764b72db6"
      },
      "source": [
        "print('Total path cost is->',sum(cost))"
      ],
      "execution_count": 7,
      "outputs": [
        {
          "output_type": "stream",
          "text": [
            "Total path cost is-> 236\n"
          ],
          "name": "stdout"
        }
      ]
    }
  ]
}