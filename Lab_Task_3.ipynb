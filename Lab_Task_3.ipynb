{
  "nbformat": 4,
  "nbformat_minor": 0,
  "metadata": {
    "colab": {
      "name": "Lab_Task_3.ipynb",
      "provenance": [],
      "collapsed_sections": [],
      "authorship_tag": "ABX9TyP7SXBjcvoI4FZZA3Yhmzhs",
      "include_colab_link": true
    },
    "kernelspec": {
      "name": "python3",
      "display_name": "Python 3"
    },
    "language_info": {
      "name": "python"
    }
  },
  "cells": [
    {
      "cell_type": "markdown",
      "metadata": {
        "id": "view-in-github",
        "colab_type": "text"
      },
      "source": [
        "<a href=\"https://colab.research.google.com/github/Void-Brain70/OS/blob/main/Lab_Task_3.ipynb\" target=\"_parent\"><img src=\"https://colab.research.google.com/assets/colab-badge.svg\" alt=\"Open In Colab\"/></a>"
      ]
    },
    {
      "cell_type": "markdown",
      "metadata": {
        "id": "s8jnFpfjyFOF"
      },
      "source": [
        "Priority Scheduling Algorithm"
      ]
    },
    {
      "cell_type": "code",
      "metadata": {
        "colab": {
          "base_uri": "https://localhost:8080/"
        },
        "id": "TfFfdWOOyA47",
        "outputId": "9ec80c34-5a3f-4874-fed6-bdb789ce61ae"
      },
      "source": [
        "print(\"Enter the number of Process->\",end=\" \")\n",
        "p = int(input()) \n",
        "print('Enter the Process name->', end=\" \")\n",
        "process = input().split()\n",
        "print('Enter the burst time->', end=\" \")\n",
        "burst = list(map(int, input().split()))\n",
        "print('Enter the priority time->', end=' ')\n",
        "priority = list(map(int, input().split()))"
      ],
      "execution_count": 12,
      "outputs": [
        {
          "output_type": "stream",
          "text": [
            "Enter the number of Process-> 4\n",
            "Enter the Process name-> p1 p2 p3 p4 \n",
            "Enter the burst time-> 21 3 6 2\n",
            "Enter the priority time-> 2 1 4 3\n"
          ],
          "name": "stdout"
        }
      ]
    },
    {
      "cell_type": "code",
      "metadata": {
        "colab": {
          "base_uri": "https://localhost:8080/"
        },
        "id": "pl2vVw-fy5c7",
        "outputId": "ed9a606b-76c4-4822-d551-5ba404e4f4d0"
      },
      "source": [
        "print('The Process are->')\n",
        "process"
      ],
      "execution_count": 13,
      "outputs": [
        {
          "output_type": "stream",
          "text": [
            "The Process are->\n"
          ],
          "name": "stdout"
        },
        {
          "output_type": "execute_result",
          "data": {
            "text/plain": [
              "['p1', 'p2', 'p3', 'p4']"
            ]
          },
          "metadata": {
            "tags": []
          },
          "execution_count": 13
        }
      ]
    },
    {
      "cell_type": "code",
      "metadata": {
        "colab": {
          "base_uri": "https://localhost:8080/"
        },
        "id": "bm94mXXiy726",
        "outputId": "da641923-853f-4704-8feb-f14e508a3586"
      },
      "source": [
        "print('The Burst time are->')\n",
        "burst"
      ],
      "execution_count": 14,
      "outputs": [
        {
          "output_type": "stream",
          "text": [
            "The Burst time are->\n"
          ],
          "name": "stdout"
        },
        {
          "output_type": "execute_result",
          "data": {
            "text/plain": [
              "[21, 3, 6, 2]"
            ]
          },
          "metadata": {
            "tags": []
          },
          "execution_count": 14
        }
      ]
    },
    {
      "cell_type": "code",
      "metadata": {
        "colab": {
          "base_uri": "https://localhost:8080/"
        },
        "id": "CbTNOsM8y8YL",
        "outputId": "42427fb7-98e8-49d2-d9c2-334144c3e345"
      },
      "source": [
        "print('The Priority are->')\n",
        "priority"
      ],
      "execution_count": 15,
      "outputs": [
        {
          "output_type": "stream",
          "text": [
            "The Priority are->\n"
          ],
          "name": "stdout"
        },
        {
          "output_type": "execute_result",
          "data": {
            "text/plain": [
              "[2, 1, 4, 3]"
            ]
          },
          "metadata": {
            "tags": []
          },
          "execution_count": 15
        }
      ]
    },
    {
      "cell_type": "code",
      "metadata": {
        "colab": {
          "base_uri": "https://localhost:8080/",
          "height": 172
        },
        "id": "7BrSH-dWyZsm",
        "outputId": "33eef166-7944-4c60-f8a3-d759b102e96c"
      },
      "source": [
        "import pandas as pd\n",
        "l = [process,burst,priority]\n",
        "df = pd.DataFrame(l).transpose()\n",
        "df.columns = ['Process', 'BurstTime','Priority']\n",
        "df"
      ],
      "execution_count": 16,
      "outputs": [
        {
          "output_type": "execute_result",
          "data": {
            "text/html": [
              "<div>\n",
              "<style scoped>\n",
              "    .dataframe tbody tr th:only-of-type {\n",
              "        vertical-align: middle;\n",
              "    }\n",
              "\n",
              "    .dataframe tbody tr th {\n",
              "        vertical-align: top;\n",
              "    }\n",
              "\n",
              "    .dataframe thead th {\n",
              "        text-align: right;\n",
              "    }\n",
              "</style>\n",
              "<table border=\"1\" class=\"dataframe\">\n",
              "  <thead>\n",
              "    <tr style=\"text-align: right;\">\n",
              "      <th></th>\n",
              "      <th>Process</th>\n",
              "      <th>BurstTime</th>\n",
              "      <th>Priority</th>\n",
              "    </tr>\n",
              "  </thead>\n",
              "  <tbody>\n",
              "    <tr>\n",
              "      <th>0</th>\n",
              "      <td>p1</td>\n",
              "      <td>21</td>\n",
              "      <td>2</td>\n",
              "    </tr>\n",
              "    <tr>\n",
              "      <th>1</th>\n",
              "      <td>p2</td>\n",
              "      <td>3</td>\n",
              "      <td>1</td>\n",
              "    </tr>\n",
              "    <tr>\n",
              "      <th>2</th>\n",
              "      <td>p3</td>\n",
              "      <td>6</td>\n",
              "      <td>4</td>\n",
              "    </tr>\n",
              "    <tr>\n",
              "      <th>3</th>\n",
              "      <td>p4</td>\n",
              "      <td>2</td>\n",
              "      <td>3</td>\n",
              "    </tr>\n",
              "  </tbody>\n",
              "</table>\n",
              "</div>"
            ],
            "text/plain": [
              "  Process BurstTime Priority\n",
              "0      p1        21        2\n",
              "1      p2         3        1\n",
              "2      p3         6        4\n",
              "3      p4         2        3"
            ]
          },
          "metadata": {
            "tags": []
          },
          "execution_count": 16
        }
      ]
    },
    {
      "cell_type": "code",
      "metadata": {
        "colab": {
          "base_uri": "https://localhost:8080/",
          "height": 172
        },
        "id": "hcX5ofO7yvox",
        "outputId": "5b0834d5-86df-4f11-b4fc-4d044ce1ddf7"
      },
      "source": [
        "df.sort_values(by=['Priority'],ascending=True,axis=0,inplace=True)\n",
        "df"
      ],
      "execution_count": 17,
      "outputs": [
        {
          "output_type": "execute_result",
          "data": {
            "text/html": [
              "<div>\n",
              "<style scoped>\n",
              "    .dataframe tbody tr th:only-of-type {\n",
              "        vertical-align: middle;\n",
              "    }\n",
              "\n",
              "    .dataframe tbody tr th {\n",
              "        vertical-align: top;\n",
              "    }\n",
              "\n",
              "    .dataframe thead th {\n",
              "        text-align: right;\n",
              "    }\n",
              "</style>\n",
              "<table border=\"1\" class=\"dataframe\">\n",
              "  <thead>\n",
              "    <tr style=\"text-align: right;\">\n",
              "      <th></th>\n",
              "      <th>Process</th>\n",
              "      <th>BurstTime</th>\n",
              "      <th>Priority</th>\n",
              "    </tr>\n",
              "  </thead>\n",
              "  <tbody>\n",
              "    <tr>\n",
              "      <th>1</th>\n",
              "      <td>p2</td>\n",
              "      <td>3</td>\n",
              "      <td>1</td>\n",
              "    </tr>\n",
              "    <tr>\n",
              "      <th>0</th>\n",
              "      <td>p1</td>\n",
              "      <td>21</td>\n",
              "      <td>2</td>\n",
              "    </tr>\n",
              "    <tr>\n",
              "      <th>3</th>\n",
              "      <td>p4</td>\n",
              "      <td>2</td>\n",
              "      <td>3</td>\n",
              "    </tr>\n",
              "    <tr>\n",
              "      <th>2</th>\n",
              "      <td>p3</td>\n",
              "      <td>6</td>\n",
              "      <td>4</td>\n",
              "    </tr>\n",
              "  </tbody>\n",
              "</table>\n",
              "</div>"
            ],
            "text/plain": [
              "  Process BurstTime Priority\n",
              "1      p2         3        1\n",
              "0      p1        21        2\n",
              "3      p4         2        3\n",
              "2      p3         6        4"
            ]
          },
          "metadata": {
            "tags": []
          },
          "execution_count": 17
        }
      ]
    },
    {
      "cell_type": "code",
      "metadata": {
        "colab": {
          "base_uri": "https://localhost:8080/"
        },
        "id": "XT8iJGy6yyzw",
        "outputId": "c3d316aa-6eec-4abe-f85a-8251d9610c48"
      },
      "source": [
        "# Gantt Chart\n",
        "print('Gantt Chart->')\n",
        "print(0,end=' ')\n",
        "tmp = 0\n",
        "l2 = [0]\n",
        "for tsk, tm in zip(df.Process,df.BurstTime): \n",
        "    tmp+=tm\n",
        "    l2.append(tmp)\n",
        "    print(tsk,tmp,end=' ')"
      ],
      "execution_count": 20,
      "outputs": [
        {
          "output_type": "stream",
          "text": [
            "Gantt Chart->\n",
            "0 p2 3 p1 24 p4 26 p3 32 "
          ],
          "name": "stdout"
        }
      ]
    },
    {
      "cell_type": "code",
      "metadata": {
        "colab": {
          "base_uri": "https://localhost:8080/"
        },
        "id": "2bS0Oc7czNnE",
        "outputId": "eefce35a-d331-4d8f-caf8-e54d7bfbe622"
      },
      "source": [
        "import numpy as np\n",
        "l2 = l2[:-1] # Remove last element\n",
        "w = np.sum(l2) # use numpy aarry for additaion\n",
        "wa = w/len(l2)\n",
        "print('Total waiting time : {0:.2f}ms'.format(w))\n",
        "print('Average waiting time : {0:.2f}ms'.format(wa))"
      ],
      "execution_count": 19,
      "outputs": [
        {
          "output_type": "stream",
          "text": [
            "Total waiting time : 53.00ms\n",
            "Average waiting time : 13.25ms\n"
          ],
          "name": "stdout"
        }
      ]
    }
  ]
}