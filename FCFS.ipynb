{
  "nbformat": 4,
  "nbformat_minor": 0,
  "metadata": {
    "colab": {
      "name": "FCFS.ipynb",
      "provenance": [],
      "collapsed_sections": [],
      "authorship_tag": "ABX9TyOQHSYwoJ2hI7MWUPnSBa/T",
      "include_colab_link": true
    },
    "kernelspec": {
      "name": "python3",
      "display_name": "Python 3"
    },
    "language_info": {
      "name": "python"
    }
  },
  "cells": [
    {
      "cell_type": "markdown",
      "metadata": {
        "id": "view-in-github",
        "colab_type": "text"
      },
      "source": [
        "<a href=\"https://colab.research.google.com/github/Void-Brain70/OS/blob/main/FCFS.ipynb\" target=\"_parent\"><img src=\"https://colab.research.google.com/assets/colab-badge.svg\" alt=\"Open In Colab\"/></a>"
      ]
    },
    {
      "cell_type": "code",
      "metadata": {
        "colab": {
          "base_uri": "https://localhost:8080/"
        },
        "id": "TPDJPt254OZ4",
        "outputId": "956aa46d-c011-4270-8a16-cc140a53b81b"
      },
      "source": [
        "print(\"Enter the No. of Process->\",end=\" \")\n",
        "p = int(input()) \n",
        "print('Enter the task name->', end=\" \")\n",
        "task = input().split()\n",
        "print('Enter the No. of task time->', end=\" \")\n",
        "time = list(map(int, input().split()))"
      ],
      "execution_count": null,
      "outputs": [
        {
          "output_type": "stream",
          "text": [
            "Enter the No. of Process-> 5\n",
            "Enter the task name-> p1 p2 p3 p4 p5\n",
            "Enter the No. of task time-> 80 20 10 20 80\n"
          ],
          "name": "stdout"
        }
      ]
    },
    {
      "cell_type": "code",
      "metadata": {
        "colab": {
          "base_uri": "https://localhost:8080/"
        },
        "id": "7yeciaIi4UY1",
        "outputId": "6ad8a1ba-fdb0-4bca-ceab-45b1fccf5a3d"
      },
      "source": [
        "task"
      ],
      "execution_count": null,
      "outputs": [
        {
          "output_type": "execute_result",
          "data": {
            "text/plain": [
              "['p1', 'p2', 'p3', 'p4', 'p5']"
            ]
          },
          "metadata": {
            "tags": []
          },
          "execution_count": 2
        }
      ]
    },
    {
      "cell_type": "code",
      "metadata": {
        "colab": {
          "base_uri": "https://localhost:8080/"
        },
        "id": "Qe06lNJJ4VWc",
        "outputId": "b68c3114-0e0d-4b16-bdd0-8e2ce194aa79"
      },
      "source": [
        "time"
      ],
      "execution_count": null,
      "outputs": [
        {
          "output_type": "execute_result",
          "data": {
            "text/plain": [
              "[80, 20, 10, 20, 80]"
            ]
          },
          "metadata": {
            "tags": []
          },
          "execution_count": 3
        }
      ]
    },
    {
      "cell_type": "code",
      "metadata": {
        "colab": {
          "base_uri": "https://localhost:8080/",
          "height": 203
        },
        "id": "ddOh3Uk04gN-",
        "outputId": "8a2ba983-1f9c-40b8-83b4-2989fd2d5dda"
      },
      "source": [
        "import pandas as pd\n",
        "l = [task,time]\n",
        "df = pd.DataFrame(l).transpose()\n",
        "df.columns = [\"Task\",\"Time\"]\n",
        "df"
      ],
      "execution_count": null,
      "outputs": [
        {
          "output_type": "execute_result",
          "data": {
            "text/html": [
              "<div>\n",
              "<style scoped>\n",
              "    .dataframe tbody tr th:only-of-type {\n",
              "        vertical-align: middle;\n",
              "    }\n",
              "\n",
              "    .dataframe tbody tr th {\n",
              "        vertical-align: top;\n",
              "    }\n",
              "\n",
              "    .dataframe thead th {\n",
              "        text-align: right;\n",
              "    }\n",
              "</style>\n",
              "<table border=\"1\" class=\"dataframe\">\n",
              "  <thead>\n",
              "    <tr style=\"text-align: right;\">\n",
              "      <th></th>\n",
              "      <th>Task</th>\n",
              "      <th>Time</th>\n",
              "    </tr>\n",
              "  </thead>\n",
              "  <tbody>\n",
              "    <tr>\n",
              "      <th>0</th>\n",
              "      <td>p1</td>\n",
              "      <td>80</td>\n",
              "    </tr>\n",
              "    <tr>\n",
              "      <th>1</th>\n",
              "      <td>p2</td>\n",
              "      <td>20</td>\n",
              "    </tr>\n",
              "    <tr>\n",
              "      <th>2</th>\n",
              "      <td>p3</td>\n",
              "      <td>10</td>\n",
              "    </tr>\n",
              "    <tr>\n",
              "      <th>3</th>\n",
              "      <td>p4</td>\n",
              "      <td>20</td>\n",
              "    </tr>\n",
              "    <tr>\n",
              "      <th>4</th>\n",
              "      <td>p5</td>\n",
              "      <td>80</td>\n",
              "    </tr>\n",
              "  </tbody>\n",
              "</table>\n",
              "</div>"
            ],
            "text/plain": [
              "  Task Time\n",
              "0   p1   80\n",
              "1   p2   20\n",
              "2   p3   10\n",
              "3   p4   20\n",
              "4   p5   80"
            ]
          },
          "metadata": {
            "tags": []
          },
          "execution_count": 4
        }
      ]
    },
    {
      "cell_type": "code",
      "metadata": {
        "colab": {
          "base_uri": "https://localhost:8080/"
        },
        "id": "1LJ0Eegh4hxV",
        "outputId": "cf94e605-cdfe-49c6-d948-e10f2f6af962"
      },
      "source": [
        "# Gantt Chart\n",
        "print(0,end=' ')\n",
        "tmp = 0\n",
        "l2 = [0]\n",
        "for tsk, tm in zip(df.Task,df.Time): \n",
        "    tmp+=tm\n",
        "    l2.append(tmp)\n",
        "    print(tsk,tmp,end=' ')"
      ],
      "execution_count": null,
      "outputs": [
        {
          "output_type": "stream",
          "text": [
            "0 p1 80 p2 100 p3 110 p4 130 p5 210 "
          ],
          "name": "stdout"
        }
      ]
    },
    {
      "cell_type": "code",
      "metadata": {
        "colab": {
          "base_uri": "https://localhost:8080/"
        },
        "id": "9bybY6fV4kwW",
        "outputId": "4c0367c4-bdbd-42d4-c907-c0ca3f5b5d53"
      },
      "source": [
        "l2 = l2[:-1]\n",
        "import numpy as np\n",
        "w = np.sum(l2)\n",
        "wa = np.sum(l2)/len(l2)\n",
        "print('Total waiting time : {0:.2f}ms'.format(w))\n",
        "print('Average waiting time : {0:.2f}ms'.format(wa))"
      ],
      "execution_count": null,
      "outputs": [
        {
          "output_type": "stream",
          "text": [
            "Total waiting time : 420.00ms\n",
            "Average waiting time : 84.00ms\n"
          ],
          "name": "stdout"
        }
      ]
    },
    {
      "cell_type": "code",
      "metadata": {
        "colab": {
          "base_uri": "https://localhost:8080/",
          "height": 203
        },
        "id": "4nZ4HtJA5HYC",
        "outputId": "e8f9fd94-8827-4e99-c6a8-1cfe5a21c03b"
      },
      "source": [
        "import pandas as pd\n",
        "l3 = [l2,time]\n",
        "df1 = pd.DataFrame(l3).transpose()\n",
        "df1.columns = [\"Wait\",\"Time\"]\n",
        "df1"
      ],
      "execution_count": null,
      "outputs": [
        {
          "output_type": "execute_result",
          "data": {
            "text/html": [
              "<div>\n",
              "<style scoped>\n",
              "    .dataframe tbody tr th:only-of-type {\n",
              "        vertical-align: middle;\n",
              "    }\n",
              "\n",
              "    .dataframe tbody tr th {\n",
              "        vertical-align: top;\n",
              "    }\n",
              "\n",
              "    .dataframe thead th {\n",
              "        text-align: right;\n",
              "    }\n",
              "</style>\n",
              "<table border=\"1\" class=\"dataframe\">\n",
              "  <thead>\n",
              "    <tr style=\"text-align: right;\">\n",
              "      <th></th>\n",
              "      <th>Wait</th>\n",
              "      <th>Time</th>\n",
              "    </tr>\n",
              "  </thead>\n",
              "  <tbody>\n",
              "    <tr>\n",
              "      <th>0</th>\n",
              "      <td>0</td>\n",
              "      <td>80</td>\n",
              "    </tr>\n",
              "    <tr>\n",
              "      <th>1</th>\n",
              "      <td>80</td>\n",
              "      <td>20</td>\n",
              "    </tr>\n",
              "    <tr>\n",
              "      <th>2</th>\n",
              "      <td>100</td>\n",
              "      <td>10</td>\n",
              "    </tr>\n",
              "    <tr>\n",
              "      <th>3</th>\n",
              "      <td>110</td>\n",
              "      <td>20</td>\n",
              "    </tr>\n",
              "    <tr>\n",
              "      <th>4</th>\n",
              "      <td>130</td>\n",
              "      <td>80</td>\n",
              "    </tr>\n",
              "  </tbody>\n",
              "</table>\n",
              "</div>"
            ],
            "text/plain": [
              "   Wait  Time\n",
              "0     0    80\n",
              "1    80    20\n",
              "2   100    10\n",
              "3   110    20\n",
              "4   130    80"
            ]
          },
          "metadata": {
            "tags": []
          },
          "execution_count": 21
        }
      ]
    },
    {
      "cell_type": "code",
      "metadata": {
        "colab": {
          "base_uri": "https://localhost:8080/"
        },
        "id": "7KO8p7R05NDT",
        "outputId": "828de36b-f786-4610-d5b1-943fda9af9e2"
      },
      "source": [
        "print(0,end=' ')\n",
        "tmp2 = 0\n",
        "l4 = [0]\n",
        "for i,j in zip(df1.Time,df1.Wait): \n",
        "    tmp2+=j\n",
        "    l4.append(tmp2)\n",
        "    print(i,tmp2,end=' ')  "
      ],
      "execution_count": null,
      "outputs": [
        {
          "output_type": "stream",
          "text": [
            "0 80 0 20 80 10 180 20 290 80 420 "
          ],
          "name": "stdout"
        }
      ]
    },
    {
      "cell_type": "code",
      "metadata": {
        "colab": {
          "base_uri": "https://localhost:8080/"
        },
        "id": "vBcG3Zfv5OYL",
        "outputId": "9a1102df-6d84-49a4-f379-4213cd803ee3"
      },
      "source": [
        "l4 = l4[:-1]\n",
        "import numpy as np\n",
        "T = np.sum(l4)\n",
        "TA = np.sum(l4)/len(l4)\n",
        "print('Total Trun around  time : {0:.2f}ms'.format(T))\n",
        "print('Average Trun around  time : {0:.2f}ms'.format(TA))"
      ],
      "execution_count": null,
      "outputs": [
        {
          "output_type": "stream",
          "text": [
            "Total Trun around  time : 870.00ms\n",
            "Average Trun around  time : 174.00ms\n"
          ],
          "name": "stdout"
        }
      ]
    }
  ]
}