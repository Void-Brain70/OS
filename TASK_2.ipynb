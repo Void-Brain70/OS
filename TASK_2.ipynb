{
  "nbformat": 4,
  "nbformat_minor": 0,
  "metadata": {
    "colab": {
      "name": "TASK-2.ipynb",
      "provenance": [],
      "authorship_tag": "ABX9TyOe9f851r0kpukLIZST7Kqp",
      "include_colab_link": true
    },
    "kernelspec": {
      "name": "python3",
      "display_name": "Python 3"
    },
    "language_info": {
      "name": "python"
    }
  },
  "cells": [
    {
      "cell_type": "markdown",
      "metadata": {
        "id": "view-in-github",
        "colab_type": "text"
      },
      "source": [
        "<a href=\"https://colab.research.google.com/github/Void-Brain70/OS/blob/main/TASK_2.ipynb\" target=\"_parent\"><img src=\"https://colab.research.google.com/assets/colab-badge.svg\" alt=\"Open In Colab\"/></a>"
      ]
    },
    {
      "cell_type": "markdown",
      "metadata": {
        "id": "btRcDjynj6uP"
      },
      "source": [
        "Optiaml Page Replacement"
      ]
    },
    {
      "cell_type": "code",
      "metadata": {
        "colab": {
          "base_uri": "https://localhost:8080/"
        },
        "id": "F94VeEXVj36Y",
        "outputId": "6eb72cc0-5da5-4b14-997b-c9bfb0da066d"
      },
      "source": [
        "buffer = int(input('Provide buffer size'))\n",
        "\n",
        "sequence = list(map(int, input('Provide input sequence').split()))"
      ],
      "execution_count": 1,
      "outputs": [
        {
          "name": "stdout",
          "output_type": "stream",
          "text": [
            "Provide buffer size3\n",
            "Provide input sequence7 0 1 2 0 3 0 4 2 3 0 3 2 1 2 0 1 7 0 1\n"
          ]
        }
      ]
    },
    {
      "cell_type": "code",
      "metadata": {
        "colab": {
          "base_uri": "https://localhost:8080/"
        },
        "id": "IXR4sMK6kA4_",
        "outputId": "4dd6eef1-5ad7-4620-e0cb-6f0460c33726"
      },
      "source": [
        "buffer_ls = []\n",
        "page_fault = 0\n",
        "\n",
        "for val in sequence:\n",
        "    idx = []\n",
        "    tmp_ls = sequence[sequence.index(val)+1:]\n",
        "    \n",
        "    if len(buffer_ls)<buffer:\n",
        "        if val in buffer_ls:\n",
        "            print('--hit--')\n",
        "        else:\n",
        "            page_fault+=1\n",
        "            buffer_ls.append(val)\n",
        "            print(buffer_ls)\n",
        "    else:\n",
        "        if val in buffer_ls:\n",
        "            print('--hit--')\n",
        "        else:\n",
        "            page_fault+=1\n",
        "            \n",
        "            for i in buffer_ls:\n",
        "                try:\n",
        "                    idx.append(tmp_ls.index(i))\n",
        "                except:\n",
        "                    continue    \n",
        "            \n",
        "            buffer_ls.remove(tmp_ls[max(idx)])\n",
        "            buffer_ls.append(val)\n",
        "            print(buffer_ls)"
      ],
      "execution_count": 2,
      "outputs": [
        {
          "output_type": "stream",
          "name": "stdout",
          "text": [
            "[7]\n",
            "[7, 0]\n",
            "[7, 0, 1]\n",
            "[0, 1, 2]\n",
            "--hit--\n",
            "[0, 2, 3]\n",
            "--hit--\n",
            "[2, 3, 4]\n",
            "--hit--\n",
            "--hit--\n",
            "[2, 3, 0]\n",
            "--hit--\n",
            "--hit--\n",
            "[2, 0, 1]\n",
            "--hit--\n",
            "--hit--\n",
            "--hit--\n",
            "[0, 1, 7]\n",
            "--hit--\n",
            "--hit--\n"
          ]
        }
      ]
    },
    {
      "cell_type": "code",
      "metadata": {
        "colab": {
          "base_uri": "https://localhost:8080/"
        },
        "id": "vQR-cQi-kGWQ",
        "outputId": "dc1af13c-055b-4a13-bf58-e7834614988a"
      },
      "source": [
        "print('Number of page fault', page_fault)"
      ],
      "execution_count": 3,
      "outputs": [
        {
          "output_type": "stream",
          "name": "stdout",
          "text": [
            "Number of page fault 9\n"
          ]
        }
      ]
    }
  ]
}