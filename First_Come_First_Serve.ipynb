{
  "nbformat": 4,
  "nbformat_minor": 0,
  "metadata": {
    "colab": {
      "name": "First_Come_First_Serve.ipynb",
      "provenance": [],
      "collapsed_sections": [],
      "authorship_tag": "ABX9TyO+m97giCP9tBR8IVaU+zw/",
      "include_colab_link": true
    },
    "kernelspec": {
      "name": "python3",
      "display_name": "Python 3"
    },
    "language_info": {
      "name": "python"
    }
  },
  "cells": [
    {
      "cell_type": "markdown",
      "metadata": {
        "id": "view-in-github",
        "colab_type": "text"
      },
      "source": [
        "<a href=\"https://colab.research.google.com/github/Void-Brain70/OS/blob/main/First_Come_First_Serve.ipynb\" target=\"_parent\"><img src=\"https://colab.research.google.com/assets/colab-badge.svg\" alt=\"Open In Colab\"/></a>"
      ]
    },
    {
      "cell_type": "markdown",
      "metadata": {
        "id": "pwwDnGLXrg42"
      },
      "source": [
        "**First Come First Serve**"
      ]
    },
    {
      "cell_type": "code",
      "metadata": {
        "colab": {
          "base_uri": "https://localhost:8080/"
        },
        "id": "c8dxX5QLrRZa",
        "outputId": "82c2c333-6277-48b6-95cd-0d38eae8cb33"
      },
      "source": [
        "print(\"Enter the No. of Process->\",end=\" \")\n",
        "p = int(input()) \n",
        "print('Enter the task name->', end=\" \")\n",
        "task = input().split()\n",
        "print('Enter the No. of task time->', end=\" \")\n",
        "time = list(map(int, input().split()))"
      ],
      "execution_count": 20,
      "outputs": [
        {
          "output_type": "stream",
          "text": [
            "Enter the No. of Process-> 5\n",
            "Enter the task name-> p1 p2 p3  p4 p5\n",
            "Enter the No. of task time-> 80 20 10 20 80\n"
          ],
          "name": "stdout"
        }
      ]
    },
    {
      "cell_type": "code",
      "metadata": {
        "colab": {
          "base_uri": "https://localhost:8080/"
        },
        "id": "jJjKq92AsWrj",
        "outputId": "e01da7cf-bc49-4967-c342-b28b2bc02cc8"
      },
      "source": [
        "task"
      ],
      "execution_count": 21,
      "outputs": [
        {
          "output_type": "execute_result",
          "data": {
            "text/plain": [
              "['p1', 'p2', 'p3', 'p4', 'p5']"
            ]
          },
          "metadata": {
            "tags": []
          },
          "execution_count": 21
        }
      ]
    },
    {
      "cell_type": "code",
      "metadata": {
        "colab": {
          "base_uri": "https://localhost:8080/"
        },
        "id": "6ENwAhE8tAp4",
        "outputId": "b236422e-a60c-47f8-c39b-016ecccc5747"
      },
      "source": [
        "time"
      ],
      "execution_count": 22,
      "outputs": [
        {
          "output_type": "execute_result",
          "data": {
            "text/plain": [
              "[80, 20, 10, 20, 80]"
            ]
          },
          "metadata": {
            "tags": []
          },
          "execution_count": 22
        }
      ]
    },
    {
      "cell_type": "code",
      "metadata": {
        "colab": {
          "base_uri": "https://localhost:8080/",
          "height": 203
        },
        "id": "PzlbCytYtJxI",
        "outputId": "03ecf12d-f669-4c09-fe18-bda931c9ed07"
      },
      "source": [
        "import pandas as pd\n",
        "l = [task,time]\n",
        "df = pd.DataFrame(l).transpose()\n",
        "df.columns = [\"Task\",\"Time\"]\n",
        "df"
      ],
      "execution_count": 23,
      "outputs": [
        {
          "output_type": "execute_result",
          "data": {
            "text/html": [
              "<div>\n",
              "<style scoped>\n",
              "    .dataframe tbody tr th:only-of-type {\n",
              "        vertical-align: middle;\n",
              "    }\n",
              "\n",
              "    .dataframe tbody tr th {\n",
              "        vertical-align: top;\n",
              "    }\n",
              "\n",
              "    .dataframe thead th {\n",
              "        text-align: right;\n",
              "    }\n",
              "</style>\n",
              "<table border=\"1\" class=\"dataframe\">\n",
              "  <thead>\n",
              "    <tr style=\"text-align: right;\">\n",
              "      <th></th>\n",
              "      <th>Task</th>\n",
              "      <th>Time</th>\n",
              "    </tr>\n",
              "  </thead>\n",
              "  <tbody>\n",
              "    <tr>\n",
              "      <th>0</th>\n",
              "      <td>p1</td>\n",
              "      <td>80</td>\n",
              "    </tr>\n",
              "    <tr>\n",
              "      <th>1</th>\n",
              "      <td>p2</td>\n",
              "      <td>20</td>\n",
              "    </tr>\n",
              "    <tr>\n",
              "      <th>2</th>\n",
              "      <td>p3</td>\n",
              "      <td>10</td>\n",
              "    </tr>\n",
              "    <tr>\n",
              "      <th>3</th>\n",
              "      <td>p4</td>\n",
              "      <td>20</td>\n",
              "    </tr>\n",
              "    <tr>\n",
              "      <th>4</th>\n",
              "      <td>p5</td>\n",
              "      <td>80</td>\n",
              "    </tr>\n",
              "  </tbody>\n",
              "</table>\n",
              "</div>"
            ],
            "text/plain": [
              "  Task Time\n",
              "0   p1   80\n",
              "1   p2   20\n",
              "2   p3   10\n",
              "3   p4   20\n",
              "4   p5   80"
            ]
          },
          "metadata": {
            "tags": []
          },
          "execution_count": 23
        }
      ]
    },
    {
      "cell_type": "code",
      "metadata": {
        "colab": {
          "base_uri": "https://localhost:8080/"
        },
        "id": "JTodFaDjtn6j",
        "outputId": "17aa09fb-0f06-47e6-d0e6-6d0f57a667cb"
      },
      "source": [
        "# Gantt Chart\n",
        "print(0,end=' ')\n",
        "tmp = 0\n",
        "l1 = [0]\n",
        "for tsk, tm in zip(df.Task,df.Time): \n",
        "    tmp+=tm\n",
        "    l1.append(tmp)\n",
        "    print(tsk,tmp,end=' ')"
      ],
      "execution_count": 24,
      "outputs": [
        {
          "output_type": "stream",
          "text": [
            "0 p1 80 p2 100 p3 110 p4 130 p5 210 "
          ],
          "name": "stdout"
        }
      ]
    },
    {
      "cell_type": "code",
      "metadata": {
        "colab": {
          "base_uri": "https://localhost:8080/"
        },
        "id": "qv1bQmlyu0rV",
        "outputId": "9fa41d33-b2c8-4d24-a774-89c7130d2054"
      },
      "source": [
        "l1 = l1[:-1]\n",
        "import numpy as np\n",
        "w = np.sum(l1)\n",
        "wa = w/len(l1)\n",
        "print('Total waiting time : {0:.2f}ms'.format(w))\n",
        "print('Average waiting time : {0:.2f}ms'.format(wa))"
      ],
      "execution_count": 25,
      "outputs": [
        {
          "output_type": "stream",
          "text": [
            "Total waiting time : 420.00ms\n",
            "Average waiting time : 84.00ms\n"
          ],
          "name": "stdout"
        }
      ]
    },
    {
      "cell_type": "code",
      "metadata": {
        "colab": {
          "base_uri": "https://localhost:8080/",
          "height": 203
        },
        "id": "39pNu5fzvACm",
        "outputId": "69f78640-6665-41a6-96a4-ee19c3fc218b"
      },
      "source": [
        "import pandas as pd\n",
        "l2 = [l1,time]\n",
        "df1 = pd.DataFrame(l2).transpose()\n",
        "df1.columns = [\"Wait\",\"Time\"]\n",
        "df1"
      ],
      "execution_count": 26,
      "outputs": [
        {
          "output_type": "execute_result",
          "data": {
            "text/html": [
              "<div>\n",
              "<style scoped>\n",
              "    .dataframe tbody tr th:only-of-type {\n",
              "        vertical-align: middle;\n",
              "    }\n",
              "\n",
              "    .dataframe tbody tr th {\n",
              "        vertical-align: top;\n",
              "    }\n",
              "\n",
              "    .dataframe thead th {\n",
              "        text-align: right;\n",
              "    }\n",
              "</style>\n",
              "<table border=\"1\" class=\"dataframe\">\n",
              "  <thead>\n",
              "    <tr style=\"text-align: right;\">\n",
              "      <th></th>\n",
              "      <th>Wait</th>\n",
              "      <th>Time</th>\n",
              "    </tr>\n",
              "  </thead>\n",
              "  <tbody>\n",
              "    <tr>\n",
              "      <th>0</th>\n",
              "      <td>0</td>\n",
              "      <td>80</td>\n",
              "    </tr>\n",
              "    <tr>\n",
              "      <th>1</th>\n",
              "      <td>80</td>\n",
              "      <td>20</td>\n",
              "    </tr>\n",
              "    <tr>\n",
              "      <th>2</th>\n",
              "      <td>100</td>\n",
              "      <td>10</td>\n",
              "    </tr>\n",
              "    <tr>\n",
              "      <th>3</th>\n",
              "      <td>110</td>\n",
              "      <td>20</td>\n",
              "    </tr>\n",
              "    <tr>\n",
              "      <th>4</th>\n",
              "      <td>130</td>\n",
              "      <td>80</td>\n",
              "    </tr>\n",
              "  </tbody>\n",
              "</table>\n",
              "</div>"
            ],
            "text/plain": [
              "   Wait  Time\n",
              "0     0    80\n",
              "1    80    20\n",
              "2   100    10\n",
              "3   110    20\n",
              "4   130    80"
            ]
          },
          "metadata": {
            "tags": []
          },
          "execution_count": 26
        }
      ]
    },
    {
      "cell_type": "code",
      "metadata": {
        "colab": {
          "base_uri": "https://localhost:8080/"
        },
        "id": "tFfzxk64y2G7",
        "outputId": "00080c29-95c8-4299-f768-a4a1de3ca065"
      },
      "source": [
        "#print(0,end=' ')\n",
        "tat = 0\n",
        "l3 = [0]\n",
        "for i,j in zip(df1.Wait,df1.Time): \n",
        "    tat = i+j \n",
        "    l3.append(tat)\n",
        "    print(tat,end=' ')  "
      ],
      "execution_count": 27,
      "outputs": [
        {
          "output_type": "stream",
          "text": [
            "80 100 110 130 210 "
          ],
          "name": "stdout"
        }
      ]
    },
    {
      "cell_type": "code",
      "metadata": {
        "colab": {
          "base_uri": "https://localhost:8080/"
        },
        "id": "1Opx2CzvzlFZ",
        "outputId": "a2570c32-644f-474f-dea2-d4573c6948ca"
      },
      "source": [
        "l3 = l3[:-1]\n",
        "import numpy as np\n",
        "tr = np.sum(l3)\n",
        "ta = tr/len(l3)\n",
        "print('Total Turn Around time : {0:.2f}ms'.format(tr))\n",
        "print('Average Turn Around time : {0:.2f}ms'.format(ta))"
      ],
      "execution_count": 29,
      "outputs": [
        {
          "output_type": "stream",
          "text": [
            "Total Turn Around time : 420.00ms\n",
            "Average Turn Around time : 84.00ms\n"
          ],
          "name": "stdout"
        }
      ]
    }
  ]
}