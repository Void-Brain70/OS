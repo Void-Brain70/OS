{
  "nbformat": 4,
  "nbformat_minor": 0,
  "metadata": {
    "colab": {
      "name": "Lab_Task_6.ipynb",
      "provenance": [],
      "collapsed_sections": [],
      "authorship_tag": "ABX9TyP2UWqxLLBDMYCeICvHvND5",
      "include_colab_link": true
    },
    "kernelspec": {
      "name": "python3",
      "display_name": "Python 3"
    },
    "language_info": {
      "name": "python"
    }
  },
  "cells": [
    {
      "cell_type": "markdown",
      "metadata": {
        "id": "view-in-github",
        "colab_type": "text"
      },
      "source": [
        "<a href=\"https://colab.research.google.com/github/Void-Brain70/OS/blob/main/Lab_Task_6.ipynb\" target=\"_parent\"><img src=\"https://colab.research.google.com/assets/colab-badge.svg\" alt=\"Open In Colab\"/></a>"
      ]
    },
    {
      "cell_type": "markdown",
      "metadata": {
        "id": "t6GbTFYdjcO-"
      },
      "source": [
        "SSTF Disk Scheduling Algorithm"
      ]
    },
    {
      "cell_type": "code",
      "metadata": {
        "colab": {
          "base_uri": "https://localhost:8080/"
        },
        "id": "4QwWZFqni3w_",
        "outputId": "43feca4a-1361-4390-8d3d-e1c0bfab1075"
      },
      "source": [
        "queue = list(map(int,input(\"Enter the Sequence->\").split()))\n",
        "head  = int(input(\"Head Pointer->\"))"
      ],
      "execution_count": 1,
      "outputs": [
        {
          "output_type": "stream",
          "text": [
            "Enter the Sequence->98 183 37 122 14 124 65 67\n",
            "Head Pointer->53\n"
          ],
          "name": "stdout"
        }
      ]
    },
    {
      "cell_type": "code",
      "metadata": {
        "colab": {
          "base_uri": "https://localhost:8080/"
        },
        "id": "rR9Mvm-0jl7m",
        "outputId": "38c7f36f-8dd5-45f9-ec6b-479eb7079919"
      },
      "source": [
        "queue.insert(0,head)\n",
        "print('The Queueing Path->',queue)"
      ],
      "execution_count": 2,
      "outputs": [
        {
          "output_type": "stream",
          "text": [
            "The Queueing Path-> [53, 98, 183, 37, 122, 14, 124, 65, 67]\n"
          ],
          "name": "stdout"
        }
      ]
    },
    {
      "cell_type": "code",
      "metadata": {
        "colab": {
          "base_uri": "https://localhost:8080/"
        },
        "id": "NCxbw6-ejnNF",
        "outputId": "f41ef29c-7180-4c54-ddeb-1dafbcbf6c7c"
      },
      "source": [
        "path = [head]\n",
        "cnt = len(queue)-1\n",
        "val=0\n",
        "while queue:\n",
        "    \n",
        "  if cnt == 0:\n",
        "    queue.remove(head)\n",
        "    hdr = path[len(path)-1]\n",
        "    minDist = 9999999999999999999\n",
        "    for i in queue:\n",
        "      if minDist>abs(hdr-i):\n",
        "        minDist = abs(hdr-i)\n",
        "        temp = i\n",
        "    print('sub({}-{})'.format(hdr,temp))\n",
        "    path.append(temp)\n",
        "    head=temp\n",
        "  else:\n",
        "    queue.remove(head)\n",
        "    hdr = path[len(path)-1]\n",
        "    minDist = 9999999999999999999\n",
        "    for i in queue:\n",
        "      if minDist>abs(hdr-i):\n",
        "        minDist = abs(hdr-i)\n",
        "        temp = i\n",
        "    print('sub({}-{})'.format(hdr,temp),end='+')\n",
        "    val+=abs(hdr-temp)\n",
        "    path.append(temp)\n",
        "    head=temp\n",
        "\n",
        "        \n",
        "  cnt-=1"
      ],
      "execution_count": 3,
      "outputs": [
        {
          "output_type": "stream",
          "text": [
            "sub(53-65)+sub(65-67)+sub(67-37)+sub(37-14)+sub(14-98)+sub(98-122)+sub(122-124)+sub(124-183)+sub(183-183)\n"
          ],
          "name": "stdout"
        }
      ]
    },
    {
      "cell_type": "code",
      "metadata": {
        "colab": {
          "base_uri": "https://localhost:8080/"
        },
        "id": "FfdbWL2MjqGU",
        "outputId": "73a10cd7-bb30-4e3f-804a-182c33b07609"
      },
      "source": [
        "print('Path is',path[:-1])"
      ],
      "execution_count": 4,
      "outputs": [
        {
          "output_type": "stream",
          "text": [
            "Path is [53, 65, 67, 37, 14, 98, 122, 124, 183]\n"
          ],
          "name": "stdout"
        }
      ]
    },
    {
      "cell_type": "code",
      "metadata": {
        "colab": {
          "base_uri": "https://localhost:8080/"
        },
        "id": "dPf6t105jqp0",
        "outputId": "58197bce-3388-48ed-e740-7813ee4a6e2a"
      },
      "source": [
        "print('Total path cost is->',val)"
      ],
      "execution_count": 5,
      "outputs": [
        {
          "output_type": "stream",
          "text": [
            "Total path cost is-> 236\n"
          ],
          "name": "stdout"
        }
      ]
    }
  ]
}