{
  "nbformat": 4,
  "nbformat_minor": 0,
  "metadata": {
    "colab": {
      "name": "C_LOOK _Algorithm.ipynb",
      "provenance": [],
      "collapsed_sections": [],
      "authorship_tag": "ABX9TyP8I7otIKje6q7QacmRNRnr",
      "include_colab_link": true
    },
    "kernelspec": {
      "name": "python3",
      "display_name": "Python 3"
    },
    "language_info": {
      "name": "python"
    }
  },
  "cells": [
    {
      "cell_type": "markdown",
      "metadata": {
        "id": "view-in-github",
        "colab_type": "text"
      },
      "source": [
        "<a href=\"https://colab.research.google.com/github/Void-Brain70/OS/blob/main/C_LOOK__Algorithm.ipynb\" target=\"_parent\"><img src=\"https://colab.research.google.com/assets/colab-badge.svg\" alt=\"Open In Colab\"/></a>"
      ]
    },
    {
      "cell_type": "code",
      "metadata": {
        "colab": {
          "base_uri": "https://localhost:8080/"
        },
        "id": "FFBdscUWVtHA",
        "outputId": "f44586f8-8f44-4112-bbcc-7723bc7ff3f8"
      },
      "source": [
        "queue = list(map(int, input('Enter the queue sequence->').split()))\n",
        "header = int(input('Given the head pointer->'))"
      ],
      "execution_count": 1,
      "outputs": [
        {
          "name": "stdout",
          "output_type": "stream",
          "text": [
            "Enter the queue sequence->98 137 122 183 14 133 65 78\n",
            "Given the head pointer->54\n"
          ]
        }
      ]
    },
    {
      "cell_type": "code",
      "metadata": {
        "colab": {
          "base_uri": "https://localhost:8080/"
        },
        "id": "Kfc4fT3zV_sX",
        "outputId": "38326a8f-283f-4a61-8fa2-36d7502d4c7e"
      },
      "source": [
        "q1 = queue.copy()\n",
        "q1.append(header)\n",
        "q1.append(0)\n",
        "q1.sort()\n",
        "q1"
      ],
      "execution_count": 2,
      "outputs": [
        {
          "output_type": "execute_result",
          "data": {
            "text/plain": [
              "[0, 14, 54, 65, 78, 98, 122, 133, 137, 183]"
            ]
          },
          "metadata": {},
          "execution_count": 2
        }
      ]
    },
    {
      "cell_type": "code",
      "metadata": {
        "colab": {
          "base_uri": "https://localhost:8080/"
        },
        "id": "aeLjcCXxWBNo",
        "outputId": "0146d997-35b7-4a12-ee99-ab546db5350b"
      },
      "source": [
        "q2 = q1[:q1.index(header)]\n",
        "q2.append(header)\n",
        "q2 = q2[::-1]\n",
        "q2"
      ],
      "execution_count": 3,
      "outputs": [
        {
          "output_type": "execute_result",
          "data": {
            "text/plain": [
              "[54, 14, 0]"
            ]
          },
          "metadata": {},
          "execution_count": 3
        }
      ]
    },
    {
      "cell_type": "code",
      "metadata": {
        "colab": {
          "base_uri": "https://localhost:8080/"
        },
        "id": "hoP-XgHsWC7P",
        "outputId": "a660268c-993f-4c0c-e611-d2f8c123309b"
      },
      "source": [
        "q3 = q1[q1.index(header):]\n",
        "q3.sort()\n",
        "q3[q3.index(header)]=0\n",
        "q3"
      ],
      "execution_count": 4,
      "outputs": [
        {
          "output_type": "execute_result",
          "data": {
            "text/plain": [
              "[0, 65, 78, 98, 122, 133, 137, 183]"
            ]
          },
          "metadata": {},
          "execution_count": 4
        }
      ]
    },
    {
      "cell_type": "code",
      "metadata": {
        "id": "iajHGIpcWEtQ"
      },
      "source": [
        "end_boundary = 199"
      ],
      "execution_count": 5,
      "outputs": []
    },
    {
      "cell_type": "code",
      "metadata": {
        "colab": {
          "base_uri": "https://localhost:8080/"
        },
        "id": "IUeRUum3WGdJ",
        "outputId": "c1a9d9aa-4fa5-4492-b372-6a4c4f846a17"
      },
      "source": [
        "q1.insert(len(q1),end_boundary)\n",
        "q1"
      ],
      "execution_count": 6,
      "outputs": [
        {
          "output_type": "execute_result",
          "data": {
            "text/plain": [
              "[0, 14, 54, 65, 78, 98, 122, 133, 137, 183, 199]"
            ]
          },
          "metadata": {},
          "execution_count": 6
        }
      ]
    },
    {
      "cell_type": "code",
      "metadata": {
        "colab": {
          "base_uri": "https://localhost:8080/"
        },
        "id": "q06v-yixWIbo",
        "outputId": "139ae34b-5870-462c-f09a-196e714bb2ef"
      },
      "source": [
        "q2 = q1[:q1.index(header)]\n",
        "q2"
      ],
      "execution_count": 7,
      "outputs": [
        {
          "output_type": "execute_result",
          "data": {
            "text/plain": [
              "[0, 14]"
            ]
          },
          "metadata": {},
          "execution_count": 7
        }
      ]
    },
    {
      "cell_type": "code",
      "metadata": {
        "colab": {
          "base_uri": "https://localhost:8080/"
        },
        "id": "spP2UlwSWJ74",
        "outputId": "70b9c966-23c4-4375-cc0b-05796e7b1bd9"
      },
      "source": [
        "q3 = q1[q1.index(header):]\n",
        "q3"
      ],
      "execution_count": 8,
      "outputs": [
        {
          "output_type": "execute_result",
          "data": {
            "text/plain": [
              "[54, 65, 78, 98, 122, 133, 137, 183, 199]"
            ]
          },
          "metadata": {},
          "execution_count": 8
        }
      ]
    },
    {
      "cell_type": "code",
      "metadata": {
        "colab": {
          "base_uri": "https://localhost:8080/"
        },
        "id": "5xGLwqIeWPch",
        "outputId": "499be427-0b87-424e-8cb6-8e77c36c2285"
      },
      "source": [
        "q4 = q3[:-1]+q2[1:]\n",
        "q4\n",
        "print('The path is : ',q4)"
      ],
      "execution_count": 9,
      "outputs": [
        {
          "output_type": "stream",
          "name": "stdout",
          "text": [
            "The path is :  [54, 65, 78, 98, 122, 133, 137, 183, 14]\n"
          ]
        }
      ]
    },
    {
      "cell_type": "code",
      "metadata": {
        "colab": {
          "base_uri": "https://localhost:8080/"
        },
        "id": "h5kzUr0GWNcp",
        "outputId": "ddcceda4-3ac9-4dab-9eb8-c63f3c8661c7"
      },
      "source": [
        "cost = []\n",
        "\n",
        "for i in range(len(q4)-1):\n",
        "    cost.append(abs(q4[i] - q4[i+1]))\n",
        "    if i == (len(q4)-2):\n",
        "        print('sub({}-{})'.format(q4[i],q4[i+1]))\n",
        "    else:\n",
        "        print('sub({}-{})'.format(q4[i],q4[i+1]),end='+')"
      ],
      "execution_count": 10,
      "outputs": [
        {
          "output_type": "stream",
          "name": "stdout",
          "text": [
            "sub(54-65)+sub(65-78)+sub(78-98)+sub(98-122)+sub(122-133)+sub(133-137)+sub(137-183)+sub(183-14)\n"
          ]
        }
      ]
    },
    {
      "cell_type": "code",
      "metadata": {
        "colab": {
          "base_uri": "https://localhost:8080/"
        },
        "id": "5Gti3UG4WlRm",
        "outputId": "175326e6-193c-402c-fd21-7ffc4f06075c"
      },
      "source": [
        "print('The path cost is->',sum(cost))"
      ],
      "execution_count": 11,
      "outputs": [
        {
          "output_type": "stream",
          "name": "stdout",
          "text": [
            "The path cost is-> 298\n"
          ]
        }
      ]
    }
  ]
}