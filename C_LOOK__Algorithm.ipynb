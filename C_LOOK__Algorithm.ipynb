{
  "nbformat": 4,
  "nbformat_minor": 0,
  "metadata": {
    "colab": {
      "name": "C_LOOK _Algorithm.ipynb",
      "provenance": [],
      "collapsed_sections": [],
      "authorship_tag": "ABX9TyP8I7otIKje6q7QacmRNRnr",
      "include_colab_link": true
    },
    "kernelspec": {
      "name": "python3",
      "display_name": "Python 3"
    },
    "language_info": {
      "name": "python"
    }
  },
  "cells": [
    {
      "cell_type": "markdown",
      "metadata": {
        "id": "view-in-github",
        "colab_type": "text"
      },
      "source": [
        "<a href=\"https://colab.research.google.com/github/Void-Brain70/OS/blob/main/C_LOOK__Algorithm.ipynb\" target=\"_parent\"><img src=\"https://colab.research.google.com/assets/colab-badge.svg\" alt=\"Open In Colab\"/></a>"
      ]
    },
    {
      "cell_type": "code",
      "metadata": {
        "colab": {
          "base_uri": "https://localhost:8080/"
        },
        "id": "FFBdscUWVtHA",
        "outputId": "3b598e7d-e5d7-4059-b146-b12221529cb1"
      },
      "source": [
        "queue = list(map(int, input('Enter the queue sequence->').split()))\n",
        "header = int(input('Given the head pointer->'))"
      ],
      "execution_count": 1,
      "outputs": [
        {
          "output_type": "stream",
          "text": [
            "Enter the queue sequence->98 183 37 122 14 124 65 67\n",
            "Given the head pointer->53\n"
          ],
          "name": "stdout"
        }
      ]
    },
    {
      "cell_type": "code",
      "metadata": {
        "colab": {
          "base_uri": "https://localhost:8080/"
        },
        "id": "Kfc4fT3zV_sX",
        "outputId": "c5fc773c-a85c-4e27-fd31-cbca90f77120"
      },
      "source": [
        "q1 = queue.copy()\n",
        "q1.append(header)\n",
        "q1.append(0)\n",
        "q1.sort()\n",
        "q1"
      ],
      "execution_count": 2,
      "outputs": [
        {
          "output_type": "execute_result",
          "data": {
            "text/plain": [
              "[0, 14, 37, 53, 65, 67, 98, 122, 124, 183]"
            ]
          },
          "metadata": {
            "tags": []
          },
          "execution_count": 2
        }
      ]
    },
    {
      "cell_type": "code",
      "metadata": {
        "colab": {
          "base_uri": "https://localhost:8080/"
        },
        "id": "aeLjcCXxWBNo",
        "outputId": "9ec101cd-dc8e-42a3-a70f-4cfa0ed71c92"
      },
      "source": [
        "q2 = q1[:q1.index(header)]\n",
        "q2.append(header)\n",
        "q2 = q2[::-1]\n",
        "q2"
      ],
      "execution_count": 3,
      "outputs": [
        {
          "output_type": "execute_result",
          "data": {
            "text/plain": [
              "[53, 37, 14, 0]"
            ]
          },
          "metadata": {
            "tags": []
          },
          "execution_count": 3
        }
      ]
    },
    {
      "cell_type": "code",
      "metadata": {
        "colab": {
          "base_uri": "https://localhost:8080/"
        },
        "id": "hoP-XgHsWC7P",
        "outputId": "d57e9d3a-3cb0-4f8f-bf27-a1c142b0fa2f"
      },
      "source": [
        "q3 = q1[q1.index(header):]\n",
        "q3.sort()\n",
        "q3[q3.index(header)]=0\n",
        "q3"
      ],
      "execution_count": 4,
      "outputs": [
        {
          "output_type": "execute_result",
          "data": {
            "text/plain": [
              "[0, 65, 67, 98, 122, 124, 183]"
            ]
          },
          "metadata": {
            "tags": []
          },
          "execution_count": 4
        }
      ]
    },
    {
      "cell_type": "code",
      "metadata": {
        "id": "iajHGIpcWEtQ"
      },
      "source": [
        "end_boundary = 199"
      ],
      "execution_count": 5,
      "outputs": []
    },
    {
      "cell_type": "code",
      "metadata": {
        "colab": {
          "base_uri": "https://localhost:8080/"
        },
        "id": "IUeRUum3WGdJ",
        "outputId": "453a6c2c-99c2-4cb2-a960-9793ecf6e627"
      },
      "source": [
        "q1.insert(len(q1),end_boundary)\n",
        "q1"
      ],
      "execution_count": 6,
      "outputs": [
        {
          "output_type": "execute_result",
          "data": {
            "text/plain": [
              "[0, 14, 37, 53, 65, 67, 98, 122, 124, 183, 199]"
            ]
          },
          "metadata": {
            "tags": []
          },
          "execution_count": 6
        }
      ]
    },
    {
      "cell_type": "code",
      "metadata": {
        "colab": {
          "base_uri": "https://localhost:8080/"
        },
        "id": "q06v-yixWIbo",
        "outputId": "bf8c9455-dc7c-4fa5-bbd8-2960a483053f"
      },
      "source": [
        "q2 = q1[:q1.index(header)]\n",
        "q2"
      ],
      "execution_count": 7,
      "outputs": [
        {
          "output_type": "execute_result",
          "data": {
            "text/plain": [
              "[0, 14, 37]"
            ]
          },
          "metadata": {
            "tags": []
          },
          "execution_count": 7
        }
      ]
    },
    {
      "cell_type": "code",
      "metadata": {
        "colab": {
          "base_uri": "https://localhost:8080/"
        },
        "id": "spP2UlwSWJ74",
        "outputId": "5c5470ec-1c07-4ae9-9e13-eb9ac2a308cd"
      },
      "source": [
        "q3 = q1[q1.index(header):]\n",
        "q3"
      ],
      "execution_count": 8,
      "outputs": [
        {
          "output_type": "execute_result",
          "data": {
            "text/plain": [
              "[53, 65, 67, 98, 122, 124, 183, 199]"
            ]
          },
          "metadata": {
            "tags": []
          },
          "execution_count": 8
        }
      ]
    },
    {
      "cell_type": "code",
      "metadata": {
        "colab": {
          "base_uri": "https://localhost:8080/"
        },
        "id": "5xGLwqIeWPch",
        "outputId": "65052761-8883-4602-ccda-f749854b5b27"
      },
      "source": [
        "q4 = q3[:-1]+q2[1:]\n",
        "q4\n",
        "print('The path is : ',q4)"
      ],
      "execution_count": 9,
      "outputs": [
        {
          "output_type": "stream",
          "text": [
            "The path is :  [53, 65, 67, 98, 122, 124, 183, 14, 37]\n"
          ],
          "name": "stdout"
        }
      ]
    },
    {
      "cell_type": "code",
      "metadata": {
        "colab": {
          "base_uri": "https://localhost:8080/"
        },
        "id": "h5kzUr0GWNcp",
        "outputId": "7b817e1a-66fa-4035-afd4-92946723d752"
      },
      "source": [
        "cost = []\n",
        "\n",
        "for i in range(len(q4)-1):\n",
        "    cost.append(abs(q4[i] - q4[i+1]))\n",
        "    if i == (len(q4)-2):\n",
        "        print('sub({}-{})'.format(q4[i],q4[i+1]))\n",
        "    else:\n",
        "        print('sub({}-{})'.format(q4[i],q4[i+1]),end='+')"
      ],
      "execution_count": 10,
      "outputs": [
        {
          "output_type": "stream",
          "text": [
            "sub(53-65)+sub(65-67)+sub(67-98)+sub(98-122)+sub(122-124)+sub(124-183)+sub(183-14)+sub(14-37)\n"
          ],
          "name": "stdout"
        }
      ]
    },
    {
      "cell_type": "code",
      "metadata": {
        "colab": {
          "base_uri": "https://localhost:8080/"
        },
        "id": "5Gti3UG4WlRm",
        "outputId": "8399287a-9a5d-4635-8617-119ec342989a"
      },
      "source": [
        "print('The path cost is->',sum(cost))"
      ],
      "execution_count": 11,
      "outputs": [
        {
          "output_type": "stream",
          "text": [
            "The path cost is-> 322\n"
          ],
          "name": "stdout"
        }
      ]
    }
  ]
}