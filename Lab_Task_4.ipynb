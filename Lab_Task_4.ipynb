{
  "nbformat": 4,
  "nbformat_minor": 0,
  "metadata": {
    "colab": {
      "name": "Lab_Task_4.ipynb",
      "provenance": [],
      "collapsed_sections": [],
      "authorship_tag": "ABX9TyOUI15ANLCaPZb26h/2QM5c",
      "include_colab_link": true
    },
    "kernelspec": {
      "name": "python3",
      "display_name": "Python 3"
    },
    "language_info": {
      "name": "python"
    }
  },
  "cells": [
    {
      "cell_type": "markdown",
      "metadata": {
        "id": "view-in-github",
        "colab_type": "text"
      },
      "source": [
        "<a href=\"https://colab.research.google.com/github/Void-Brain70/OS/blob/main/Lab_Task_4.ipynb\" target=\"_parent\"><img src=\"https://colab.research.google.com/assets/colab-badge.svg\" alt=\"Open In Colab\"/></a>"
      ]
    },
    {
      "cell_type": "markdown",
      "metadata": {
        "id": "15a3Z2kxNOf5"
      },
      "source": [
        "Round Robin Algorithm"
      ]
    },
    {
      "cell_type": "code",
      "metadata": {
        "colab": {
          "base_uri": "https://localhost:8080/"
        },
        "id": "p_5VaVXzNMBl",
        "outputId": "9d30f3bb-3f8c-4763-c0d8-f0e65c2214e5"
      },
      "source": [
        "print(\"Enter the number of Process->\",end=\" \")\n",
        "p = int(input()) \n",
        "print('Enter the Process name->', end=\" \")\n",
        "process = input().split()\n",
        "print('Enter the burst time->', end=\" \")\n",
        "burst = list(map(int, input().split()))"
      ],
      "execution_count": 1,
      "outputs": [
        {
          "output_type": "stream",
          "text": [
            "Enter the number of Process-> 4\n",
            "Enter the Process name-> p1 p2 p3 p4 \n",
            "Enter the burst time-> 21 3 6 2\n"
          ],
          "name": "stdout"
        }
      ]
    },
    {
      "cell_type": "code",
      "metadata": {
        "colab": {
          "base_uri": "https://localhost:8080/"
        },
        "id": "tyAiG5M6NrLU",
        "outputId": "707cc832-ff0a-4232-842f-227f66a6e7a5"
      },
      "source": [
        "print('The Process are->')\n",
        "process"
      ],
      "execution_count": 2,
      "outputs": [
        {
          "output_type": "stream",
          "text": [
            "The Process are->\n"
          ],
          "name": "stdout"
        },
        {
          "output_type": "execute_result",
          "data": {
            "text/plain": [
              "['p1', 'p2', 'p3', 'p4']"
            ]
          },
          "metadata": {},
          "execution_count": 2
        }
      ]
    },
    {
      "cell_type": "code",
      "metadata": {
        "colab": {
          "base_uri": "https://localhost:8080/"
        },
        "id": "of7i3ZBINsyj",
        "outputId": "7790d7cf-be94-4765-d9f7-c2a99169384a"
      },
      "source": [
        "print('The Burst time are->')\n",
        "burst"
      ],
      "execution_count": 3,
      "outputs": [
        {
          "output_type": "stream",
          "text": [
            "The Burst time are->\n"
          ],
          "name": "stdout"
        },
        {
          "output_type": "execute_result",
          "data": {
            "text/plain": [
              "[21, 3, 6, 2]"
            ]
          },
          "metadata": {},
          "execution_count": 3
        }
      ]
    },
    {
      "cell_type": "code",
      "metadata": {
        "colab": {
          "base_uri": "https://localhost:8080/",
          "height": 172
        },
        "id": "nTA-q5kINup0",
        "outputId": "4de3a1da-6c75-4dd3-8355-bbae0657f46a"
      },
      "source": [
        "import pandas as pd\n",
        "l = [process,burst]\n",
        "df = pd.DataFrame(l).transpose()\n",
        "df.columns = ['Process','BurstTime']\n",
        "df"
      ],
      "execution_count": 4,
      "outputs": [
        {
          "output_type": "execute_result",
          "data": {
            "text/html": [
              "<div>\n",
              "<style scoped>\n",
              "    .dataframe tbody tr th:only-of-type {\n",
              "        vertical-align: middle;\n",
              "    }\n",
              "\n",
              "    .dataframe tbody tr th {\n",
              "        vertical-align: top;\n",
              "    }\n",
              "\n",
              "    .dataframe thead th {\n",
              "        text-align: right;\n",
              "    }\n",
              "</style>\n",
              "<table border=\"1\" class=\"dataframe\">\n",
              "  <thead>\n",
              "    <tr style=\"text-align: right;\">\n",
              "      <th></th>\n",
              "      <th>Process</th>\n",
              "      <th>BurstTime</th>\n",
              "    </tr>\n",
              "  </thead>\n",
              "  <tbody>\n",
              "    <tr>\n",
              "      <th>0</th>\n",
              "      <td>p1</td>\n",
              "      <td>21</td>\n",
              "    </tr>\n",
              "    <tr>\n",
              "      <th>1</th>\n",
              "      <td>p2</td>\n",
              "      <td>3</td>\n",
              "    </tr>\n",
              "    <tr>\n",
              "      <th>2</th>\n",
              "      <td>p3</td>\n",
              "      <td>6</td>\n",
              "    </tr>\n",
              "    <tr>\n",
              "      <th>3</th>\n",
              "      <td>p4</td>\n",
              "      <td>2</td>\n",
              "    </tr>\n",
              "  </tbody>\n",
              "</table>\n",
              "</div>"
            ],
            "text/plain": [
              "  Process BurstTime\n",
              "0      p1        21\n",
              "1      p2         3\n",
              "2      p3         6\n",
              "3      p4         2"
            ]
          },
          "metadata": {},
          "execution_count": 4
        }
      ]
    },
    {
      "cell_type": "code",
      "metadata": {
        "colab": {
          "base_uri": "https://localhost:8080/",
          "height": 172
        },
        "id": "5e1W38HkNzYb",
        "outputId": "dd1f8aec-c489-44d7-91a8-346cc2d364c3"
      },
      "source": [
        "df.sort_values(by=['Process'],ascending=True,axis=0,inplace=True)\n",
        "df"
      ],
      "execution_count": 5,
      "outputs": [
        {
          "output_type": "execute_result",
          "data": {
            "text/html": [
              "<div>\n",
              "<style scoped>\n",
              "    .dataframe tbody tr th:only-of-type {\n",
              "        vertical-align: middle;\n",
              "    }\n",
              "\n",
              "    .dataframe tbody tr th {\n",
              "        vertical-align: top;\n",
              "    }\n",
              "\n",
              "    .dataframe thead th {\n",
              "        text-align: right;\n",
              "    }\n",
              "</style>\n",
              "<table border=\"1\" class=\"dataframe\">\n",
              "  <thead>\n",
              "    <tr style=\"text-align: right;\">\n",
              "      <th></th>\n",
              "      <th>Process</th>\n",
              "      <th>BurstTime</th>\n",
              "    </tr>\n",
              "  </thead>\n",
              "  <tbody>\n",
              "    <tr>\n",
              "      <th>0</th>\n",
              "      <td>p1</td>\n",
              "      <td>21</td>\n",
              "    </tr>\n",
              "    <tr>\n",
              "      <th>1</th>\n",
              "      <td>p2</td>\n",
              "      <td>3</td>\n",
              "    </tr>\n",
              "    <tr>\n",
              "      <th>2</th>\n",
              "      <td>p3</td>\n",
              "      <td>6</td>\n",
              "    </tr>\n",
              "    <tr>\n",
              "      <th>3</th>\n",
              "      <td>p4</td>\n",
              "      <td>2</td>\n",
              "    </tr>\n",
              "  </tbody>\n",
              "</table>\n",
              "</div>"
            ],
            "text/plain": [
              "  Process BurstTime\n",
              "0      p1        21\n",
              "1      p2         3\n",
              "2      p3         6\n",
              "3      p4         2"
            ]
          },
          "metadata": {},
          "execution_count": 5
        }
      ]
    },
    {
      "cell_type": "code",
      "metadata": {
        "id": "iAS04orgN1WT"
      },
      "source": [
        "new_df = df.copy()"
      ],
      "execution_count": 6,
      "outputs": []
    },
    {
      "cell_type": "code",
      "metadata": {
        "colab": {
          "base_uri": "https://localhost:8080/",
          "height": 172
        },
        "id": "CR7gwPn7OA2Z",
        "outputId": "6f0039ac-f368-4391-c03c-4b2419cf5b9a"
      },
      "source": [
        "new_df['CopyTime'] = df.BurstTime.copy()\n",
        "new_df"
      ],
      "execution_count": 7,
      "outputs": [
        {
          "output_type": "execute_result",
          "data": {
            "text/html": [
              "<div>\n",
              "<style scoped>\n",
              "    .dataframe tbody tr th:only-of-type {\n",
              "        vertical-align: middle;\n",
              "    }\n",
              "\n",
              "    .dataframe tbody tr th {\n",
              "        vertical-align: top;\n",
              "    }\n",
              "\n",
              "    .dataframe thead th {\n",
              "        text-align: right;\n",
              "    }\n",
              "</style>\n",
              "<table border=\"1\" class=\"dataframe\">\n",
              "  <thead>\n",
              "    <tr style=\"text-align: right;\">\n",
              "      <th></th>\n",
              "      <th>Process</th>\n",
              "      <th>BurstTime</th>\n",
              "      <th>CopyTime</th>\n",
              "    </tr>\n",
              "  </thead>\n",
              "  <tbody>\n",
              "    <tr>\n",
              "      <th>0</th>\n",
              "      <td>p1</td>\n",
              "      <td>21</td>\n",
              "      <td>21</td>\n",
              "    </tr>\n",
              "    <tr>\n",
              "      <th>1</th>\n",
              "      <td>p2</td>\n",
              "      <td>3</td>\n",
              "      <td>3</td>\n",
              "    </tr>\n",
              "    <tr>\n",
              "      <th>2</th>\n",
              "      <td>p3</td>\n",
              "      <td>6</td>\n",
              "      <td>6</td>\n",
              "    </tr>\n",
              "    <tr>\n",
              "      <th>3</th>\n",
              "      <td>p4</td>\n",
              "      <td>2</td>\n",
              "      <td>2</td>\n",
              "    </tr>\n",
              "  </tbody>\n",
              "</table>\n",
              "</div>"
            ],
            "text/plain": [
              "  Process BurstTime CopyTime\n",
              "0      p1        21       21\n",
              "1      p2         3        3\n",
              "2      p3         6        6\n",
              "3      p4         2        2"
            ]
          },
          "metadata": {},
          "execution_count": 7
        }
      ]
    },
    {
      "cell_type": "code",
      "metadata": {
        "colab": {
          "base_uri": "https://localhost:8080/"
        },
        "id": "nco9ffHTOIJP",
        "outputId": "ad7e0dd3-4d87-438e-d63e-fc44727d26f2"
      },
      "source": [
        "tmp = 0\n",
        "l2 = [0]\n",
        "quantum = int(input('Give quantum value->'))"
      ],
      "execution_count": 8,
      "outputs": [
        {
          "output_type": "stream",
          "text": [
            "Give quantum value->5\n"
          ],
          "name": "stdout"
        }
      ]
    },
    {
      "cell_type": "code",
      "metadata": {
        "id": "Gw6UPoTtOQgm"
      },
      "source": [
        "while (new_df['BurstTime']).any() > 0:\n",
        "  for index, row in new_df.iterrows():\n",
        "    if row.BurstTime>0:\n",
        "      l2.append(row.Process)\n",
        "      if row.BurstTime > quantum: \n",
        "        tmp += quantum\n",
        "        l2.append(tmp)\n",
        "        new_df['BurstTime'][index] = row.BurstTime - quantum\n",
        "      else :\n",
        "        tmp += row.BurstTime\n",
        "        l2.append(tmp)\n",
        "        new_df['BurstTime'][index] = 0"
      ],
      "execution_count": 9,
      "outputs": []
    },
    {
      "cell_type": "code",
      "metadata": {
        "colab": {
          "base_uri": "https://localhost:8080/"
        },
        "id": "6bXhLzETOzIL",
        "outputId": "648f21fd-e0d6-4049-a5b2-d20832eff05a"
      },
      "source": [
        "print('Gantt chart {}'.format(str(l2)))"
      ],
      "execution_count": 10,
      "outputs": [
        {
          "output_type": "stream",
          "text": [
            "Gantt chart [0, 'p1', 5, 'p2', 8, 'p3', 13, 'p4', 15, 'p1', 20, 'p3', 21, 'p1', 26, 'p1', 31, 'p1', 32]\n"
          ],
          "name": "stdout"
        }
      ]
    },
    {
      "cell_type": "code",
      "metadata": {
        "colab": {
          "base_uri": "https://localhost:8080/"
        },
        "id": "Xms-YF5UO2gU",
        "outputId": "db048299-ffac-46a0-d60a-131ab72bed8b"
      },
      "source": [
        "import numpy as np\n",
        "l3 = l2[::-1]\n",
        "print(l3)\n",
        "l4 =[]\n",
        "for proc in new_df.Process:\n",
        "  print(proc,l3[l3.index(proc)+1],l3.count(proc)-1)\n",
        "  if (l3.count(proc)-1)>0:\n",
        "    val = l3[l3.index(proc)+1] - (l3.count(proc)-1)*quantum\n",
        "    l4.append(val)\n",
        "  else :\n",
        "    val = l3[l3.index(proc)+1] \n",
        "    l4.append(val)\n",
        "        \n",
        "new_df['WaitingTime'] = l4\n",
        "\n",
        "print('Average wait time is {0:.2f}ms'.format(new_df['WaitingTime'].mean()))"
      ],
      "execution_count": 11,
      "outputs": [
        {
          "output_type": "stream",
          "text": [
            "[32, 'p1', 31, 'p1', 26, 'p1', 21, 'p3', 20, 'p1', 15, 'p4', 13, 'p3', 8, 'p2', 5, 'p1', 0]\n",
            "p1 31 4\n",
            "p2 5 0\n",
            "p3 20 1\n",
            "p4 13 0\n",
            "Average wait time is 11.00ms\n"
          ],
          "name": "stdout"
        }
      ]
    }
  ]
}