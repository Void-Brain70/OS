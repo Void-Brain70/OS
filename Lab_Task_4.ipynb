{
  "nbformat": 4,
  "nbformat_minor": 0,
  "metadata": {
    "colab": {
      "name": "Lab_Task_4.ipynb",
      "provenance": [],
      "collapsed_sections": [],
      "authorship_tag": "ABX9TyP0SfcCIBxAAFEafUcX+/GS",
      "include_colab_link": true
    },
    "kernelspec": {
      "name": "python3",
      "display_name": "Python 3"
    },
    "language_info": {
      "name": "python"
    }
  },
  "cells": [
    {
      "cell_type": "markdown",
      "metadata": {
        "id": "view-in-github",
        "colab_type": "text"
      },
      "source": [
        "<a href=\"https://colab.research.google.com/github/Void-Brain70/OS/blob/main/Lab_Task_4.ipynb\" target=\"_parent\"><img src=\"https://colab.research.google.com/assets/colab-badge.svg\" alt=\"Open In Colab\"/></a>"
      ]
    },
    {
      "cell_type": "markdown",
      "metadata": {
        "id": "15a3Z2kxNOf5"
      },
      "source": [
        "Round Robin Algorithm"
      ]
    },
    {
      "cell_type": "code",
      "metadata": {
        "colab": {
          "base_uri": "https://localhost:8080/"
        },
        "id": "p_5VaVXzNMBl",
        "outputId": "d837e477-390d-4020-9d7d-62135d444452"
      },
      "source": [
        "print(\"Enter the number of Process->\",end=\" \")\n",
        "p = int(input()) \n",
        "print('Enter the Process name->', end=\" \")\n",
        "process = input().split()\n",
        "print('Enter the burst time->', end=\" \")\n",
        "burst = list(map(int, input().split()))"
      ],
      "execution_count": 1,
      "outputs": [
        {
          "output_type": "stream",
          "text": [
            "Enter the number of Process-> 4\n",
            "Enter the Process name-> p1 p2 p3 p4\n",
            "Enter the burst time-> 21 3 6 2\n"
          ],
          "name": "stdout"
        }
      ]
    },
    {
      "cell_type": "code",
      "metadata": {
        "colab": {
          "base_uri": "https://localhost:8080/"
        },
        "id": "tyAiG5M6NrLU",
        "outputId": "6c957171-2cb8-432a-e8f0-f297bb5966bc"
      },
      "source": [
        "print('The Process are->')\n",
        "process"
      ],
      "execution_count": 19,
      "outputs": [
        {
          "output_type": "stream",
          "text": [
            "The Process are->\n"
          ],
          "name": "stdout"
        },
        {
          "output_type": "execute_result",
          "data": {
            "text/plain": [
              "['p1', 'p2', 'p3', 'p4']"
            ]
          },
          "metadata": {
            "tags": []
          },
          "execution_count": 19
        }
      ]
    },
    {
      "cell_type": "code",
      "metadata": {
        "colab": {
          "base_uri": "https://localhost:8080/"
        },
        "id": "of7i3ZBINsyj",
        "outputId": "2770be06-3ccc-4903-f015-fbd854bdd9c2"
      },
      "source": [
        "print('The Burst time are->')\n",
        "burst"
      ],
      "execution_count": 20,
      "outputs": [
        {
          "output_type": "stream",
          "text": [
            "The Burst time are->\n"
          ],
          "name": "stdout"
        },
        {
          "output_type": "execute_result",
          "data": {
            "text/plain": [
              "[21, 3, 6, 2]"
            ]
          },
          "metadata": {
            "tags": []
          },
          "execution_count": 20
        }
      ]
    },
    {
      "cell_type": "code",
      "metadata": {
        "colab": {
          "base_uri": "https://localhost:8080/",
          "height": 172
        },
        "id": "nTA-q5kINup0",
        "outputId": "651e21e7-be0a-4a1d-e894-ac69cdd4e9cd"
      },
      "source": [
        "import pandas as pd\n",
        "l = [process,burst]\n",
        "df = pd.DataFrame(l).transpose()\n",
        "df.columns = ['Process','BurstTime']\n",
        "df"
      ],
      "execution_count": 29,
      "outputs": [
        {
          "output_type": "execute_result",
          "data": {
            "text/html": [
              "<div>\n",
              "<style scoped>\n",
              "    .dataframe tbody tr th:only-of-type {\n",
              "        vertical-align: middle;\n",
              "    }\n",
              "\n",
              "    .dataframe tbody tr th {\n",
              "        vertical-align: top;\n",
              "    }\n",
              "\n",
              "    .dataframe thead th {\n",
              "        text-align: right;\n",
              "    }\n",
              "</style>\n",
              "<table border=\"1\" class=\"dataframe\">\n",
              "  <thead>\n",
              "    <tr style=\"text-align: right;\">\n",
              "      <th></th>\n",
              "      <th>Process</th>\n",
              "      <th>BurstTime</th>\n",
              "    </tr>\n",
              "  </thead>\n",
              "  <tbody>\n",
              "    <tr>\n",
              "      <th>0</th>\n",
              "      <td>p1</td>\n",
              "      <td>21</td>\n",
              "    </tr>\n",
              "    <tr>\n",
              "      <th>1</th>\n",
              "      <td>p2</td>\n",
              "      <td>3</td>\n",
              "    </tr>\n",
              "    <tr>\n",
              "      <th>2</th>\n",
              "      <td>p3</td>\n",
              "      <td>6</td>\n",
              "    </tr>\n",
              "    <tr>\n",
              "      <th>3</th>\n",
              "      <td>p4</td>\n",
              "      <td>2</td>\n",
              "    </tr>\n",
              "  </tbody>\n",
              "</table>\n",
              "</div>"
            ],
            "text/plain": [
              "  Process BurstTime\n",
              "0      p1        21\n",
              "1      p2         3\n",
              "2      p3         6\n",
              "3      p4         2"
            ]
          },
          "metadata": {
            "tags": []
          },
          "execution_count": 29
        }
      ]
    },
    {
      "cell_type": "code",
      "metadata": {
        "colab": {
          "base_uri": "https://localhost:8080/",
          "height": 172
        },
        "id": "5e1W38HkNzYb",
        "outputId": "d4ba7623-a07c-42d5-ab2a-07af85013ed5"
      },
      "source": [
        "df.sort_values(by=['Process'],ascending=True,axis=0,inplace=True)\n",
        "df"
      ],
      "execution_count": 30,
      "outputs": [
        {
          "output_type": "execute_result",
          "data": {
            "text/html": [
              "<div>\n",
              "<style scoped>\n",
              "    .dataframe tbody tr th:only-of-type {\n",
              "        vertical-align: middle;\n",
              "    }\n",
              "\n",
              "    .dataframe tbody tr th {\n",
              "        vertical-align: top;\n",
              "    }\n",
              "\n",
              "    .dataframe thead th {\n",
              "        text-align: right;\n",
              "    }\n",
              "</style>\n",
              "<table border=\"1\" class=\"dataframe\">\n",
              "  <thead>\n",
              "    <tr style=\"text-align: right;\">\n",
              "      <th></th>\n",
              "      <th>Process</th>\n",
              "      <th>BurstTime</th>\n",
              "    </tr>\n",
              "  </thead>\n",
              "  <tbody>\n",
              "    <tr>\n",
              "      <th>0</th>\n",
              "      <td>p1</td>\n",
              "      <td>21</td>\n",
              "    </tr>\n",
              "    <tr>\n",
              "      <th>1</th>\n",
              "      <td>p2</td>\n",
              "      <td>3</td>\n",
              "    </tr>\n",
              "    <tr>\n",
              "      <th>2</th>\n",
              "      <td>p3</td>\n",
              "      <td>6</td>\n",
              "    </tr>\n",
              "    <tr>\n",
              "      <th>3</th>\n",
              "      <td>p4</td>\n",
              "      <td>2</td>\n",
              "    </tr>\n",
              "  </tbody>\n",
              "</table>\n",
              "</div>"
            ],
            "text/plain": [
              "  Process BurstTime\n",
              "0      p1        21\n",
              "1      p2         3\n",
              "2      p3         6\n",
              "3      p4         2"
            ]
          },
          "metadata": {
            "tags": []
          },
          "execution_count": 30
        }
      ]
    },
    {
      "cell_type": "code",
      "metadata": {
        "id": "iAS04orgN1WT"
      },
      "source": [
        "new_df = df.copy()"
      ],
      "execution_count": 31,
      "outputs": []
    },
    {
      "cell_type": "code",
      "metadata": {
        "colab": {
          "base_uri": "https://localhost:8080/",
          "height": 172
        },
        "id": "CR7gwPn7OA2Z",
        "outputId": "eb3a5ca6-0383-4b58-eb95-ffc72122c668"
      },
      "source": [
        "new_df['CopyTime'] = df.BurstTime.copy()\n",
        "new_df"
      ],
      "execution_count": 32,
      "outputs": [
        {
          "output_type": "execute_result",
          "data": {
            "text/html": [
              "<div>\n",
              "<style scoped>\n",
              "    .dataframe tbody tr th:only-of-type {\n",
              "        vertical-align: middle;\n",
              "    }\n",
              "\n",
              "    .dataframe tbody tr th {\n",
              "        vertical-align: top;\n",
              "    }\n",
              "\n",
              "    .dataframe thead th {\n",
              "        text-align: right;\n",
              "    }\n",
              "</style>\n",
              "<table border=\"1\" class=\"dataframe\">\n",
              "  <thead>\n",
              "    <tr style=\"text-align: right;\">\n",
              "      <th></th>\n",
              "      <th>Process</th>\n",
              "      <th>BurstTime</th>\n",
              "      <th>CopyTime</th>\n",
              "    </tr>\n",
              "  </thead>\n",
              "  <tbody>\n",
              "    <tr>\n",
              "      <th>0</th>\n",
              "      <td>p1</td>\n",
              "      <td>21</td>\n",
              "      <td>21</td>\n",
              "    </tr>\n",
              "    <tr>\n",
              "      <th>1</th>\n",
              "      <td>p2</td>\n",
              "      <td>3</td>\n",
              "      <td>3</td>\n",
              "    </tr>\n",
              "    <tr>\n",
              "      <th>2</th>\n",
              "      <td>p3</td>\n",
              "      <td>6</td>\n",
              "      <td>6</td>\n",
              "    </tr>\n",
              "    <tr>\n",
              "      <th>3</th>\n",
              "      <td>p4</td>\n",
              "      <td>2</td>\n",
              "      <td>2</td>\n",
              "    </tr>\n",
              "  </tbody>\n",
              "</table>\n",
              "</div>"
            ],
            "text/plain": [
              "  Process BurstTime CopyTime\n",
              "0      p1        21       21\n",
              "1      p2         3        3\n",
              "2      p3         6        6\n",
              "3      p4         2        2"
            ]
          },
          "metadata": {
            "tags": []
          },
          "execution_count": 32
        }
      ]
    },
    {
      "cell_type": "code",
      "metadata": {
        "colab": {
          "base_uri": "https://localhost:8080/"
        },
        "id": "nco9ffHTOIJP",
        "outputId": "c38da63c-4413-4cfe-974a-7c4cea6749f9"
      },
      "source": [
        "tmp = 0\n",
        "l2 = [0]\n",
        "threshold = int(input('Give quantum value->'))"
      ],
      "execution_count": 33,
      "outputs": [
        {
          "output_type": "stream",
          "text": [
            "Give quantum value->5\n"
          ],
          "name": "stdout"
        }
      ]
    },
    {
      "cell_type": "code",
      "metadata": {
        "id": "Gw6UPoTtOQgm"
      },
      "source": [
        "while (new_df['BurstTime']).any() > 0:\n",
        "  for index, row in new_df.iterrows():\n",
        "    if row.BurstTime>0:\n",
        "      l2.append(row.Process)\n",
        "      if row.BurstTime > threshold: \n",
        "        tmp += threshold\n",
        "        l2.append(tmp)\n",
        "        new_df['BurstTime'][index] = row.BurstTime - threshold\n",
        "      else :\n",
        "        tmp += row.BurstTime\n",
        "        l2.append(tmp)\n",
        "        new_df['BurstTime'][index] = 0"
      ],
      "execution_count": 34,
      "outputs": []
    },
    {
      "cell_type": "code",
      "metadata": {
        "colab": {
          "base_uri": "https://localhost:8080/"
        },
        "id": "6bXhLzETOzIL",
        "outputId": "1cac054d-6a4f-4449-f347-1de95d832356"
      },
      "source": [
        "print('Gantt chart {}'.format(str(l2)))"
      ],
      "execution_count": 35,
      "outputs": [
        {
          "output_type": "stream",
          "text": [
            "Gantt chart [0, 'p1', 5, 'p2', 8, 'p3', 13, 'p4', 15, 'p1', 20, 'p3', 21, 'p1', 26, 'p1', 31, 'p1', 32]\n"
          ],
          "name": "stdout"
        }
      ]
    },
    {
      "cell_type": "code",
      "metadata": {
        "colab": {
          "base_uri": "https://localhost:8080/"
        },
        "id": "Xms-YF5UO2gU",
        "outputId": "e4d32ffe-766d-43ba-ed49-74b495a15e9f"
      },
      "source": [
        "import numpy as np\n",
        "l3 = l2[::-1]\n",
        "print(l3)\n",
        "l4 =[]\n",
        "for proc in new_df.Process:\n",
        "  print(proc,l3[l3.index(proc)+1],l3.count(proc)-1)\n",
        "  if (l3.count(proc)-1)>0:\n",
        "    val = l3[l3.index(proc)+1] - (l3.count(proc)-1)*threshold\n",
        "    l4.append(val)\n",
        "  else :\n",
        "    val = l3[l3.index(proc)+1] \n",
        "    l4.append(val)\n",
        "        \n",
        "new_df['WaitingTime'] = l4\n",
        "\n",
        "print('Average wait time is {0:.2f}ms'.format(new_df['WaitingTime'].mean()))"
      ],
      "execution_count": 36,
      "outputs": [
        {
          "output_type": "stream",
          "text": [
            "[32, 'p1', 31, 'p1', 26, 'p1', 21, 'p3', 20, 'p1', 15, 'p4', 13, 'p3', 8, 'p2', 5, 'p1', 0]\n",
            "p1 31 4\n",
            "p2 5 0\n",
            "p3 20 1\n",
            "p4 13 0\n",
            "Average wait time is 11.00ms\n"
          ],
          "name": "stdout"
        }
      ]
    }
  ]
}