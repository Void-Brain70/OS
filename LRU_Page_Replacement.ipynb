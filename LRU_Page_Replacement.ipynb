{
  "nbformat": 4,
  "nbformat_minor": 0,
  "metadata": {
    "colab": {
      "name": "LRU_Page_Replacement.ipynb",
      "provenance": [],
      "authorship_tag": "ABX9TyMnpjyCEIwaVNYkKqi/dgrp",
      "include_colab_link": true
    },
    "kernelspec": {
      "name": "python3",
      "display_name": "Python 3"
    },
    "language_info": {
      "name": "python"
    }
  },
  "cells": [
    {
      "cell_type": "markdown",
      "metadata": {
        "id": "view-in-github",
        "colab_type": "text"
      },
      "source": [
        "<a href=\"https://colab.research.google.com/github/Void-Brain70/OS/blob/main/LRU_Page_Replacement.ipynb\" target=\"_parent\"><img src=\"https://colab.research.google.com/assets/colab-badge.svg\" alt=\"Open In Colab\"/></a>"
      ]
    },
    {
      "cell_type": "code",
      "metadata": {
        "colab": {
          "base_uri": "https://localhost:8080/"
        },
        "id": "khx1Xyux_m-Q",
        "outputId": "b4025ef4-d4cf-4241-bc68-870b12d11c68"
      },
      "source": [
        "buffer = int(input('Enter the buffer size->'))\n",
        "\n",
        "sequence = list(map(int, input('Enter the input sequence->').split()))"
      ],
      "execution_count": 1,
      "outputs": [
        {
          "name": "stdout",
          "output_type": "stream",
          "text": [
            "Enter the buffer size->3\n",
            "Enter the input sequence->7 0 1 2 0 3 0 4 2 3 0 3 2 1 2 0 1 7 0 1\n"
          ]
        }
      ]
    },
    {
      "cell_type": "code",
      "metadata": {
        "colab": {
          "base_uri": "https://localhost:8080/"
        },
        "id": "g4KBQzZ8_5RL",
        "outputId": "98224b2a-8b78-42e0-bb1e-39aadbc8de5b"
      },
      "source": [
        "sequence"
      ],
      "execution_count": 2,
      "outputs": [
        {
          "output_type": "execute_result",
          "data": {
            "text/plain": [
              "[7, 0, 1, 2, 0, 3, 0, 4, 2, 3, 0, 3, 2, 1, 2, 0, 1, 7, 0, 1]"
            ]
          },
          "metadata": {},
          "execution_count": 2
        }
      ]
    },
    {
      "cell_type": "code",
      "metadata": {
        "colab": {
          "base_uri": "https://localhost:8080/"
        },
        "id": "LLLgI1QZ_7ki",
        "outputId": "a780ae1b-3f74-48a0-8692-436d1996d8f4"
      },
      "source": [
        "buffer_ls = []  \n",
        "page_fault = 0\n",
        "\n",
        "  \n",
        "for i in sequence: \n",
        "  \n",
        "\n",
        "    if i in buffer_ls: \n",
        "         # Remove previous index of current page \n",
        "        print('--Pagehit--')\n",
        "        buffer_ls.remove(i) \n",
        "  \n",
        "        # Now append it, at last index \n",
        "        buffer_ls.append(i) \n",
        "  \n",
        "\n",
        "    else: \n",
        "        # Check if the list can hold equal pages \n",
        "        if(len(buffer_ls) == buffer): \n",
        "            buffer_ls.remove(buffer_ls[0]) \n",
        "            buffer_ls.append(i) \n",
        "  \n",
        "        else: \n",
        "            buffer_ls.append(i) \n",
        "  \n",
        "        print(buffer_ls)\n",
        "        page_fault +=1"
      ],
      "execution_count": 3,
      "outputs": [
        {
          "output_type": "stream",
          "name": "stdout",
          "text": [
            "[7]\n",
            "[7, 0]\n",
            "[7, 0, 1]\n",
            "[0, 1, 2]\n",
            "--Pagehit--\n",
            "[2, 0, 3]\n",
            "--Pagehit--\n",
            "[3, 0, 4]\n",
            "[0, 4, 2]\n",
            "[4, 2, 3]\n",
            "[2, 3, 0]\n",
            "--Pagehit--\n",
            "--Pagehit--\n",
            "[3, 2, 1]\n",
            "--Pagehit--\n",
            "[1, 2, 0]\n",
            "--Pagehit--\n",
            "[0, 1, 7]\n",
            "--Pagehit--\n",
            "--Pagehit--\n"
          ]
        }
      ]
    },
    {
      "cell_type": "code",
      "metadata": {
        "colab": {
          "base_uri": "https://localhost:8080/"
        },
        "id": "qD9VCgBW_-Sj",
        "outputId": "509aff6b-4e4e-4d60-8b09-fc3503df1c92"
      },
      "source": [
        "print('The number of page fault->', page_fault)"
      ],
      "execution_count": 4,
      "outputs": [
        {
          "output_type": "stream",
          "name": "stdout",
          "text": [
            "The number of page fault-> 12\n"
          ]
        }
      ]
    }
  ]
}