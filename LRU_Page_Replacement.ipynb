{
  "nbformat": 4,
  "nbformat_minor": 0,
  "metadata": {
    "colab": {
      "name": "LRU_Page_Replacement.ipynb",
      "provenance": [],
      "authorship_tag": "ABX9TyPAPrHQTcJiV7qV0K4WmKgK",
      "include_colab_link": true
    },
    "kernelspec": {
      "name": "python3",
      "display_name": "Python 3"
    },
    "language_info": {
      "name": "python"
    }
  },
  "cells": [
    {
      "cell_type": "markdown",
      "metadata": {
        "id": "view-in-github",
        "colab_type": "text"
      },
      "source": [
        "<a href=\"https://colab.research.google.com/github/Void-Brain70/OS/blob/main/LRU_Page_Replacement.ipynb\" target=\"_parent\"><img src=\"https://colab.research.google.com/assets/colab-badge.svg\" alt=\"Open In Colab\"/></a>"
      ]
    },
    {
      "cell_type": "code",
      "metadata": {
        "colab": {
          "base_uri": "https://localhost:8080/"
        },
        "id": "khx1Xyux_m-Q",
        "outputId": "10523331-dcb5-417f-c42d-560554e869f0"
      },
      "source": [
        "frame = int(input('Enter the frame size->'))\n",
        "\n",
        "sequence = list(map(int, input('Enter the page reference string->').split()))"
      ],
      "execution_count": 1,
      "outputs": [
        {
          "name": "stdout",
          "output_type": "stream",
          "text": [
            "Enter the frame size->3\n",
            "Enter the page reference string->7 0 1 2 0 3 0 4 2 3 0 3 2 1 2 0 1 7 0 1\n"
          ]
        }
      ]
    },
    {
      "cell_type": "code",
      "metadata": {
        "colab": {
          "base_uri": "https://localhost:8080/"
        },
        "id": "g4KBQzZ8_5RL",
        "outputId": "8d791934-cadb-4552-e890-9dd047e3dba6"
      },
      "source": [
        "sequence"
      ],
      "execution_count": 2,
      "outputs": [
        {
          "output_type": "execute_result",
          "data": {
            "text/plain": [
              "[7, 0, 1, 2, 0, 3, 0, 4, 2, 3, 0, 3, 2, 1, 2, 0, 1, 7, 0, 1]"
            ]
          },
          "metadata": {},
          "execution_count": 2
        }
      ]
    },
    {
      "cell_type": "code",
      "metadata": {
        "colab": {
          "base_uri": "https://localhost:8080/"
        },
        "id": "LLLgI1QZ_7ki",
        "outputId": "e15d5e37-4503-4217-d984-3d23eefcf838"
      },
      "source": [
        "frame_ls = []  \n",
        "page_fault = 0\n",
        "\n",
        "  \n",
        "for i in sequence: \n",
        "  \n",
        "\n",
        "    if i in frame_ls: \n",
        "         # Remove previous index of current page \n",
        "        print('--Pagehit--')\n",
        "        frame_ls.remove(i) \n",
        "  \n",
        "        # Now append it, at last index \n",
        "        frame_ls.append(i) \n",
        "  \n",
        "\n",
        "    else: \n",
        "        # Check if the list can hold equal pages \n",
        "        if(len(frame_ls) == frame): \n",
        "            frame_ls.remove(frame_ls[0]) \n",
        "            frame_ls.append(i) \n",
        "  \n",
        "        else: \n",
        "            frame_ls.append(i) \n",
        "  \n",
        "        print(frame_ls)\n",
        "        page_fault +=1"
      ],
      "execution_count": 3,
      "outputs": [
        {
          "output_type": "stream",
          "name": "stdout",
          "text": [
            "[7]\n",
            "[7, 0]\n",
            "[7, 0, 1]\n",
            "[0, 1, 2]\n",
            "--Pagehit--\n",
            "[2, 0, 3]\n",
            "--Pagehit--\n",
            "[3, 0, 4]\n",
            "[0, 4, 2]\n",
            "[4, 2, 3]\n",
            "[2, 3, 0]\n",
            "--Pagehit--\n",
            "--Pagehit--\n",
            "[3, 2, 1]\n",
            "--Pagehit--\n",
            "[1, 2, 0]\n",
            "--Pagehit--\n",
            "[0, 1, 7]\n",
            "--Pagehit--\n",
            "--Pagehit--\n"
          ]
        }
      ]
    },
    {
      "cell_type": "code",
      "metadata": {
        "colab": {
          "base_uri": "https://localhost:8080/"
        },
        "id": "qD9VCgBW_-Sj",
        "outputId": "f5036191-da94-4530-ef2b-50cafa368156"
      },
      "source": [
        "print('The number of page fault->', page_fault)"
      ],
      "execution_count": 4,
      "outputs": [
        {
          "output_type": "stream",
          "name": "stdout",
          "text": [
            "The number of page fault-> 12\n"
          ]
        }
      ]
    }
  ]
}