{
  "nbformat": 4,
  "nbformat_minor": 0,
  "metadata": {
    "colab": {
      "name": "LRU_Page_Replacement.ipynb",
      "provenance": [],
      "authorship_tag": "ABX9TyPAPrHQTcJiV7qV0K4WmKgK",
      "include_colab_link": true
    },
    "kernelspec": {
      "name": "python3",
      "display_name": "Python 3"
    },
    "language_info": {
      "name": "python"
    }
  },
  "cells": [
    {
      "cell_type": "markdown",
      "metadata": {
        "id": "view-in-github",
        "colab_type": "text"
      },
      "source": [
        "<a href=\"https://colab.research.google.com/github/Void-Brain70/OS/blob/main/LRU_Page_Replacement.ipynb\" target=\"_parent\"><img src=\"https://colab.research.google.com/assets/colab-badge.svg\" alt=\"Open In Colab\"/></a>"
      ]
    },
    {
      "cell_type": "code",
      "metadata": {
        "colab": {
          "base_uri": "https://localhost:8080/"
        },
        "id": "khx1Xyux_m-Q",
        "outputId": "74ff04e6-2403-4f1d-a5c0-2e2e5e79a1b0"
      },
      "source": [
        "frame = int(input('Enter the frame size->'))\n",
        "\n",
        "sequence = list(map(int, input('Enter the page reference string->').split()))"
      ],
      "execution_count": 1,
      "outputs": [
        {
          "name": "stdout",
          "output_type": "stream",
          "text": [
            "Enter the frame size->4\n",
            "Enter the page reference string->0 7 0 1 0 1 8 1 1 8 1 0 1 0 7 0\n"
          ]
        }
      ]
    },
    {
      "cell_type": "code",
      "metadata": {
        "colab": {
          "base_uri": "https://localhost:8080/"
        },
        "id": "g4KBQzZ8_5RL",
        "outputId": "8671935b-9000-4c91-ed7e-d86793487451"
      },
      "source": [
        "sequence"
      ],
      "execution_count": 2,
      "outputs": [
        {
          "output_type": "execute_result",
          "data": {
            "text/plain": [
              "[0, 7, 0, 1, 0, 1, 8, 1, 1, 8, 1, 0, 1, 0, 7, 0]"
            ]
          },
          "metadata": {},
          "execution_count": 2
        }
      ]
    },
    {
      "cell_type": "code",
      "metadata": {
        "colab": {
          "base_uri": "https://localhost:8080/"
        },
        "id": "LLLgI1QZ_7ki",
        "outputId": "a0003ff8-282a-49df-ae4d-30eea9631f60"
      },
      "source": [
        "frame_ls = []  \n",
        "page_fault = 0\n",
        "\n",
        "  \n",
        "for i in sequence: \n",
        "  \n",
        "\n",
        "    if i in frame_ls: \n",
        "         # Remove previous index of current page \n",
        "        print('--Pagehit--')\n",
        "        frame_ls.remove(i) \n",
        "  \n",
        "        # Now append it, at last index \n",
        "        frame_ls.append(i) \n",
        "  \n",
        "\n",
        "    else: \n",
        "        # Check if the list can hold equal pages \n",
        "        if(len(frame_ls) == frame): \n",
        "            frame_ls.remove(frame_ls[0]) \n",
        "            frame_ls.append(i) \n",
        "  \n",
        "        else: \n",
        "            frame_ls.append(i) \n",
        "  \n",
        "        print(frame_ls)\n",
        "        page_fault +=1"
      ],
      "execution_count": 3,
      "outputs": [
        {
          "output_type": "stream",
          "name": "stdout",
          "text": [
            "[0]\n",
            "[0, 7]\n",
            "--Pagehit--\n",
            "[7, 0, 1]\n",
            "--Pagehit--\n",
            "--Pagehit--\n",
            "[7, 0, 1, 8]\n",
            "--Pagehit--\n",
            "--Pagehit--\n",
            "--Pagehit--\n",
            "--Pagehit--\n",
            "--Pagehit--\n",
            "--Pagehit--\n",
            "--Pagehit--\n",
            "--Pagehit--\n",
            "--Pagehit--\n"
          ]
        }
      ]
    },
    {
      "cell_type": "code",
      "metadata": {
        "colab": {
          "base_uri": "https://localhost:8080/"
        },
        "id": "qD9VCgBW_-Sj",
        "outputId": "6781c7b8-f317-48d6-fd56-9f2d2759d639"
      },
      "source": [
        "print('The number of page fault->', page_fault)"
      ],
      "execution_count": 4,
      "outputs": [
        {
          "output_type": "stream",
          "name": "stdout",
          "text": [
            "The number of page fault-> 4\n"
          ]
        }
      ]
    }
  ]
}