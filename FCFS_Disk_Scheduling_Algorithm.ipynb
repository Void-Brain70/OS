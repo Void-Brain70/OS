{
  "nbformat": 4,
  "nbformat_minor": 0,
  "metadata": {
    "colab": {
      "name": "FCFS_Disk_Scheduling_Algorithm.ipynb",
      "provenance": [],
      "collapsed_sections": [],
      "authorship_tag": "ABX9TyNuCYwS1Y5HzkzSKjT+7eZW",
      "include_colab_link": true
    },
    "kernelspec": {
      "name": "python3",
      "display_name": "Python 3"
    },
    "language_info": {
      "name": "python"
    }
  },
  "cells": [
    {
      "cell_type": "markdown",
      "metadata": {
        "id": "view-in-github",
        "colab_type": "text"
      },
      "source": [
        "<a href=\"https://colab.research.google.com/github/Void-Brain70/OS/blob/main/FCFS_Disk_Scheduling_Algorithm.ipynb\" target=\"_parent\"><img src=\"https://colab.research.google.com/assets/colab-badge.svg\" alt=\"Open In Colab\"/></a>"
      ]
    },
    {
      "cell_type": "code",
      "metadata": {
        "colab": {
          "base_uri": "https://localhost:8080/"
        },
        "id": "2q5rX9nTNsdx",
        "outputId": "002f1e36-97aa-4d15-9ffb-d797675d42ed"
      },
      "source": [
        "queue = list(map(int,input(\"Enter the Sequence->\").split()))\n",
        "head  = int(input(\"Head Pointer->\"))"
      ],
      "execution_count": 1,
      "outputs": [
        {
          "name": "stdout",
          "output_type": "stream",
          "text": [
            "Enter the Sequence->45 21 67 90 4 50 89 52 61 87 25\n",
            "Head Pointer->50\n"
          ]
        }
      ]
    },
    {
      "cell_type": "code",
      "metadata": {
        "colab": {
          "base_uri": "https://localhost:8080/"
        },
        "id": "Wv_OkttXQ3UP",
        "outputId": "13ef0084-6b37-4f83-f94a-fa4f986f1bb2"
      },
      "source": [
        "queue.insert(0,head)\n",
        "print('The Queueing Path->',queue)"
      ],
      "execution_count": 2,
      "outputs": [
        {
          "output_type": "stream",
          "name": "stdout",
          "text": [
            "The Queueing Path-> [50, 45, 21, 67, 90, 4, 50, 89, 52, 61, 87, 25]\n"
          ]
        }
      ]
    },
    {
      "cell_type": "code",
      "metadata": {
        "colab": {
          "base_uri": "https://localhost:8080/"
        },
        "id": "7WXETLRjRDlA",
        "outputId": "b77fd845-1ec2-4a43-d6e4-fa3af246f7a1"
      },
      "source": [
        "t = [0]\n",
        "\n",
        "for i in range(1,len(queue)):\n",
        "  if i == len(queue)-1:\n",
        "    print(\"sub({}-{})\".format(queue[i],queue[i-1]))\n",
        "  else:\n",
        "    print(\"sub({}-{})\".format(queue[i],queue[i-1]),end='+')\n",
        "  t.append(abs(queue[i]-queue[i-1]))  \n",
        "\n",
        "\n",
        "print('Total path cost is->',sum(t))  "
      ],
      "execution_count": 3,
      "outputs": [
        {
          "output_type": "stream",
          "name": "stdout",
          "text": [
            "sub(45-50)+sub(21-45)+sub(67-21)+sub(90-67)+sub(4-90)+sub(50-4)+sub(89-50)+sub(52-89)+sub(61-52)+sub(87-61)+sub(25-87)\n",
            "Total path cost is-> 403\n"
          ]
        }
      ]
    }
  ]
}