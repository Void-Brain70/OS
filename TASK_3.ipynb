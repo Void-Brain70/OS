{
  "nbformat": 4,
  "nbformat_minor": 0,
  "metadata": {
    "colab": {
      "name": "TASK-3.ipynb",
      "provenance": [],
      "authorship_tag": "ABX9TyMJ9WIyK6d6Ufm0eg/Zp9yO",
      "include_colab_link": true
    },
    "kernelspec": {
      "name": "python3",
      "display_name": "Python 3"
    },
    "language_info": {
      "name": "python"
    }
  },
  "cells": [
    {
      "cell_type": "markdown",
      "metadata": {
        "id": "view-in-github",
        "colab_type": "text"
      },
      "source": [
        "<a href=\"https://colab.research.google.com/github/Void-Brain70/OS/blob/main/TASK_3.ipynb\" target=\"_parent\"><img src=\"https://colab.research.google.com/assets/colab-badge.svg\" alt=\"Open In Colab\"/></a>"
      ]
    },
    {
      "cell_type": "markdown",
      "metadata": {
        "id": "HzStZ14Kknlk"
      },
      "source": [
        "LRU Page Replacement"
      ]
    },
    {
      "cell_type": "code",
      "metadata": {
        "colab": {
          "base_uri": "https://localhost:8080/"
        },
        "id": "tVQbxx_0khK5",
        "outputId": "f3950850-e1dc-496f-91b9-ac447b783d4c"
      },
      "source": [
        "buffer = int(input('Provide buffer size'))\n",
        "\n",
        "sequence = list(map(int, input('Provide input sequence').split()))"
      ],
      "execution_count": 1,
      "outputs": [
        {
          "name": "stdout",
          "output_type": "stream",
          "text": [
            "Provide buffer size3\n",
            "Provide input sequence7 0 1 2 0 3 0 4 2 3 0 3 2 1 2 0 1 7 0 1\n"
          ]
        }
      ]
    },
    {
      "cell_type": "code",
      "metadata": {
        "colab": {
          "base_uri": "https://localhost:8080/"
        },
        "id": "P_U1_WrjkrpM",
        "outputId": "44e87ab5-e0b7-4379-e608-0becde0e860d"
      },
      "source": [
        "\n",
        "buffer_ls = []  \n",
        "page_fault = 0\n",
        "\n",
        "  \n",
        "for i in sequence: \n",
        "  \n",
        "\n",
        "    if i in buffer_ls: \n",
        "        print('--hit--')\n",
        "        buffer_ls.remove(i) \n",
        "        buffer_ls.append(i) \n",
        "  \n",
        "\n",
        "    else: \n",
        "        if(len(buffer_ls) == buffer): \n",
        "            buffer_ls.remove(buffer_ls[0]) \n",
        "            buffer_ls.append(i) \n",
        "  \n",
        "        else: \n",
        "            buffer_ls.append(i) \n",
        "  \n",
        "        print(buffer_ls)\n",
        "        page_fault +=1"
      ],
      "execution_count": 2,
      "outputs": [
        {
          "output_type": "stream",
          "name": "stdout",
          "text": [
            "[7]\n",
            "[7, 0]\n",
            "[7, 0, 1]\n",
            "[0, 1, 2]\n",
            "--hit--\n",
            "[2, 0, 3]\n",
            "--hit--\n",
            "[3, 0, 4]\n",
            "[0, 4, 2]\n",
            "[4, 2, 3]\n",
            "[2, 3, 0]\n",
            "--hit--\n",
            "--hit--\n",
            "[3, 2, 1]\n",
            "--hit--\n",
            "[1, 2, 0]\n",
            "--hit--\n",
            "[0, 1, 7]\n",
            "--hit--\n",
            "--hit--\n"
          ]
        }
      ]
    },
    {
      "cell_type": "code",
      "metadata": {
        "colab": {
          "base_uri": "https://localhost:8080/"
        },
        "id": "EaFyyjnZkxac",
        "outputId": "2def8928-2603-4b6d-cfcd-b58cf159d8a5"
      },
      "source": [
        "print('Number of page fault', page_fault)"
      ],
      "execution_count": 3,
      "outputs": [
        {
          "output_type": "stream",
          "name": "stdout",
          "text": [
            "Number of page fault 12\n"
          ]
        }
      ]
    }
  ]
}