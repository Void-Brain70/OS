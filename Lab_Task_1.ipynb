{
  "nbformat": 4,
  "nbformat_minor": 0,
  "metadata": {
    "colab": {
      "name": "Lab_Task_1.ipynb",
      "provenance": [],
      "collapsed_sections": [],
      "authorship_tag": "ABX9TyPqiEKv8eCY502uuT8wJxnt",
      "include_colab_link": true
    },
    "kernelspec": {
      "name": "python3",
      "display_name": "Python 3"
    },
    "language_info": {
      "name": "python"
    }
  },
  "cells": [
    {
      "cell_type": "markdown",
      "metadata": {
        "id": "view-in-github",
        "colab_type": "text"
      },
      "source": [
        "<a href=\"https://colab.research.google.com/github/Void-Brain70/OS/blob/main/Lab_Task_1.ipynb\" target=\"_parent\"><img src=\"https://colab.research.google.com/assets/colab-badge.svg\" alt=\"Open In Colab\"/></a>"
      ]
    },
    {
      "cell_type": "markdown",
      "metadata": {
        "id": "mfLIXRpLSoAf"
      },
      "source": [
        "First Come First Serve"
      ]
    },
    {
      "cell_type": "code",
      "metadata": {
        "colab": {
          "base_uri": "https://localhost:8080/"
        },
        "id": "VnRKJPlrQ9z8",
        "outputId": "f4cb8e91-13b9-4c9c-ee9f-57bcbf553072"
      },
      "source": [
        "print(\"Enter the No. of Process->\",end=\" \")\n",
        "p = int(input()) \n",
        "print('Enter the process name->', end=\" \")\n",
        "task = input().split() # Split a string into a list where each word is a list item\n",
        "print('Enter the burst time->', end=\" \")\n",
        "time = list(map(int, input().split())) # Calculate the length of each word in the tuple"
      ],
      "execution_count": 36,
      "outputs": [
        {
          "output_type": "stream",
          "text": [
            "Enter the No. of Process-> 4\n",
            "Enter the process name-> p1 p2 p3 p4\n",
            "Enter the burst time-> 21 3 6 2\n"
          ],
          "name": "stdout"
        }
      ]
    },
    {
      "cell_type": "code",
      "metadata": {
        "colab": {
          "base_uri": "https://localhost:8080/"
        },
        "id": "MnBio9x5Su81",
        "outputId": "3d3383e6-d211-488c-e88d-07ffc63d76c4"
      },
      "source": [
        "print('The Process are->')\n",
        "task"
      ],
      "execution_count": 37,
      "outputs": [
        {
          "output_type": "stream",
          "text": [
            "The Process are->\n"
          ],
          "name": "stdout"
        },
        {
          "output_type": "execute_result",
          "data": {
            "text/plain": [
              "['p1', 'p2', 'p3', 'p4']"
            ]
          },
          "metadata": {
            "tags": []
          },
          "execution_count": 37
        }
      ]
    },
    {
      "cell_type": "code",
      "metadata": {
        "colab": {
          "base_uri": "https://localhost:8080/"
        },
        "id": "JhOjdR-ySwiX",
        "outputId": "ebbd6f61-6d15-4474-a6f5-ef65ac1d8afc"
      },
      "source": [
        "print(\"The Burst Time are->\")\n",
        "time"
      ],
      "execution_count": 38,
      "outputs": [
        {
          "output_type": "stream",
          "text": [
            "The Burst Time are->\n"
          ],
          "name": "stdout"
        },
        {
          "output_type": "execute_result",
          "data": {
            "text/plain": [
              "[21, 3, 6, 2]"
            ]
          },
          "metadata": {
            "tags": []
          },
          "execution_count": 38
        }
      ]
    },
    {
      "cell_type": "code",
      "metadata": {
        "colab": {
          "base_uri": "https://localhost:8080/",
          "height": 172
        },
        "id": "4eH9DfKhSyp4",
        "outputId": "c1e6782a-a060-48bf-996c-19eec957ed13"
      },
      "source": [
        "import pandas as pd\n",
        "l = [task,time]\n",
        "df = pd.DataFrame(l).transpose() #obtained by moving the rows data to the column and columns data to the rows.\n",
        "df.columns = [\"Task\",\"Time\"]\n",
        "df"
      ],
      "execution_count": 27,
      "outputs": [
        {
          "output_type": "execute_result",
          "data": {
            "text/html": [
              "<div>\n",
              "<style scoped>\n",
              "    .dataframe tbody tr th:only-of-type {\n",
              "        vertical-align: middle;\n",
              "    }\n",
              "\n",
              "    .dataframe tbody tr th {\n",
              "        vertical-align: top;\n",
              "    }\n",
              "\n",
              "    .dataframe thead th {\n",
              "        text-align: right;\n",
              "    }\n",
              "</style>\n",
              "<table border=\"1\" class=\"dataframe\">\n",
              "  <thead>\n",
              "    <tr style=\"text-align: right;\">\n",
              "      <th></th>\n",
              "      <th>Task</th>\n",
              "      <th>Time</th>\n",
              "    </tr>\n",
              "  </thead>\n",
              "  <tbody>\n",
              "    <tr>\n",
              "      <th>0</th>\n",
              "      <td>p1</td>\n",
              "      <td>21</td>\n",
              "    </tr>\n",
              "    <tr>\n",
              "      <th>1</th>\n",
              "      <td>p2</td>\n",
              "      <td>3</td>\n",
              "    </tr>\n",
              "    <tr>\n",
              "      <th>2</th>\n",
              "      <td>p3</td>\n",
              "      <td>6</td>\n",
              "    </tr>\n",
              "    <tr>\n",
              "      <th>3</th>\n",
              "      <td>p4</td>\n",
              "      <td>2</td>\n",
              "    </tr>\n",
              "  </tbody>\n",
              "</table>\n",
              "</div>"
            ],
            "text/plain": [
              "  Task Time\n",
              "0   p1   21\n",
              "1   p2    3\n",
              "2   p3    6\n",
              "3   p4    2"
            ]
          },
          "metadata": {
            "tags": []
          },
          "execution_count": 27
        }
      ]
    },
    {
      "cell_type": "code",
      "metadata": {
        "colab": {
          "base_uri": "https://localhost:8080/"
        },
        "id": "bS4lDZmoSzZf",
        "outputId": "bca4cf2a-8e28-403d-e571-565a27d27fbb"
      },
      "source": [
        "# Gantt Chart\n",
        "print('Gantt Chart->')\n",
        "print(0,end=' ')\n",
        "tmp = 0\n",
        "l1 = [0]\n",
        "for tsk, tm in zip(df.Task,df.Time):  #Join two tuples together\n",
        "    tmp+=tm\n",
        "    l1.append(tmp)\n",
        "    print(tsk,tmp,end=' ')"
      ],
      "execution_count": 35,
      "outputs": [
        {
          "output_type": "stream",
          "text": [
            "Gantt Chart->\n",
            "0 p1 21 p2 24 p3 30 p4 32 "
          ],
          "name": "stdout"
        }
      ]
    },
    {
      "cell_type": "code",
      "metadata": {
        "colab": {
          "base_uri": "https://localhost:8080/"
        },
        "id": "zHHGWuEiS3HA",
        "outputId": "bbafdc03-d46b-492f-c2c0-769c46c8bc97"
      },
      "source": [
        "import numpy as np\n",
        "l1 = l1[:-1] # Remove last element\n",
        "w = np.sum(l1) # use numpy aarry for additaion\n",
        "wa = w/len(l1)\n",
        "print('Total waiting time : {0:.2f}ms'.format(w))\n",
        "print('Average waiting time : {0:.2f}ms'.format(wa))"
      ],
      "execution_count": 24,
      "outputs": [
        {
          "output_type": "stream",
          "text": [
            "Total waiting time : 75.00ms\n",
            "Average waiting time : 18.75ms\n"
          ],
          "name": "stdout"
        }
      ]
    }
  ]
}