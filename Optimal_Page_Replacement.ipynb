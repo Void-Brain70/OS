{
  "nbformat": 4,
  "nbformat_minor": 0,
  "metadata": {
    "colab": {
      "name": "Optimal_Page_Replacement.ipynb",
      "provenance": [],
      "authorship_tag": "ABX9TyOCBsFyhxx+IefkJbzHrwhz",
      "include_colab_link": true
    },
    "kernelspec": {
      "name": "python3",
      "display_name": "Python 3"
    },
    "language_info": {
      "name": "python"
    }
  },
  "cells": [
    {
      "cell_type": "markdown",
      "metadata": {
        "id": "view-in-github",
        "colab_type": "text"
      },
      "source": [
        "<a href=\"https://colab.research.google.com/github/Void-Brain70/OS/blob/main/Optimal_Page_Replacement.ipynb\" target=\"_parent\"><img src=\"https://colab.research.google.com/assets/colab-badge.svg\" alt=\"Open In Colab\"/></a>"
      ]
    },
    {
      "cell_type": "code",
      "metadata": {
        "colab": {
          "base_uri": "https://localhost:8080/"
        },
        "id": "KWqr1oku-XYW",
        "outputId": "8c6f809f-34cb-49b1-fb3d-6312644651a3"
      },
      "source": [
        "buffer = int(input('Enter the buffer size->'))\n",
        "\n",
        "sequence = list(map(int, input('Enter the input sequence->').split()))"
      ],
      "execution_count": 1,
      "outputs": [
        {
          "name": "stdout",
          "output_type": "stream",
          "text": [
            "Enter the buffer size->3\n",
            "Enter the input sequence->7 0 1 2 0 3 0 4 2 3 0 3 2 1 2 0 1 7 0 1\n"
          ]
        }
      ]
    },
    {
      "cell_type": "code",
      "metadata": {
        "colab": {
          "base_uri": "https://localhost:8080/"
        },
        "id": "BqNMcajU-nA4",
        "outputId": "53f87443-f858-4820-bb1f-a31297d3ef80"
      },
      "source": [
        "sequence"
      ],
      "execution_count": 2,
      "outputs": [
        {
          "output_type": "execute_result",
          "data": {
            "text/plain": [
              "[7, 0, 1, 2, 0, 3, 0, 4, 2, 3, 0, 3, 2, 1, 2, 0, 1, 7, 0, 1]"
            ]
          },
          "metadata": {},
          "execution_count": 2
        }
      ]
    },
    {
      "cell_type": "code",
      "metadata": {
        "colab": {
          "base_uri": "https://localhost:8080/"
        },
        "id": "4eQzOT8P-pJ_",
        "outputId": "4ec9f134-e5ad-4b90-9d8d-68e1678b4ee5"
      },
      "source": [
        "buffer_ls = []\n",
        "page_fault = 0\n",
        "\n",
        "for val in sequence:\n",
        "    idx = []\n",
        "    tmp_ls = sequence[sequence.index(val)+1:]\n",
        "    \n",
        "    if len(buffer_ls)<buffer:\n",
        "        if val in buffer_ls:\n",
        "            print('--Pagehit--')\n",
        "        else:\n",
        "            page_fault+=1\n",
        "            buffer_ls.append(val)\n",
        "            print(buffer_ls)\n",
        "    else:\n",
        "        if val in buffer_ls:\n",
        "            print('--Pagehit--')\n",
        "        else:\n",
        "            page_fault+=1\n",
        "            \n",
        "            for i in buffer_ls:\n",
        "                try:\n",
        "                    idx.append(tmp_ls.index(i))\n",
        "                except:\n",
        "                    continue    \n",
        "            \n",
        "            buffer_ls.remove(tmp_ls[max(idx)])\n",
        "            buffer_ls.append(val)\n",
        "            print(buffer_ls)"
      ],
      "execution_count": 3,
      "outputs": [
        {
          "output_type": "stream",
          "name": "stdout",
          "text": [
            "[7]\n",
            "[7, 0]\n",
            "[7, 0, 1]\n",
            "[0, 1, 2]\n",
            "--Pagehit--\n",
            "[0, 2, 3]\n",
            "--Pagehit--\n",
            "[2, 3, 4]\n",
            "--Pagehit--\n",
            "--Pagehit--\n",
            "[2, 3, 0]\n",
            "--Pagehit--\n",
            "--Pagehit--\n",
            "[2, 0, 1]\n",
            "--Pagehit--\n",
            "--Pagehit--\n",
            "--Pagehit--\n",
            "[0, 1, 7]\n",
            "--Pagehit--\n",
            "--Pagehit--\n"
          ]
        }
      ]
    },
    {
      "cell_type": "code",
      "metadata": {
        "colab": {
          "base_uri": "https://localhost:8080/"
        },
        "id": "T6FAOZvb-sIY",
        "outputId": "13e6313a-7d29-4f6d-ca0f-c03773e651b3"
      },
      "source": [
        "print('The number of page fault->', page_fault)"
      ],
      "execution_count": 4,
      "outputs": [
        {
          "output_type": "stream",
          "name": "stdout",
          "text": [
            "The number of page fault-> 9\n"
          ]
        }
      ]
    }
  ]
}