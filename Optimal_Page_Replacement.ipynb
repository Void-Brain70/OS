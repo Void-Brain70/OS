{
  "nbformat": 4,
  "nbformat_minor": 0,
  "metadata": {
    "colab": {
      "name": "Optimal_Page_Replacement.ipynb",
      "provenance": [],
      "authorship_tag": "ABX9TyOuPK1mrEOhy71rvEwQ+/FR",
      "include_colab_link": true
    },
    "kernelspec": {
      "name": "python3",
      "display_name": "Python 3"
    },
    "language_info": {
      "name": "python"
    }
  },
  "cells": [
    {
      "cell_type": "markdown",
      "metadata": {
        "id": "view-in-github",
        "colab_type": "text"
      },
      "source": [
        "<a href=\"https://colab.research.google.com/github/Void-Brain70/OS/blob/main/Optimal_Page_Replacement.ipynb\" target=\"_parent\"><img src=\"https://colab.research.google.com/assets/colab-badge.svg\" alt=\"Open In Colab\"/></a>"
      ]
    },
    {
      "cell_type": "code",
      "metadata": {
        "colab": {
          "base_uri": "https://localhost:8080/"
        },
        "id": "KWqr1oku-XYW",
        "outputId": "129c7c02-256c-4a39-b3d8-be85006bf130"
      },
      "source": [
        "farme = int(input('Enter the farme size->'))\n",
        "\n",
        "sequence = list(map(int, input('Enter the page reference string->').split()))"
      ],
      "execution_count": null,
      "outputs": [
        {
          "name": "stdout",
          "output_type": "stream",
          "text": [
            "Enter the farme size->3\n",
            "Enter the page reference string->7 0 1 2 0 3 0 4 2 3 0 3 2 1 2 0 1 7 0 1\n"
          ]
        }
      ]
    },
    {
      "cell_type": "code",
      "metadata": {
        "colab": {
          "base_uri": "https://localhost:8080/"
        },
        "id": "BqNMcajU-nA4",
        "outputId": "f21a912f-68ef-4d0d-98e1-d4c0236acd6a"
      },
      "source": [
        "sequence"
      ],
      "execution_count": null,
      "outputs": [
        {
          "output_type": "execute_result",
          "data": {
            "text/plain": [
              "[7, 0, 1, 2, 0, 3, 0, 4, 2, 3, 0, 3, 2, 1, 2, 0, 1, 7, 0, 1]"
            ]
          },
          "metadata": {},
          "execution_count": 2
        }
      ]
    },
    {
      "cell_type": "code",
      "metadata": {
        "colab": {
          "base_uri": "https://localhost:8080/"
        },
        "id": "4eQzOT8P-pJ_",
        "outputId": "fcc32b21-fcdd-4566-85cc-8b3cced90fcb"
      },
      "source": [
        "farme_ls = []\n",
        "page_fault = 0\n",
        "\n",
        "for val in sequence:\n",
        "    idx = []\n",
        "    tmp_ls = sequence[sequence.index(val)+1:]\n",
        "    \n",
        "    if len(farme_ls)<farme:\n",
        "        if val in farme_ls:\n",
        "            print('--Pagehit--')\n",
        "        else:\n",
        "            page_fault+=1\n",
        "            farme_ls.append(val)\n",
        "            print(farme_ls)\n",
        "    else:\n",
        "        if val in farme_ls:\n",
        "            print('--Pagehit--')\n",
        "        else:\n",
        "            page_fault+=1\n",
        "            \n",
        "            for i in farme_ls:\n",
        "                try:\n",
        "                    idx.append(tmp_ls.index(i))\n",
        "                except:\n",
        "                    continue    \n",
        "            \n",
        "            farme_ls.remove(tmp_ls[max(idx)])\n",
        "            farme_ls.append(val)\n",
        "            print(farme_ls)"
      ],
      "execution_count": null,
      "outputs": [
        {
          "output_type": "stream",
          "name": "stdout",
          "text": [
            "[7]\n",
            "[7, 0]\n",
            "[7, 0, 1]\n",
            "[0, 1, 2]\n",
            "--Pagehit--\n",
            "[0, 2, 3]\n",
            "--Pagehit--\n",
            "[2, 3, 4]\n",
            "--Pagehit--\n",
            "--Pagehit--\n",
            "[2, 3, 0]\n",
            "--Pagehit--\n",
            "--Pagehit--\n",
            "[2, 0, 1]\n",
            "--Pagehit--\n",
            "--Pagehit--\n",
            "--Pagehit--\n",
            "[0, 1, 7]\n",
            "--Pagehit--\n",
            "--Pagehit--\n"
          ]
        }
      ]
    },
    {
      "cell_type": "code",
      "metadata": {
        "colab": {
          "base_uri": "https://localhost:8080/"
        },
        "id": "T6FAOZvb-sIY",
        "outputId": "528fe9be-cc88-4953-9804-4013ca8b8095"
      },
      "source": [
        "print('The number of page fault->', page_fault)"
      ],
      "execution_count": null,
      "outputs": [
        {
          "output_type": "stream",
          "name": "stdout",
          "text": [
            "The number of page fault-> 9\n"
          ]
        }
      ]
    }
  ]
}