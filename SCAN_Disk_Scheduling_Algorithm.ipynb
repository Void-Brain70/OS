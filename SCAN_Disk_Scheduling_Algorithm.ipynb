{
  "nbformat": 4,
  "nbformat_minor": 0,
  "metadata": {
    "colab": {
      "name": "SCAN_Disk_Scheduling_Algorithm.ipynb",
      "provenance": [],
      "collapsed_sections": [],
      "authorship_tag": "ABX9TyP1CnkWOrNXefeklHkAGUPK",
      "include_colab_link": true
    },
    "kernelspec": {
      "name": "python3",
      "display_name": "Python 3"
    },
    "language_info": {
      "name": "python"
    }
  },
  "cells": [
    {
      "cell_type": "markdown",
      "metadata": {
        "id": "view-in-github",
        "colab_type": "text"
      },
      "source": [
        "<a href=\"https://colab.research.google.com/github/Void-Brain70/OS/blob/main/SCAN_Disk_Scheduling_Algorithm.ipynb\" target=\"_parent\"><img src=\"https://colab.research.google.com/assets/colab-badge.svg\" alt=\"Open In Colab\"/></a>"
      ]
    },
    {
      "cell_type": "code",
      "metadata": {
        "colab": {
          "base_uri": "https://localhost:8080/"
        },
        "id": "6vrartLsXkp2",
        "outputId": "f3a65e32-f9a5-420f-9cd9-aa04bd9b0af0"
      },
      "source": [
        "queue = list(map(int,input(\"Enter the Sequence->\").split()))\n",
        "head  = int(input(\"Head Pointer->\"))"
      ],
      "execution_count": 1,
      "outputs": [
        {
          "name": "stdout",
          "output_type": "stream",
          "text": [
            "Enter the Sequence->98 137 122 183 14 133 65 78\n",
            "Head Pointer->54\n"
          ]
        }
      ]
    },
    {
      "cell_type": "code",
      "metadata": {
        "colab": {
          "base_uri": "https://localhost:8080/"
        },
        "id": "hQBqvQvzXtVt",
        "outputId": "e4f7109a-9654-4522-d8f5-a58f3555ce9c"
      },
      "source": [
        "q1 = queue.copy()\n",
        "q1.append(head)\n",
        "q1.append(0)\n",
        "q1.sort()\n",
        "q1"
      ],
      "execution_count": 2,
      "outputs": [
        {
          "output_type": "execute_result",
          "data": {
            "text/plain": [
              "[0, 14, 54, 65, 78, 98, 122, 133, 137, 183]"
            ]
          },
          "metadata": {},
          "execution_count": 2
        }
      ]
    },
    {
      "cell_type": "code",
      "metadata": {
        "colab": {
          "base_uri": "https://localhost:8080/"
        },
        "id": "-AYA_qvOXvfF",
        "outputId": "85d3ec49-c1d0-432c-b505-84b60c874cbd"
      },
      "source": [
        "q2 = q1[:q1.index(head)]\n",
        "q2.append(head)\n",
        "q2 = q2[::-1]\n",
        "q2"
      ],
      "execution_count": 3,
      "outputs": [
        {
          "output_type": "execute_result",
          "data": {
            "text/plain": [
              "[54, 14, 0]"
            ]
          },
          "metadata": {},
          "execution_count": 3
        }
      ]
    },
    {
      "cell_type": "code",
      "metadata": {
        "colab": {
          "base_uri": "https://localhost:8080/"
        },
        "id": "w60cCbRdXz28",
        "outputId": "80966b82-5cd7-4cd7-c82e-b9c7f6dee1c9"
      },
      "source": [
        "q3 = q1[q1.index(head):]\n",
        "q3.sort()\n",
        "q3[q3.index(head)]=0\n",
        "q3"
      ],
      "execution_count": 4,
      "outputs": [
        {
          "output_type": "execute_result",
          "data": {
            "text/plain": [
              "[0, 65, 78, 98, 122, 133, 137, 183]"
            ]
          },
          "metadata": {},
          "execution_count": 4
        }
      ]
    },
    {
      "cell_type": "code",
      "metadata": {
        "colab": {
          "base_uri": "https://localhost:8080/"
        },
        "id": "XBiTzn2WX1i1",
        "outputId": "88404d87-526f-4d2e-f9a7-d12db7c8a4a0"
      },
      "source": [
        "cost = []\n",
        "for i in range(len(q2)-1):\n",
        "  cost.append(abs(q2[i] - q2[i+1]))\n",
        "  print('sub({}-{})'.format(q2[i],q2[i+1]),end='+')\n",
        "    \n",
        "\n",
        "for i in range(len(q3)-1):\n",
        "  cost.append(abs(q3[i] - q3[i+1]))\n",
        "  if i == (len(q3)-2):\n",
        "    print('sub({}-{})'.format(q3[i],q3[i+1]))\n",
        "  else:\n",
        "    print('sub({}-{})'.format(q3[i],q3[i+1]),end='+')"
      ],
      "execution_count": 5,
      "outputs": [
        {
          "output_type": "stream",
          "name": "stdout",
          "text": [
            "sub(54-14)+sub(14-0)+sub(0-65)+sub(65-78)+sub(78-98)+sub(98-122)+sub(122-133)+sub(133-137)+sub(137-183)\n"
          ]
        }
      ]
    },
    {
      "cell_type": "code",
      "metadata": {
        "colab": {
          "base_uri": "https://localhost:8080/"
        },
        "id": "dhuTI1bgX31t",
        "outputId": "028f0189-31aa-42f8-da63-504957193b3e"
      },
      "source": [
        "q2.extend(q3[1:])\n",
        "print(q2)"
      ],
      "execution_count": 6,
      "outputs": [
        {
          "output_type": "stream",
          "name": "stdout",
          "text": [
            "[54, 14, 0, 65, 78, 98, 122, 133, 137, 183]\n"
          ]
        }
      ]
    },
    {
      "cell_type": "code",
      "metadata": {
        "colab": {
          "base_uri": "https://localhost:8080/"
        },
        "id": "NQj4X7uBX4Td",
        "outputId": "ad308f46-6702-4ae8-e612-5575fe14cfd1"
      },
      "source": [
        "print('Total path cost is->',sum(cost))"
      ],
      "execution_count": 7,
      "outputs": [
        {
          "output_type": "stream",
          "name": "stdout",
          "text": [
            "Total path cost is-> 237\n"
          ]
        }
      ]
    }
  ]
}