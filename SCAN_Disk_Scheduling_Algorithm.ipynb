{
  "nbformat": 4,
  "nbformat_minor": 0,
  "metadata": {
    "colab": {
      "name": "SCAN_Disk_Scheduling_Algorithm.ipynb",
      "provenance": [],
      "collapsed_sections": [],
      "authorship_tag": "ABX9TyP1CnkWOrNXefeklHkAGUPK",
      "include_colab_link": true
    },
    "kernelspec": {
      "name": "python3",
      "display_name": "Python 3"
    },
    "language_info": {
      "name": "python"
    }
  },
  "cells": [
    {
      "cell_type": "markdown",
      "metadata": {
        "id": "view-in-github",
        "colab_type": "text"
      },
      "source": [
        "<a href=\"https://colab.research.google.com/github/Void-Brain70/OS/blob/main/SCAN_Disk_Scheduling_Algorithm.ipynb\" target=\"_parent\"><img src=\"https://colab.research.google.com/assets/colab-badge.svg\" alt=\"Open In Colab\"/></a>"
      ]
    },
    {
      "cell_type": "code",
      "metadata": {
        "colab": {
          "base_uri": "https://localhost:8080/"
        },
        "id": "6vrartLsXkp2",
        "outputId": "ecd1f22b-f3f0-42fb-fe30-80ada4e8aa95"
      },
      "source": [
        "queue = list(map(int,input(\"Enter the Sequence->\").split()))\n",
        "head  = int(input(\"Head Pointer->\"))"
      ],
      "execution_count": 1,
      "outputs": [
        {
          "output_type": "stream",
          "text": [
            "Enter the Sequence->98 183 37 122 14 124 65 67\n",
            "Head Pointer->53\n"
          ],
          "name": "stdout"
        }
      ]
    },
    {
      "cell_type": "code",
      "metadata": {
        "colab": {
          "base_uri": "https://localhost:8080/"
        },
        "id": "hQBqvQvzXtVt",
        "outputId": "7ae7ac65-d6e7-4910-80df-afe9fea4b0b6"
      },
      "source": [
        "q1 = queue.copy()\n",
        "q1.append(head)\n",
        "q1.append(0)\n",
        "q1.sort()\n",
        "q1"
      ],
      "execution_count": 2,
      "outputs": [
        {
          "output_type": "execute_result",
          "data": {
            "text/plain": [
              "[0, 14, 37, 53, 65, 67, 98, 122, 124, 183]"
            ]
          },
          "metadata": {
            "tags": []
          },
          "execution_count": 2
        }
      ]
    },
    {
      "cell_type": "code",
      "metadata": {
        "colab": {
          "base_uri": "https://localhost:8080/"
        },
        "id": "-AYA_qvOXvfF",
        "outputId": "d2e503c3-1692-44e6-e828-1a774d3a9d5c"
      },
      "source": [
        "q2 = q1[:q1.index(head)]\n",
        "q2.append(head)\n",
        "q2 = q2[::-1]\n",
        "q2"
      ],
      "execution_count": 3,
      "outputs": [
        {
          "output_type": "execute_result",
          "data": {
            "text/plain": [
              "[53, 37, 14, 0]"
            ]
          },
          "metadata": {
            "tags": []
          },
          "execution_count": 3
        }
      ]
    },
    {
      "cell_type": "code",
      "metadata": {
        "colab": {
          "base_uri": "https://localhost:8080/"
        },
        "id": "w60cCbRdXz28",
        "outputId": "35316a10-5232-41d7-ac58-4afce25d5d14"
      },
      "source": [
        "q3 = q1[q1.index(head):]\n",
        "q3.sort()\n",
        "q3[q3.index(head)]=0\n",
        "q3"
      ],
      "execution_count": 4,
      "outputs": [
        {
          "output_type": "execute_result",
          "data": {
            "text/plain": [
              "[0, 65, 67, 98, 122, 124, 183]"
            ]
          },
          "metadata": {
            "tags": []
          },
          "execution_count": 4
        }
      ]
    },
    {
      "cell_type": "code",
      "metadata": {
        "colab": {
          "base_uri": "https://localhost:8080/"
        },
        "id": "XBiTzn2WX1i1",
        "outputId": "f0f5729c-2b2b-4003-dd54-52ce54b1273c"
      },
      "source": [
        "cost = []\n",
        "for i in range(len(q2)-1):\n",
        "  cost.append(abs(q2[i] - q2[i+1]))\n",
        "  print('sub({}-{})'.format(q2[i],q2[i+1]),end='+')\n",
        "    \n",
        "\n",
        "for i in range(len(q3)-1):\n",
        "  cost.append(abs(q3[i] - q3[i+1]))\n",
        "  if i == (len(q3)-2):\n",
        "    print('sub({}-{})'.format(q3[i],q3[i+1]))\n",
        "  else:\n",
        "    print('sub({}-{})'.format(q3[i],q3[i+1]),end='+')"
      ],
      "execution_count": 5,
      "outputs": [
        {
          "output_type": "stream",
          "text": [
            "sub(53-37)+sub(37-14)+sub(14-0)+sub(0-65)+sub(65-67)+sub(67-98)+sub(98-122)+sub(122-124)+sub(124-183)\n"
          ],
          "name": "stdout"
        }
      ]
    },
    {
      "cell_type": "code",
      "metadata": {
        "colab": {
          "base_uri": "https://localhost:8080/"
        },
        "id": "dhuTI1bgX31t",
        "outputId": "f1f0cfca-9e5e-40af-bee2-489a86760c09"
      },
      "source": [
        "q2.extend(q3[1:])\n",
        "print(q2)"
      ],
      "execution_count": 6,
      "outputs": [
        {
          "output_type": "stream",
          "text": [
            "[53, 37, 14, 0, 65, 67, 98, 122, 124, 183]\n"
          ],
          "name": "stdout"
        }
      ]
    },
    {
      "cell_type": "code",
      "metadata": {
        "colab": {
          "base_uri": "https://localhost:8080/"
        },
        "id": "NQj4X7uBX4Td",
        "outputId": "489debfb-e621-4b62-8ab0-228537c6251e"
      },
      "source": [
        "print('Total path cost is->',sum(cost))"
      ],
      "execution_count": 7,
      "outputs": [
        {
          "output_type": "stream",
          "text": [
            "Total path cost is-> 236\n"
          ],
          "name": "stdout"
        }
      ]
    }
  ]
}