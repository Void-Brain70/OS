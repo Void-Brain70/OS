{
  "nbformat": 4,
  "nbformat_minor": 0,
  "metadata": {
    "colab": {
      "name": "SSTF_Disk_Scheduling_Algorithm.ipynb",
      "provenance": [],
      "collapsed_sections": [],
      "authorship_tag": "ABX9TyMqLu+fAD/u6l8DHWBuJBn/",
      "include_colab_link": true
    },
    "kernelspec": {
      "name": "python3",
      "display_name": "Python 3"
    },
    "language_info": {
      "name": "python"
    }
  },
  "cells": [
    {
      "cell_type": "markdown",
      "metadata": {
        "id": "view-in-github",
        "colab_type": "text"
      },
      "source": [
        "<a href=\"https://colab.research.google.com/github/Void-Brain70/OS/blob/main/SSTF_Disk_Scheduling_Algorithm.ipynb\" target=\"_parent\"><img src=\"https://colab.research.google.com/assets/colab-badge.svg\" alt=\"Open In Colab\"/></a>"
      ]
    },
    {
      "cell_type": "code",
      "metadata": {
        "colab": {
          "base_uri": "https://localhost:8080/"
        },
        "id": "fBi0fwD9T1mA",
        "outputId": "2f5cf2c9-cbc4-4c7b-f1cc-f8fc02d10bc0"
      },
      "source": [
        "queue = list(map(int,input(\"Enter the Sequence->\").split()))\n",
        "head  = int(input(\"Head Pointer->\"))"
      ],
      "execution_count": 1,
      "outputs": [
        {
          "name": "stdout",
          "output_type": "stream",
          "text": [
            "Enter the Sequence->45 21 67 90 4 89 52 61 87 25\n",
            "Head Pointer->50\n"
          ]
        }
      ]
    },
    {
      "cell_type": "code",
      "metadata": {
        "colab": {
          "base_uri": "https://localhost:8080/"
        },
        "id": "C1cXm5oDUDWw",
        "outputId": "45f18817-dba0-4897-f4b6-d6b75b75282b"
      },
      "source": [
        "queue.insert(0,head)\n",
        "print('The Queueing Path->',queue)"
      ],
      "execution_count": 2,
      "outputs": [
        {
          "output_type": "stream",
          "name": "stdout",
          "text": [
            "The Queueing Path-> [50, 45, 21, 67, 90, 4, 89, 52, 61, 87, 25]\n"
          ]
        }
      ]
    },
    {
      "cell_type": "code",
      "metadata": {
        "colab": {
          "base_uri": "https://localhost:8080/"
        },
        "id": "G3f1y1aPUGhX",
        "outputId": "524ea0a7-e869-42a7-882f-b6915ec53218"
      },
      "source": [
        "path = [head]\n",
        "cnt = len(queue)-1\n",
        "val=0\n",
        "while queue:\n",
        "    \n",
        "  if cnt == 0:\n",
        "    queue.remove(head)\n",
        "    hdr = path[len(path)-1]\n",
        "    minDist = 9999999999999999999\n",
        "    for i in queue:\n",
        "      if minDist>abs(hdr-i):\n",
        "        minDist = abs(hdr-i)\n",
        "        temp = i\n",
        "    print('sub({}-{})'.format(hdr,temp))\n",
        "    path.append(temp)\n",
        "    head=temp\n",
        "  else:\n",
        "    queue.remove(head)\n",
        "    hdr = path[len(path)-1]\n",
        "    minDist = 9999999999999999999\n",
        "    for i in queue:\n",
        "      if minDist>abs(hdr-i):\n",
        "        minDist = abs(hdr-i)\n",
        "        temp = i\n",
        "    print('sub({}-{})'.format(hdr,temp),end='+')\n",
        "    val+=abs(hdr-temp)\n",
        "    path.append(temp)\n",
        "    head=temp\n",
        "\n",
        "        \n",
        "  cnt-=1"
      ],
      "execution_count": 3,
      "outputs": [
        {
          "output_type": "stream",
          "name": "stdout",
          "text": [
            "sub(50-52)+sub(52-45)+sub(45-61)+sub(61-67)+sub(67-87)+sub(87-89)+sub(89-90)+sub(90-25)+sub(25-21)+sub(21-4)+sub(4-4)\n"
          ]
        }
      ]
    },
    {
      "cell_type": "code",
      "metadata": {
        "colab": {
          "base_uri": "https://localhost:8080/"
        },
        "id": "zF9UIgsJUSCA",
        "outputId": "2364e269-5990-4dcb-b243-8da75aa0f9f4"
      },
      "source": [
        "print('Path is',path[:-1])"
      ],
      "execution_count": 4,
      "outputs": [
        {
          "output_type": "stream",
          "name": "stdout",
          "text": [
            "Path is [50, 52, 45, 61, 67, 87, 89, 90, 25, 21, 4]\n"
          ]
        }
      ]
    },
    {
      "cell_type": "code",
      "metadata": {
        "colab": {
          "base_uri": "https://localhost:8080/"
        },
        "id": "v9O-2oHcUTZA",
        "outputId": "134cef70-8f9a-4dc8-8804-09952e0ae487"
      },
      "source": [
        "print('Total path cost is->',val)"
      ],
      "execution_count": 5,
      "outputs": [
        {
          "output_type": "stream",
          "name": "stdout",
          "text": [
            "Total path cost is-> 140\n"
          ]
        }
      ]
    }
  ]
}