{
  "nbformat": 4,
  "nbformat_minor": 0,
  "metadata": {
    "colab": {
      "name": "SSTF_Disk_Scheduling_Algorithm.ipynb",
      "provenance": [],
      "collapsed_sections": [],
      "authorship_tag": "ABX9TyMqLu+fAD/u6l8DHWBuJBn/",
      "include_colab_link": true
    },
    "kernelspec": {
      "name": "python3",
      "display_name": "Python 3"
    },
    "language_info": {
      "name": "python"
    }
  },
  "cells": [
    {
      "cell_type": "markdown",
      "metadata": {
        "id": "view-in-github",
        "colab_type": "text"
      },
      "source": [
        "<a href=\"https://colab.research.google.com/github/Void-Brain70/OS/blob/main/SSTF_Disk_Scheduling_Algorithm.ipynb\" target=\"_parent\"><img src=\"https://colab.research.google.com/assets/colab-badge.svg\" alt=\"Open In Colab\"/></a>"
      ]
    },
    {
      "cell_type": "code",
      "metadata": {
        "colab": {
          "base_uri": "https://localhost:8080/"
        },
        "id": "fBi0fwD9T1mA",
        "outputId": "bbd7673c-01cd-4db6-9d0f-add5080c5adf"
      },
      "source": [
        "queue = list(map(int,input(\"Enter the Sequence->\").split()))\n",
        "head  = int(input(\"Head Pointer->\"))"
      ],
      "execution_count": 1,
      "outputs": [
        {
          "output_type": "stream",
          "text": [
            "Enter the Sequence->98 183 37 122 14 124 65 67\n",
            "Head Pointer->53\n"
          ],
          "name": "stdout"
        }
      ]
    },
    {
      "cell_type": "code",
      "metadata": {
        "colab": {
          "base_uri": "https://localhost:8080/"
        },
        "id": "C1cXm5oDUDWw",
        "outputId": "3581c7e6-6cb6-4e93-d9e7-787c2fb462e7"
      },
      "source": [
        "queue.insert(0,head)\n",
        "print('The Queueing Path->',queue)"
      ],
      "execution_count": 2,
      "outputs": [
        {
          "output_type": "stream",
          "text": [
            "The Queueing Path-> [53, 98, 183, 37, 122, 14, 124, 65, 67]\n"
          ],
          "name": "stdout"
        }
      ]
    },
    {
      "cell_type": "code",
      "metadata": {
        "colab": {
          "base_uri": "https://localhost:8080/"
        },
        "id": "G3f1y1aPUGhX",
        "outputId": "c17d3f40-4c6b-415e-9a7f-f697cfc29140"
      },
      "source": [
        "path = [head]\n",
        "cnt = len(queue)-1\n",
        "val=0\n",
        "while queue:\n",
        "    \n",
        "  if cnt == 0:\n",
        "    queue.remove(head)\n",
        "    hdr = path[len(path)-1]\n",
        "    minDist = 9999999999999999999\n",
        "    for i in queue:\n",
        "      if minDist>abs(hdr-i):\n",
        "        minDist = abs(hdr-i)\n",
        "        temp = i\n",
        "    print('sub({}-{})'.format(hdr,temp))\n",
        "    path.append(temp)\n",
        "    head=temp\n",
        "  else:\n",
        "    queue.remove(head)\n",
        "    hdr = path[len(path)-1]\n",
        "    minDist = 9999999999999999999\n",
        "    for i in queue:\n",
        "      if minDist>abs(hdr-i):\n",
        "        minDist = abs(hdr-i)\n",
        "        temp = i\n",
        "    print('sub({}-{})'.format(hdr,temp),end='+')\n",
        "    val+=abs(hdr-temp)\n",
        "    path.append(temp)\n",
        "    head=temp\n",
        "\n",
        "        \n",
        "  cnt-=1"
      ],
      "execution_count": 3,
      "outputs": [
        {
          "output_type": "stream",
          "text": [
            "sub(53-65)+sub(65-67)+sub(67-37)+sub(37-14)+sub(14-98)+sub(98-122)+sub(122-124)+sub(124-183)+sub(183-183)\n"
          ],
          "name": "stdout"
        }
      ]
    },
    {
      "cell_type": "code",
      "metadata": {
        "colab": {
          "base_uri": "https://localhost:8080/"
        },
        "id": "zF9UIgsJUSCA",
        "outputId": "66f1a91f-e195-4f39-c8f3-2be2d999e31d"
      },
      "source": [
        "print('Path is',path[:-1])"
      ],
      "execution_count": 4,
      "outputs": [
        {
          "output_type": "stream",
          "text": [
            "Path is [53, 65, 67, 37, 14, 98, 122, 124, 183]\n"
          ],
          "name": "stdout"
        }
      ]
    },
    {
      "cell_type": "code",
      "metadata": {
        "colab": {
          "base_uri": "https://localhost:8080/"
        },
        "id": "v9O-2oHcUTZA",
        "outputId": "d428566d-14ce-4c96-8209-f2942278b9af"
      },
      "source": [
        "print('Total path cost is->',val)"
      ],
      "execution_count": 5,
      "outputs": [
        {
          "output_type": "stream",
          "text": [
            "Total path cost is-> 236\n"
          ],
          "name": "stdout"
        }
      ]
    }
  ]
}