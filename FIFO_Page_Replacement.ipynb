{
  "nbformat": 4,
  "nbformat_minor": 0,
  "metadata": {
    "colab": {
      "name": "FIFO_Page_Replacement.ipynb",
      "provenance": [],
      "authorship_tag": "ABX9TyNxz4IMtKN6ckNbrgR4rfuO",
      "include_colab_link": true
    },
    "kernelspec": {
      "name": "python3",
      "display_name": "Python 3"
    },
    "language_info": {
      "name": "python"
    }
  },
  "cells": [
    {
      "cell_type": "markdown",
      "metadata": {
        "id": "view-in-github",
        "colab_type": "text"
      },
      "source": [
        "<a href=\"https://colab.research.google.com/github/Void-Brain70/OS/blob/main/FIFO_Page_Replacement.ipynb\" target=\"_parent\"><img src=\"https://colab.research.google.com/assets/colab-badge.svg\" alt=\"Open In Colab\"/></a>"
      ]
    },
    {
      "cell_type": "code",
      "metadata": {
        "colab": {
          "base_uri": "https://localhost:8080/"
        },
        "id": "WUjC-_6F7Mh3",
        "outputId": "a6319377-b869-4c3b-8b02-7a23f4eb605c"
      },
      "source": [
        "buffer = int(input('Enter the buffer size->'))\n",
        "\n",
        "sequence = list(map(int, input('Enter the input sequence->').split()))"
      ],
      "execution_count": 14,
      "outputs": [
        {
          "name": "stdout",
          "output_type": "stream",
          "text": [
            "Enter the buffer size->3\n",
            "Enter the input sequence->7 0 1 2 0 3 0 4 2 3 0 3 2 1 2 0 1 7 0 1\n"
          ]
        }
      ]
    },
    {
      "cell_type": "code",
      "metadata": {
        "colab": {
          "base_uri": "https://localhost:8080/"
        },
        "id": "tpfReYXM7nPs",
        "outputId": "5fd41853-6289-48ac-bdaf-6ac864ea4868"
      },
      "source": [
        "sequence"
      ],
      "execution_count": 15,
      "outputs": [
        {
          "output_type": "execute_result",
          "data": {
            "text/plain": [
              "[7, 0, 1, 2, 0, 3, 0, 4, 2, 3, 0, 3, 2, 1, 2, 0, 1, 7, 0, 1]"
            ]
          },
          "metadata": {},
          "execution_count": 15
        }
      ]
    },
    {
      "cell_type": "code",
      "metadata": {
        "colab": {
          "base_uri": "https://localhost:8080/"
        },
        "id": "WVTwwvpX7qSU",
        "outputId": "aed08663-9076-4f5d-866e-f3acb275a7eb"
      },
      "source": [
        "buffer_ls = []\n",
        "page_fault = 0\n",
        "for val in sequence:\n",
        "    if len(buffer_ls)<buffer:\n",
        "        if val in buffer_ls:\n",
        "            print('--Pagehit--')\n",
        "        else:\n",
        "            page_fault+=1\n",
        "            buffer_ls.append(val)\n",
        "            print(buffer_ls)\n",
        "    else:\n",
        "        if val in buffer_ls:\n",
        "            print('--Pagehit--')\n",
        "        else:\n",
        "            page_fault+=1\n",
        "            buffer_ls.pop(0)\n",
        "            buffer_ls.append(val)\n",
        "            print(buffer_ls)"
      ],
      "execution_count": 16,
      "outputs": [
        {
          "output_type": "stream",
          "name": "stdout",
          "text": [
            "[7]\n",
            "[7, 0]\n",
            "[7, 0, 1]\n",
            "[0, 1, 2]\n",
            "--Pagehit--\n",
            "[1, 2, 3]\n",
            "[2, 3, 0]\n",
            "[3, 0, 4]\n",
            "[0, 4, 2]\n",
            "[4, 2, 3]\n",
            "[2, 3, 0]\n",
            "--Pagehit--\n",
            "--Pagehit--\n",
            "[3, 0, 1]\n",
            "[0, 1, 2]\n",
            "--Pagehit--\n",
            "--Pagehit--\n",
            "[1, 2, 7]\n",
            "[2, 7, 0]\n",
            "[7, 0, 1]\n"
          ]
        }
      ]
    },
    {
      "cell_type": "code",
      "metadata": {
        "colab": {
          "base_uri": "https://localhost:8080/"
        },
        "id": "Zf45GLAS7sxE",
        "outputId": "8d7c4652-bdb9-465c-884f-1bcd1b10d612"
      },
      "source": [
        "print('The number of page fault->', page_fault)"
      ],
      "execution_count": 17,
      "outputs": [
        {
          "output_type": "stream",
          "name": "stdout",
          "text": [
            "The number of page fault-> 15\n"
          ]
        }
      ]
    }
  ]
}