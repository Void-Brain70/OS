{
  "nbformat": 4,
  "nbformat_minor": 0,
  "metadata": {
    "colab": {
      "name": "FIFO_Page_Replacement.ipynb",
      "provenance": [],
      "authorship_tag": "ABX9TyOy4cpUQFeXTtaS5oj2LKBp",
      "include_colab_link": true
    },
    "kernelspec": {
      "name": "python3",
      "display_name": "Python 3"
    },
    "language_info": {
      "name": "python"
    }
  },
  "cells": [
    {
      "cell_type": "markdown",
      "metadata": {
        "id": "view-in-github",
        "colab_type": "text"
      },
      "source": [
        "<a href=\"https://colab.research.google.com/github/Void-Brain70/OS/blob/main/FIFO_Page_Replacement.ipynb\" target=\"_parent\"><img src=\"https://colab.research.google.com/assets/colab-badge.svg\" alt=\"Open In Colab\"/></a>"
      ]
    },
    {
      "cell_type": "code",
      "metadata": {
        "colab": {
          "base_uri": "https://localhost:8080/"
        },
        "id": "WUjC-_6F7Mh3",
        "outputId": "b8185294-9a22-4289-b0f7-c31ee635c16f"
      },
      "source": [
        "frame = int(input('Enter the farme size->'))\n",
        "\n",
        "sequence = list(map(int, input('Enter the page reference string->').split()))"
      ],
      "execution_count": null,
      "outputs": [
        {
          "name": "stdout",
          "output_type": "stream",
          "text": [
            "Enter the farme size->3\n",
            "Enter the page reference string->7 0 1 2 0 3 0 4 2 3 0 3 2 1 2 0 1 7 0 1\n"
          ]
        }
      ]
    },
    {
      "cell_type": "code",
      "metadata": {
        "colab": {
          "base_uri": "https://localhost:8080/"
        },
        "id": "tpfReYXM7nPs",
        "outputId": "4a972d0a-00e8-4d9c-8fc3-31f4e2fc24af"
      },
      "source": [
        "sequence"
      ],
      "execution_count": null,
      "outputs": [
        {
          "output_type": "execute_result",
          "data": {
            "text/plain": [
              "[7, 0, 1, 2, 0, 3, 0, 4, 2, 3, 0, 3, 2, 1, 2, 0, 1, 7, 0, 1]"
            ]
          },
          "metadata": {},
          "execution_count": 4
        }
      ]
    },
    {
      "cell_type": "code",
      "metadata": {
        "colab": {
          "base_uri": "https://localhost:8080/"
        },
        "id": "WVTwwvpX7qSU",
        "outputId": "7a90ea0a-14a9-415f-b093-2ebc81268ff5"
      },
      "source": [
        "frame_ls = []\n",
        "page_fault = 0\n",
        "for val in sequence:\n",
        "    if len(frame_ls)<frame:\n",
        "        if val in frame_ls:\n",
        "            print('--Pagehit--')\n",
        "        else:\n",
        "            page_fault+=1\n",
        "            frame_ls.append(val)\n",
        "            print(frame_ls)\n",
        "    else:\n",
        "        if val in frame_ls:\n",
        "            print('--Pagehit--')\n",
        "        else:\n",
        "            page_fault+=1\n",
        "            frame_ls.pop(0)\n",
        "            frame_ls.append(val)\n",
        "            print(frame_ls)"
      ],
      "execution_count": null,
      "outputs": [
        {
          "output_type": "stream",
          "name": "stdout",
          "text": [
            "[7]\n",
            "[7, 0]\n",
            "[7, 0, 1]\n",
            "[0, 1, 2]\n",
            "--Pagehit--\n",
            "[1, 2, 3]\n",
            "[2, 3, 0]\n",
            "[3, 0, 4]\n",
            "[0, 4, 2]\n",
            "[4, 2, 3]\n",
            "[2, 3, 0]\n",
            "--Pagehit--\n",
            "--Pagehit--\n",
            "[3, 0, 1]\n",
            "[0, 1, 2]\n",
            "--Pagehit--\n",
            "--Pagehit--\n",
            "[1, 2, 7]\n",
            "[2, 7, 0]\n",
            "[7, 0, 1]\n"
          ]
        }
      ]
    },
    {
      "cell_type": "code",
      "metadata": {
        "colab": {
          "base_uri": "https://localhost:8080/"
        },
        "id": "Zf45GLAS7sxE",
        "outputId": "f26d419e-9ba2-4e2f-ad49-241f6d9773dc"
      },
      "source": [
        "print('The number of page fault->', page_fault)"
      ],
      "execution_count": null,
      "outputs": [
        {
          "output_type": "stream",
          "name": "stdout",
          "text": [
            "The number of page fault-> 15\n"
          ]
        }
      ]
    }
  ]
}