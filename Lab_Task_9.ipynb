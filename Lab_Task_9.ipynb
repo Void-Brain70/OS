{
  "nbformat": 4,
  "nbformat_minor": 0,
  "metadata": {
    "colab": {
      "name": "Lab_Task_9.ipynb",
      "provenance": [],
      "collapsed_sections": [],
      "authorship_tag": "ABX9TyPwvgDv5rcf9ytmF5bdgHQV",
      "include_colab_link": true
    },
    "kernelspec": {
      "name": "python3",
      "display_name": "Python 3"
    },
    "language_info": {
      "name": "python"
    }
  },
  "cells": [
    {
      "cell_type": "markdown",
      "metadata": {
        "id": "view-in-github",
        "colab_type": "text"
      },
      "source": [
        "<a href=\"https://colab.research.google.com/github/Void-Brain70/OS/blob/main/Lab_Task_9.ipynb\" target=\"_parent\"><img src=\"https://colab.research.google.com/assets/colab-badge.svg\" alt=\"Open In Colab\"/></a>"
      ]
    },
    {
      "cell_type": "markdown",
      "metadata": {
        "id": "AoWxwrlxhz7m"
      },
      "source": [
        "\n",
        "**C-LOOK Disk Scheduling Algorithm**\n",
        "\n"
      ]
    },
    {
      "cell_type": "code",
      "metadata": {
        "id": "KeaX9euxhx0B",
        "colab": {
          "base_uri": "https://localhost:8080/"
        },
        "outputId": "31ab15da-9262-405f-a565-359d5770e0ac"
      },
      "source": [
        "queue = list(map(int, input('Enter The sequence->').split()))\n",
        "head = int(input('Head Pointer->'))"
      ],
      "execution_count": null,
      "outputs": [
        {
          "output_type": "stream",
          "text": [
            "Enter The sequence->98 183 37 122 14 124 65 67\n",
            "Head Pointer->53\n"
          ],
          "name": "stdout"
        }
      ]
    },
    {
      "cell_type": "code",
      "metadata": {
        "id": "SJZnkUrDiCRh",
        "colab": {
          "base_uri": "https://localhost:8080/"
        },
        "outputId": "136a6448-c1b4-4b8f-8beb-e8c9e2ded0c7"
      },
      "source": [
        "q1 = queue.copy()\n",
        "q1.append(head)\n",
        "q1.append(0)\n",
        "q1.sort()\n",
        "q1"
      ],
      "execution_count": null,
      "outputs": [
        {
          "output_type": "execute_result",
          "data": {
            "text/plain": [
              "[0, 14, 37, 53, 65, 67, 98, 122, 124, 183]"
            ]
          },
          "metadata": {},
          "execution_count": 2
        }
      ]
    },
    {
      "cell_type": "code",
      "metadata": {
        "id": "erwMXQMfiDig",
        "colab": {
          "base_uri": "https://localhost:8080/"
        },
        "outputId": "34d2d985-760d-4da5-97ff-34f7e2b53964"
      },
      "source": [
        "q2 = q1[:q1.index(head)]\n",
        "q2.append(head)\n",
        "q2 = q2[::-1]\n",
        "q2"
      ],
      "execution_count": null,
      "outputs": [
        {
          "output_type": "execute_result",
          "data": {
            "text/plain": [
              "[53, 37, 14, 0]"
            ]
          },
          "metadata": {},
          "execution_count": 3
        }
      ]
    },
    {
      "cell_type": "code",
      "metadata": {
        "id": "cVAufcyviE4X",
        "colab": {
          "base_uri": "https://localhost:8080/"
        },
        "outputId": "27eb63f8-40ee-42ff-8801-d0ad4c596e03"
      },
      "source": [
        "q3 = q1[q1.index(head):]\n",
        "q3.sort()\n",
        "q3[q3.index(head)]=0\n",
        "q3"
      ],
      "execution_count": null,
      "outputs": [
        {
          "output_type": "execute_result",
          "data": {
            "text/plain": [
              "[0, 65, 67, 98, 122, 124, 183]"
            ]
          },
          "metadata": {},
          "execution_count": 4
        }
      ]
    },
    {
      "cell_type": "code",
      "metadata": {
        "id": "iUck-N4pnmgj"
      },
      "source": [
        "ending = 199"
      ],
      "execution_count": null,
      "outputs": []
    },
    {
      "cell_type": "code",
      "metadata": {
        "colab": {
          "base_uri": "https://localhost:8080/"
        },
        "id": "2O0FIqjxntaT",
        "outputId": "53746a55-1058-4c7d-8440-08327655bb78"
      },
      "source": [
        "q1.insert(len(q1),ending)\n",
        "q1"
      ],
      "execution_count": null,
      "outputs": [
        {
          "output_type": "execute_result",
          "data": {
            "text/plain": [
              "[0, 14, 37, 53, 65, 67, 98, 122, 124, 183, 199]"
            ]
          },
          "metadata": {},
          "execution_count": 6
        }
      ]
    },
    {
      "cell_type": "code",
      "metadata": {
        "colab": {
          "base_uri": "https://localhost:8080/"
        },
        "id": "ufIf6P_ZnwcT",
        "outputId": "9533e12a-066e-4c2c-fbf2-0fe07023b722"
      },
      "source": [
        "q2 = q1[:q1.index(head)]\n",
        "q2"
      ],
      "execution_count": null,
      "outputs": [
        {
          "output_type": "execute_result",
          "data": {
            "text/plain": [
              "[0, 14, 37]"
            ]
          },
          "metadata": {},
          "execution_count": 7
        }
      ]
    },
    {
      "cell_type": "code",
      "metadata": {
        "colab": {
          "base_uri": "https://localhost:8080/"
        },
        "id": "QhrbCOMRnyv0",
        "outputId": "46dac766-fc95-4d2a-acac-f06703e20bce"
      },
      "source": [
        "q3 = q1[q1.index(head):]\n",
        "q3"
      ],
      "execution_count": null,
      "outputs": [
        {
          "output_type": "execute_result",
          "data": {
            "text/plain": [
              "[53, 65, 67, 98, 122, 124, 183, 199]"
            ]
          },
          "metadata": {},
          "execution_count": 8
        }
      ]
    },
    {
      "cell_type": "code",
      "metadata": {
        "colab": {
          "base_uri": "https://localhost:8080/"
        },
        "id": "BmR07zyLl9sO",
        "outputId": "cde25737-ef0b-4fa4-8973-61ff5c7ccdf3"
      },
      "source": [
        "q4 = q3[:-1]+q2[1:]\n",
        "q4\n",
        "print('The Path is -> ',q4)"
      ],
      "execution_count": null,
      "outputs": [
        {
          "output_type": "stream",
          "text": [
            "The Path is ->  [53, 65, 67, 98, 122, 124, 183, 14, 37]\n"
          ],
          "name": "stdout"
        }
      ]
    },
    {
      "cell_type": "code",
      "metadata": {
        "colab": {
          "base_uri": "https://localhost:8080/"
        },
        "id": "RlquTmROmCMW",
        "outputId": "7fb47e10-10b4-42a1-a8fb-953c1a271e7d"
      },
      "source": [
        "cost = []\n",
        "\n",
        "for i in range(len(q4)-1):\n",
        "    cost.append(abs(q4[i] - q4[i+1]))\n",
        "    if i == (len(q4)-2):\n",
        "        print('sub({}-{})'.format(q4[i],q4[i+1]))\n",
        "    else:\n",
        "        print('sub({}-{})'.format(q4[i],q4[i+1]),end='+')"
      ],
      "execution_count": null,
      "outputs": [
        {
          "output_type": "stream",
          "text": [
            "sub(53-65)+sub(65-67)+sub(67-98)+sub(98-122)+sub(122-124)+sub(124-183)+sub(183-14)+sub(14-37)\n"
          ],
          "name": "stdout"
        }
      ]
    },
    {
      "cell_type": "code",
      "metadata": {
        "colab": {
          "base_uri": "https://localhost:8080/"
        },
        "id": "LnCvHXD2mD9f",
        "outputId": "c2e59d41-5406-41b1-c13a-8aefc1b5da79"
      },
      "source": [
        "print('Total Path Cost is->',sum(cost))"
      ],
      "execution_count": null,
      "outputs": [
        {
          "output_type": "stream",
          "text": [
            "Total Path Cost is-> 322\n"
          ],
          "name": "stdout"
        }
      ]
    }
  ]
}