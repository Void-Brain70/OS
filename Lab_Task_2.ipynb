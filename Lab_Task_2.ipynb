{
  "nbformat": 4,
  "nbformat_minor": 0,
  "metadata": {
    "colab": {
      "name": "Lab_Task_2.ipynb",
      "provenance": [],
      "collapsed_sections": [],
      "authorship_tag": "ABX9TyM71g+e/vTQSyolWER+09PP",
      "include_colab_link": true
    },
    "kernelspec": {
      "name": "python3",
      "display_name": "Python 3"
    },
    "language_info": {
      "name": "python"
    }
  },
  "cells": [
    {
      "cell_type": "markdown",
      "metadata": {
        "id": "view-in-github",
        "colab_type": "text"
      },
      "source": [
        "<a href=\"https://colab.research.google.com/github/Void-Brain70/OS/blob/main/Lab_Task_2.ipynb\" target=\"_parent\"><img src=\"https://colab.research.google.com/assets/colab-badge.svg\" alt=\"Open In Colab\"/></a>"
      ]
    },
    {
      "cell_type": "markdown",
      "metadata": {
        "id": "Qeu6q5ZbdGsi"
      },
      "source": [
        "Shortest Job First"
      ]
    },
    {
      "cell_type": "code",
      "metadata": {
        "colab": {
          "base_uri": "https://localhost:8080/"
        },
        "id": "YYo45yFudA3E",
        "outputId": "9bc3e4e1-f105-41a7-86bb-a0e7be8c6072"
      },
      "source": [
        "print(\"Enter the No. of Process->\",end=\" \")\n",
        "p = int(input()) \n",
        "print('Enter the Process name->', end=\" \")\n",
        "task = input().split()\n",
        "print('Enter the burst time->', end=\" \")\n",
        "time = list(map(int, input().split()))"
      ],
      "execution_count": 13,
      "outputs": [
        {
          "output_type": "stream",
          "text": [
            "Enter the No. of Process-> 4\n",
            "Enter the Process name-> p1 p2 p3 p4\n",
            "Enter the burst time-> 21 3 6 2\n"
          ],
          "name": "stdout"
        }
      ]
    },
    {
      "cell_type": "code",
      "metadata": {
        "colab": {
          "base_uri": "https://localhost:8080/"
        },
        "id": "-k4HX57SdN6Z",
        "outputId": "f81a82f9-b9e4-42d7-bd84-ec10acbaed75"
      },
      "source": [
        "print('The Process are->')\n",
        "task"
      ],
      "execution_count": 14,
      "outputs": [
        {
          "output_type": "stream",
          "text": [
            "The Process are->\n"
          ],
          "name": "stdout"
        },
        {
          "output_type": "execute_result",
          "data": {
            "text/plain": [
              "['p1', 'p2', 'p3', 'p4']"
            ]
          },
          "metadata": {
            "tags": []
          },
          "execution_count": 14
        }
      ]
    },
    {
      "cell_type": "code",
      "metadata": {
        "colab": {
          "base_uri": "https://localhost:8080/"
        },
        "id": "74Zj2XocdOZo",
        "outputId": "1ef32942-3dec-4c8a-e182-9e32dbe6075d"
      },
      "source": [
        "print(\"The Burst Time are->\")\n",
        "time"
      ],
      "execution_count": 15,
      "outputs": [
        {
          "output_type": "stream",
          "text": [
            "The Burst Time are->\n"
          ],
          "name": "stdout"
        },
        {
          "output_type": "execute_result",
          "data": {
            "text/plain": [
              "[21, 3, 6, 2]"
            ]
          },
          "metadata": {
            "tags": []
          },
          "execution_count": 15
        }
      ]
    },
    {
      "cell_type": "code",
      "metadata": {
        "colab": {
          "base_uri": "https://localhost:8080/",
          "height": 172
        },
        "id": "ymScCLQddQnh",
        "outputId": "66a079ec-5753-4997-de54-b8553f979090"
      },
      "source": [
        "import pandas as pd\n",
        "l = [task,time]\n",
        "df = pd.DataFrame(l).transpose()\n",
        "df.columns = [\"Task\",\"Time\"]\n",
        "df"
      ],
      "execution_count": 10,
      "outputs": [
        {
          "output_type": "execute_result",
          "data": {
            "text/html": [
              "<div>\n",
              "<style scoped>\n",
              "    .dataframe tbody tr th:only-of-type {\n",
              "        vertical-align: middle;\n",
              "    }\n",
              "\n",
              "    .dataframe tbody tr th {\n",
              "        vertical-align: top;\n",
              "    }\n",
              "\n",
              "    .dataframe thead th {\n",
              "        text-align: right;\n",
              "    }\n",
              "</style>\n",
              "<table border=\"1\" class=\"dataframe\">\n",
              "  <thead>\n",
              "    <tr style=\"text-align: right;\">\n",
              "      <th></th>\n",
              "      <th>Task</th>\n",
              "      <th>Time</th>\n",
              "    </tr>\n",
              "  </thead>\n",
              "  <tbody>\n",
              "    <tr>\n",
              "      <th>0</th>\n",
              "      <td>p1</td>\n",
              "      <td>21</td>\n",
              "    </tr>\n",
              "    <tr>\n",
              "      <th>1</th>\n",
              "      <td>p2</td>\n",
              "      <td>3</td>\n",
              "    </tr>\n",
              "    <tr>\n",
              "      <th>2</th>\n",
              "      <td>p3</td>\n",
              "      <td>6</td>\n",
              "    </tr>\n",
              "    <tr>\n",
              "      <th>3</th>\n",
              "      <td>p4</td>\n",
              "      <td>2</td>\n",
              "    </tr>\n",
              "  </tbody>\n",
              "</table>\n",
              "</div>"
            ],
            "text/plain": [
              "  Task Time\n",
              "0   p1   21\n",
              "1   p2    3\n",
              "2   p3    6\n",
              "3   p4    2"
            ]
          },
          "metadata": {
            "tags": []
          },
          "execution_count": 10
        }
      ]
    },
    {
      "cell_type": "code",
      "metadata": {
        "colab": {
          "base_uri": "https://localhost:8080/",
          "height": 172
        },
        "id": "zDamjxhGdSBx",
        "outputId": "80ff3761-a9da-4da2-e262-119a0062e16e"
      },
      "source": [
        "df.sort_values(by=['Time'],ascending=True,axis=0,inplace=True)\n",
        "df"
      ],
      "execution_count": 11,
      "outputs": [
        {
          "output_type": "execute_result",
          "data": {
            "text/html": [
              "<div>\n",
              "<style scoped>\n",
              "    .dataframe tbody tr th:only-of-type {\n",
              "        vertical-align: middle;\n",
              "    }\n",
              "\n",
              "    .dataframe tbody tr th {\n",
              "        vertical-align: top;\n",
              "    }\n",
              "\n",
              "    .dataframe thead th {\n",
              "        text-align: right;\n",
              "    }\n",
              "</style>\n",
              "<table border=\"1\" class=\"dataframe\">\n",
              "  <thead>\n",
              "    <tr style=\"text-align: right;\">\n",
              "      <th></th>\n",
              "      <th>Task</th>\n",
              "      <th>Time</th>\n",
              "    </tr>\n",
              "  </thead>\n",
              "  <tbody>\n",
              "    <tr>\n",
              "      <th>3</th>\n",
              "      <td>p4</td>\n",
              "      <td>2</td>\n",
              "    </tr>\n",
              "    <tr>\n",
              "      <th>1</th>\n",
              "      <td>p2</td>\n",
              "      <td>3</td>\n",
              "    </tr>\n",
              "    <tr>\n",
              "      <th>2</th>\n",
              "      <td>p3</td>\n",
              "      <td>6</td>\n",
              "    </tr>\n",
              "    <tr>\n",
              "      <th>0</th>\n",
              "      <td>p1</td>\n",
              "      <td>21</td>\n",
              "    </tr>\n",
              "  </tbody>\n",
              "</table>\n",
              "</div>"
            ],
            "text/plain": [
              "  Task Time\n",
              "3   p4    2\n",
              "1   p2    3\n",
              "2   p3    6\n",
              "0   p1   21"
            ]
          },
          "metadata": {
            "tags": []
          },
          "execution_count": 11
        }
      ]
    },
    {
      "cell_type": "code",
      "metadata": {
        "colab": {
          "base_uri": "https://localhost:8080/"
        },
        "id": "HACw4KSvdUMJ",
        "outputId": "c72e09e6-2ab5-46af-8b51-5b23d49b4e1e"
      },
      "source": [
        "print('Gantt Chart->')\n",
        "print(0,end=' ')\n",
        "tmp = 0\n",
        "l = [0]\n",
        "for tsk, tm in zip(df.Task,df.Time): \n",
        "    tmp+=tm\n",
        "    l.append(tmp)\n",
        "    print(tsk,tmp,end=' ')"
      ],
      "execution_count": 12,
      "outputs": [
        {
          "output_type": "stream",
          "text": [
            "Gantt Chart->\n",
            "0 p4 2 p2 5 p3 11 p1 32 "
          ],
          "name": "stdout"
        }
      ]
    },
    {
      "cell_type": "code",
      "metadata": {
        "colab": {
          "base_uri": "https://localhost:8080/"
        },
        "id": "FDeFlfmkdW6S",
        "outputId": "9a555f4c-87db-4286-abe3-5107ff28760e"
      },
      "source": [
        "import numpy as np\n",
        "l = l[:-1]\n",
        "w = np.sum(l)\n",
        "wa = w/len(l)\n",
        "print('Total waiting time : {0:.2f}ms'.format(w))\n",
        "print('Average waiting time : {0:.2f}ms'.format(wa))"
      ],
      "execution_count": 7,
      "outputs": [
        {
          "output_type": "stream",
          "text": [
            "Total waiting time : 18.00ms\n",
            "Average waiting time : 4.50ms\n"
          ],
          "name": "stdout"
        }
      ]
    }
  ]
}