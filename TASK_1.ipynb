{
  "nbformat": 4,
  "nbformat_minor": 0,
  "metadata": {
    "colab": {
      "name": "TASK-1.ipynb",
      "provenance": [],
      "authorship_tag": "ABX9TyNrDSB7odNWefpwH8bvwkB2",
      "include_colab_link": true
    },
    "kernelspec": {
      "name": "python3",
      "display_name": "Python 3"
    },
    "language_info": {
      "name": "python"
    }
  },
  "cells": [
    {
      "cell_type": "markdown",
      "metadata": {
        "id": "view-in-github",
        "colab_type": "text"
      },
      "source": [
        "<a href=\"https://colab.research.google.com/github/Void-Brain70/OS/blob/main/TASK_1.ipynb\" target=\"_parent\"><img src=\"https://colab.research.google.com/assets/colab-badge.svg\" alt=\"Open In Colab\"/></a>"
      ]
    },
    {
      "cell_type": "markdown",
      "metadata": {
        "id": "sti2kvk8jSXS"
      },
      "source": [
        "FIFO"
      ]
    },
    {
      "cell_type": "code",
      "metadata": {
        "colab": {
          "base_uri": "https://localhost:8080/"
        },
        "id": "lwIXEVVYjPH-",
        "outputId": "088a8edb-9609-4d96-e8e8-12629a5de33e"
      },
      "source": [
        "buffer = int(input('Provide buffer size'))\n",
        "\n",
        "sequence = list(map(int, input('Provide input sequence').split()))"
      ],
      "execution_count": 1,
      "outputs": [
        {
          "name": "stdout",
          "output_type": "stream",
          "text": [
            "Provide buffer size3\n",
            "Provide input sequence7 0 1 2 0 3 0 4 2 3 0 3 2 1 2 0 1 7 0 1\n"
          ]
        }
      ]
    },
    {
      "cell_type": "code",
      "metadata": {
        "colab": {
          "base_uri": "https://localhost:8080/"
        },
        "id": "cbBXp6GBjapS",
        "outputId": "69d84047-58d3-48ef-8296-efab3d671096"
      },
      "source": [
        "buffer_ls = []\n",
        "page_fault = 0\n",
        "for val in sequence:\n",
        "    if len(buffer_ls)<buffer:\n",
        "        if val in buffer_ls:\n",
        "            print('--hit--')\n",
        "        else:\n",
        "            page_fault+=1\n",
        "            buffer_ls.append(val)\n",
        "            print(buffer_ls)\n",
        "    else:\n",
        "        if val in buffer_ls:\n",
        "            print('--hit--')\n",
        "        else:\n",
        "            page_fault+=1\n",
        "            buffer_ls.pop(0)\n",
        "            buffer_ls.append(val)\n",
        "            print(buffer_ls)"
      ],
      "execution_count": 2,
      "outputs": [
        {
          "output_type": "stream",
          "name": "stdout",
          "text": [
            "[7]\n",
            "[7, 0]\n",
            "[7, 0, 1]\n",
            "[0, 1, 2]\n",
            "--hit--\n",
            "[1, 2, 3]\n",
            "[2, 3, 0]\n",
            "[3, 0, 4]\n",
            "[0, 4, 2]\n",
            "[4, 2, 3]\n",
            "[2, 3, 0]\n",
            "--hit--\n",
            "--hit--\n",
            "[3, 0, 1]\n",
            "[0, 1, 2]\n",
            "--hit--\n",
            "--hit--\n",
            "[1, 2, 7]\n",
            "[2, 7, 0]\n",
            "[7, 0, 1]\n"
          ]
        }
      ]
    },
    {
      "cell_type": "code",
      "metadata": {
        "colab": {
          "base_uri": "https://localhost:8080/"
        },
        "id": "SyzNdx_GjdGB",
        "outputId": "732a17fa-c101-41da-b195-b76f46756542"
      },
      "source": [
        "print('Number of page fault', page_fault)"
      ],
      "execution_count": 3,
      "outputs": [
        {
          "output_type": "stream",
          "name": "stdout",
          "text": [
            "Number of page fault 15\n"
          ]
        }
      ]
    }
  ]
}