{
  "nbformat": 4,
  "nbformat_minor": 0,
  "metadata": {
    "colab": {
      "name": "C_SCAN_Algorithm.ipynb",
      "provenance": [],
      "collapsed_sections": [],
      "authorship_tag": "ABX9TyMhqkfqHcu0106tL1KHAw8Y",
      "include_colab_link": true
    },
    "kernelspec": {
      "name": "python3",
      "display_name": "Python 3"
    },
    "language_info": {
      "name": "python"
    }
  },
  "cells": [
    {
      "cell_type": "markdown",
      "metadata": {
        "id": "view-in-github",
        "colab_type": "text"
      },
      "source": [
        "<a href=\"https://colab.research.google.com/github/Void-Brain70/OS/blob/main/C_SCAN_Algorithm.ipynb\" target=\"_parent\"><img src=\"https://colab.research.google.com/assets/colab-badge.svg\" alt=\"Open In Colab\"/></a>"
      ]
    },
    {
      "cell_type": "code",
      "metadata": {
        "colab": {
          "base_uri": "https://localhost:8080/"
        },
        "id": "1IQ-wNqMPdKQ",
        "outputId": "5e3a4b26-13fd-4973-fe68-1d5a04dacf0a"
      },
      "source": [
        "queue = list(map(int, input('Enter the queue sequence->').split()))\n",
        "header = int(input('Given the head pointer->'))"
      ],
      "execution_count": 1,
      "outputs": [
        {
          "output_type": "stream",
          "text": [
            "Enter the queue sequence->98 183 37 122 14 124 65 67\n",
            "Given the head pointer->53\n"
          ],
          "name": "stdout"
        }
      ]
    },
    {
      "cell_type": "code",
      "metadata": {
        "colab": {
          "base_uri": "https://localhost:8080/"
        },
        "id": "ilOrapwjU_LX",
        "outputId": "aa890b22-224e-4976-d000-297dbaf3cbd6"
      },
      "source": [
        "q1 = queue.copy()\n",
        "q1.append(header)\n",
        "q1.append(0)\n",
        "q1.sort()\n",
        "q1"
      ],
      "execution_count": 4,
      "outputs": [
        {
          "output_type": "execute_result",
          "data": {
            "text/plain": [
              "[0, 14, 37, 53, 65, 67, 98, 122, 124, 183]"
            ]
          },
          "metadata": {
            "tags": []
          },
          "execution_count": 4
        }
      ]
    },
    {
      "cell_type": "code",
      "metadata": {
        "colab": {
          "base_uri": "https://localhost:8080/"
        },
        "id": "8VMd_zbMVBz2",
        "outputId": "cfe3d522-82ce-4b5b-a1db-804dbc5a48d5"
      },
      "source": [
        "q2 = q1[:q1.index(header)]\n",
        "q2.append(header)\n",
        "q2 = q2[::-1]\n",
        "q2"
      ],
      "execution_count": 5,
      "outputs": [
        {
          "output_type": "execute_result",
          "data": {
            "text/plain": [
              "[53, 37, 14, 0]"
            ]
          },
          "metadata": {
            "tags": []
          },
          "execution_count": 5
        }
      ]
    },
    {
      "cell_type": "code",
      "metadata": {
        "colab": {
          "base_uri": "https://localhost:8080/"
        },
        "id": "0t-9AJiAVDZP",
        "outputId": "76d213ac-7e1b-4ecf-b58c-ff40b963330f"
      },
      "source": [
        "q3 = q1[q1.index(header):]\n",
        "q3.sort()\n",
        "q3[q3.index(header)]=0\n",
        "q3"
      ],
      "execution_count": 6,
      "outputs": [
        {
          "output_type": "execute_result",
          "data": {
            "text/plain": [
              "[0, 65, 67, 98, 122, 124, 183]"
            ]
          },
          "metadata": {
            "tags": []
          },
          "execution_count": 6
        }
      ]
    },
    {
      "cell_type": "code",
      "metadata": {
        "id": "7pzlG2CbT4g2"
      },
      "source": [
        "end_boundary = 199"
      ],
      "execution_count": 7,
      "outputs": []
    },
    {
      "cell_type": "code",
      "metadata": {
        "colab": {
          "base_uri": "https://localhost:8080/"
        },
        "id": "W3eVCg3MUA_F",
        "outputId": "7977a8e2-8a36-4632-f580-ea5adef90cec"
      },
      "source": [
        "q1.insert(len(q1),end_boundary)\n",
        "q1"
      ],
      "execution_count": 8,
      "outputs": [
        {
          "output_type": "execute_result",
          "data": {
            "text/plain": [
              "[0, 14, 37, 53, 65, 67, 98, 122, 124, 183, 199]"
            ]
          },
          "metadata": {
            "tags": []
          },
          "execution_count": 8
        }
      ]
    },
    {
      "cell_type": "code",
      "metadata": {
        "colab": {
          "base_uri": "https://localhost:8080/"
        },
        "id": "ng16gQ0pUDFu",
        "outputId": "28b08bed-9168-44d6-fef2-af5cd3d4c53b"
      },
      "source": [
        "q2 = q1[:q1.index(header)]\n",
        "q2"
      ],
      "execution_count": 9,
      "outputs": [
        {
          "output_type": "execute_result",
          "data": {
            "text/plain": [
              "[0, 14, 37]"
            ]
          },
          "metadata": {
            "tags": []
          },
          "execution_count": 9
        }
      ]
    },
    {
      "cell_type": "code",
      "metadata": {
        "colab": {
          "base_uri": "https://localhost:8080/"
        },
        "id": "FbY2JkTJUDl-",
        "outputId": "b9329246-a4c0-44f6-8327-52a2b1aa555a"
      },
      "source": [
        "q3 = q1[q1.index(header):]\n",
        "q3"
      ],
      "execution_count": 10,
      "outputs": [
        {
          "output_type": "execute_result",
          "data": {
            "text/plain": [
              "[53, 65, 67, 98, 122, 124, 183, 199]"
            ]
          },
          "metadata": {
            "tags": []
          },
          "execution_count": 10
        }
      ]
    },
    {
      "cell_type": "code",
      "metadata": {
        "colab": {
          "base_uri": "https://localhost:8080/"
        },
        "id": "cFuxoZlJUE32",
        "outputId": "df38b84a-a910-466a-db30-5b3a3081a64e"
      },
      "source": [
        "q4 = q3+q2\n",
        "print('The path is : ',q4)"
      ],
      "execution_count": 11,
      "outputs": [
        {
          "output_type": "stream",
          "text": [
            "The path is :  [53, 65, 67, 98, 122, 124, 183, 199, 0, 14, 37]\n"
          ],
          "name": "stdout"
        }
      ]
    },
    {
      "cell_type": "code",
      "metadata": {
        "colab": {
          "base_uri": "https://localhost:8080/"
        },
        "id": "cW3ti_UhUGd3",
        "outputId": "720c3482-ed3b-4bcf-fe7c-c51cdc390318"
      },
      "source": [
        "cost = []\n",
        "\n",
        "for i in range(len(q4)-1):\n",
        "    cost.append(abs(q4[i] - q4[i+1]))\n",
        "    if i == (len(q4)-2):\n",
        "        print('sub({}-{})'.format(q4[i],q4[i+1]))\n",
        "    else:\n",
        "        print('sub({}-{})'.format(q4[i],q4[i+1]),end='+')"
      ],
      "execution_count": 12,
      "outputs": [
        {
          "output_type": "stream",
          "text": [
            "sub(53-65)+sub(65-67)+sub(67-98)+sub(98-122)+sub(122-124)+sub(124-183)+sub(183-199)+sub(199-0)+sub(0-14)+sub(14-37)\n"
          ],
          "name": "stdout"
        }
      ]
    },
    {
      "cell_type": "code",
      "metadata": {
        "colab": {
          "base_uri": "https://localhost:8080/"
        },
        "id": "9nW95e4sUIk3",
        "outputId": "be810f9b-4182-4137-c53c-385b616e2702"
      },
      "source": [
        "print('The path cost is->',sum(cost))"
      ],
      "execution_count": 13,
      "outputs": [
        {
          "output_type": "stream",
          "text": [
            "The path cost is-> 382\n"
          ],
          "name": "stdout"
        }
      ]
    }
  ]
}