{
  "nbformat": 4,
  "nbformat_minor": 0,
  "metadata": {
    "colab": {
      "name": "Lab_Task_8.ipynb",
      "provenance": [],
      "collapsed_sections": [],
      "authorship_tag": "ABX9TyPSur+hLDDWwchiXA2yoGQq",
      "include_colab_link": true
    },
    "kernelspec": {
      "name": "python3",
      "display_name": "Python 3"
    },
    "language_info": {
      "name": "python"
    }
  },
  "cells": [
    {
      "cell_type": "markdown",
      "metadata": {
        "id": "view-in-github",
        "colab_type": "text"
      },
      "source": [
        "<a href=\"https://colab.research.google.com/github/Void-Brain70/OS/blob/main/Lab_Task_8.ipynb\" target=\"_parent\"><img src=\"https://colab.research.google.com/assets/colab-badge.svg\" alt=\"Open In Colab\"/></a>"
      ]
    },
    {
      "cell_type": "markdown",
      "metadata": {
        "id": "0ZXongCUf335"
      },
      "source": [
        "\n",
        "**C-SCAN Disk Scheduling Algorithm**\n",
        "\n"
      ]
    },
    {
      "cell_type": "code",
      "metadata": {
        "colab": {
          "base_uri": "https://localhost:8080/"
        },
        "id": "QxLQyAeBf1mg",
        "outputId": "f6e15260-9c0d-4549-ac3d-2760d64320ba"
      },
      "source": [
        "queue = list(map(int, input('Enter The sequence->').split()))\n",
        "head = int(input('Head Pointer->'))"
      ],
      "execution_count": null,
      "outputs": [
        {
          "output_type": "stream",
          "text": [
            "Enter The sequence->98 183 37 122 14 124 65 67\n",
            "Head Pointer->53\n"
          ],
          "name": "stdout"
        }
      ]
    },
    {
      "cell_type": "code",
      "metadata": {
        "colab": {
          "base_uri": "https://localhost:8080/"
        },
        "id": "e4ju6GqDgGZh",
        "outputId": "cf44b40b-d214-4c46-deb4-7c65eca77275"
      },
      "source": [
        "q1 = queue.copy()\n",
        "q1.append(head)\n",
        "q1.append(0)\n",
        "q1.sort()\n",
        "q1"
      ],
      "execution_count": null,
      "outputs": [
        {
          "output_type": "execute_result",
          "data": {
            "text/plain": [
              "[0, 14, 37, 53, 65, 67, 98, 122, 124, 183]"
            ]
          },
          "metadata": {},
          "execution_count": 2
        }
      ]
    },
    {
      "cell_type": "code",
      "metadata": {
        "colab": {
          "base_uri": "https://localhost:8080/"
        },
        "id": "5Mr3RY_rgIPh",
        "outputId": "fd022ad9-c5bf-4186-cc21-ca4aa5981776"
      },
      "source": [
        "q2 = q1[:q1.index(head)]\n",
        "q2.append(head)\n",
        "q2 = q2[::-1]\n",
        "q2"
      ],
      "execution_count": null,
      "outputs": [
        {
          "output_type": "execute_result",
          "data": {
            "text/plain": [
              "[53, 37, 14, 0]"
            ]
          },
          "metadata": {},
          "execution_count": 3
        }
      ]
    },
    {
      "cell_type": "code",
      "metadata": {
        "colab": {
          "base_uri": "https://localhost:8080/"
        },
        "id": "x2uogFyVgJ0a",
        "outputId": "e1b53295-2625-4529-83ed-6daa61f15e09"
      },
      "source": [
        "q3 = q1[q1.index(head):]\n",
        "q3.sort()\n",
        "q3[q3.index(head)]=0\n",
        "q3"
      ],
      "execution_count": null,
      "outputs": [
        {
          "output_type": "execute_result",
          "data": {
            "text/plain": [
              "[0, 65, 67, 98, 122, 124, 183]"
            ]
          },
          "metadata": {},
          "execution_count": 4
        }
      ]
    },
    {
      "cell_type": "code",
      "metadata": {
        "id": "4aeWLgcbgNqK"
      },
      "source": [
        "ending = 199"
      ],
      "execution_count": null,
      "outputs": []
    },
    {
      "cell_type": "code",
      "metadata": {
        "colab": {
          "base_uri": "https://localhost:8080/"
        },
        "id": "ZdxQQ7TbhWKj",
        "outputId": "47326eb1-65be-4e14-a132-d005e955a6f1"
      },
      "source": [
        "q1.insert(len(q1),ending)\n",
        "q1"
      ],
      "execution_count": null,
      "outputs": [
        {
          "output_type": "execute_result",
          "data": {
            "text/plain": [
              "[0, 14, 37, 53, 65, 67, 98, 122, 124, 183, 199]"
            ]
          },
          "metadata": {},
          "execution_count": 6
        }
      ]
    },
    {
      "cell_type": "code",
      "metadata": {
        "colab": {
          "base_uri": "https://localhost:8080/"
        },
        "id": "53a4GjPZgSO7",
        "outputId": "ccdbc3aa-d773-49c1-f38e-b7e621ceee8b"
      },
      "source": [
        "q2 = q1[:q1.index(head)]\n",
        "q2"
      ],
      "execution_count": null,
      "outputs": [
        {
          "output_type": "execute_result",
          "data": {
            "text/plain": [
              "[0, 14, 37]"
            ]
          },
          "metadata": {},
          "execution_count": 7
        }
      ]
    },
    {
      "cell_type": "code",
      "metadata": {
        "colab": {
          "base_uri": "https://localhost:8080/"
        },
        "id": "gMEB_IL1ga_s",
        "outputId": "44fcec4b-98a1-4cad-ebe8-8692530421d4"
      },
      "source": [
        "q3 = q1[q1.index(head):]\n",
        "q3"
      ],
      "execution_count": null,
      "outputs": [
        {
          "output_type": "execute_result",
          "data": {
            "text/plain": [
              "[53, 65, 67, 98, 122, 124, 183, 199]"
            ]
          },
          "metadata": {},
          "execution_count": 8
        }
      ]
    },
    {
      "cell_type": "code",
      "metadata": {
        "colab": {
          "base_uri": "https://localhost:8080/"
        },
        "id": "q3ozvaUzgdQU",
        "outputId": "596a45d2-323f-41e8-feef-7ab3fc48c0bd"
      },
      "source": [
        "q4 = q3+q2\n",
        "print('The Path is->',q4)"
      ],
      "execution_count": null,
      "outputs": [
        {
          "output_type": "stream",
          "text": [
            "The Path is-> [53, 65, 67, 98, 122, 124, 183, 199, 0, 14, 37]\n"
          ],
          "name": "stdout"
        }
      ]
    },
    {
      "cell_type": "code",
      "metadata": {
        "colab": {
          "base_uri": "https://localhost:8080/"
        },
        "id": "59WxmuRbghnU",
        "outputId": "de423706-280b-4684-ad58-d6a62cb0072a"
      },
      "source": [
        "cost = []\n",
        "\n",
        "for i in range(len(q4)-1):\n",
        "    cost.append(abs(q4[i] - q4[i+1]))\n",
        "    if i == (len(q4)-2):\n",
        "        print('sub({}-{})'.format(q4[i],q4[i+1]))\n",
        "    else:\n",
        "        print('sub({}-{})'.format(q4[i],q4[i+1]),end='+')"
      ],
      "execution_count": null,
      "outputs": [
        {
          "output_type": "stream",
          "text": [
            "sub(53-65)+sub(65-67)+sub(67-98)+sub(98-122)+sub(122-124)+sub(124-183)+sub(183-199)+sub(199-0)+sub(0-14)+sub(14-37)\n"
          ],
          "name": "stdout"
        }
      ]
    },
    {
      "cell_type": "code",
      "metadata": {
        "colab": {
          "base_uri": "https://localhost:8080/"
        },
        "id": "XhxSgoJCgkQ9",
        "outputId": "d196621d-88d4-4f53-af06-eaf19626794a"
      },
      "source": [
        "print('Total Path Cost is->',sum(cost))"
      ],
      "execution_count": null,
      "outputs": [
        {
          "output_type": "stream",
          "text": [
            "Total Path Cost is-> 382\n"
          ],
          "name": "stdout"
        }
      ]
    }
  ]
}