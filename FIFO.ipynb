{
  "nbformat": 4,
  "nbformat_minor": 0,
  "metadata": {
    "colab": {
      "name": "FIFO.ipynb",
      "provenance": [],
      "collapsed_sections": [],
      "authorship_tag": "ABX9TyOqnp9FeT3lKHEnzwfJCGfs",
      "include_colab_link": true
    },
    "kernelspec": {
      "name": "python3",
      "display_name": "Python 3"
    },
    "language_info": {
      "name": "python"
    }
  },
  "cells": [
    {
      "cell_type": "markdown",
      "metadata": {
        "id": "view-in-github",
        "colab_type": "text"
      },
      "source": [
        "<a href=\"https://colab.research.google.com/github/Void-Brain70/OS/blob/main/FIFO.ipynb\" target=\"_parent\"><img src=\"https://colab.research.google.com/assets/colab-badge.svg\" alt=\"Open In Colab\"/></a>"
      ]
    },
    {
      "cell_type": "code",
      "metadata": {
        "id": "Q4N6jpbj-VTH"
      },
      "source": [
        "print(\"Enter the number of frames: \",end=\"\")\n",
        "capacity = int(input())\n",
        "f,fault,top,pf = [],0,0,'No'\n",
        "print(\"Enter the reference string: \",end=\"\")\n",
        "s = list(map(int,input().strip().split()))\n",
        "print(\"\\nString|Frame →\\t\",end='')\n",
        "for i in range(capacity):\n",
        "    print(i,end=' ')\n",
        "print(\"Fault\\n   ↓\\n\")\n",
        "for i in s:\n",
        "    if i not in f:\n",
        "        if len(f)<capacity:\n",
        "            f.append(i)\n",
        "        else:\n",
        "            f[top] = i\n",
        "            top = (top+1)%capacity\n",
        "        fault += 1\n",
        "        pf = 'Yes'\n",
        "    else:\n",
        "        pf = 'No'\n",
        "    print(\"   %d\\t\\t\"%i,end='')\n",
        "    for x in f:\n",
        "        print(x,end=' ')\n",
        "    for x in range(capacity-len(f)):\n",
        "        print(' ',end=' ')\n",
        "    print(\" %s\"%pf)\n",
        "print(\"\\nTotal requests: %d\\nTotal Page Faults: %d\\nFault Rate: %0.2f%%\"%(len(s),fault,(fault/len(s))*100))"
      ],
      "execution_count": null,
      "outputs": []
    }
  ]
}